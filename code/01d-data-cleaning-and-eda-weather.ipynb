{
 "cells": [
  {
   "cell_type": "code",
   "execution_count": 1,
   "metadata": {
    "pycharm": {
     "name": "#%%\n"
    }
   },
   "outputs": [],
   "source": [
    "import pandas as pd\n",
    "import numpy as np\n",
    "import matplotlib.pyplot as plt\n",
    "import seaborn as sns\n",
    "from collections import Counter\n",
    "from sklearn.feature_extraction.text import CountVectorizer\n",
    "from math import ceil\n",
    "\n",
    "sns.set_style('whitegrid')\n",
    "%matplotlib inline"
   ]
  },
  {
   "cell_type": "markdown",
   "metadata": {},
   "source": [
    "## Weather "
   ]
  },
  {
   "cell_type": "code",
   "execution_count": 2,
   "metadata": {
    "pycharm": {
     "name": "#%%\n"
    }
   },
   "outputs": [],
   "source": [
    "weather_df = pd.read_csv('../data/weather.csv')"
   ]
  },
  {
   "cell_type": "code",
   "execution_count": 3,
   "metadata": {
    "pycharm": {
     "name": "#%%\n"
    }
   },
   "outputs": [
    {
     "data": {
      "text/plain": [
       "Index(['Station', 'Date', 'Tmax', 'Tmin', 'Tavg', 'Depart', 'DewPoint',\n",
       "       'WetBulb', 'Heat', 'Cool', 'Sunrise', 'Sunset', 'CodeSum', 'Depth',\n",
       "       'Water1', 'SnowFall', 'PrecipTotal', 'StnPressure', 'SeaLevel',\n",
       "       'ResultSpeed', 'ResultDir', 'AvgSpeed'],\n",
       "      dtype='object')"
      ]
     },
     "execution_count": 3,
     "metadata": {},
     "output_type": "execute_result"
    }
   ],
   "source": [
    "weather_df.columns"
   ]
  },
  {
   "cell_type": "code",
   "execution_count": 4,
   "metadata": {
    "pycharm": {
     "name": "#%%\n"
    }
   },
   "outputs": [
    {
     "data": {
      "text/html": [
       "<div>\n",
       "<style scoped>\n",
       "    .dataframe tbody tr th:only-of-type {\n",
       "        vertical-align: middle;\n",
       "    }\n",
       "\n",
       "    .dataframe tbody tr th {\n",
       "        vertical-align: top;\n",
       "    }\n",
       "\n",
       "    .dataframe thead th {\n",
       "        text-align: right;\n",
       "    }\n",
       "</style>\n",
       "<table border=\"1\" class=\"dataframe\">\n",
       "  <thead>\n",
       "    <tr style=\"text-align: right;\">\n",
       "      <th></th>\n",
       "      <th>Station</th>\n",
       "      <th>Date</th>\n",
       "      <th>Tmax</th>\n",
       "      <th>Tmin</th>\n",
       "      <th>Tavg</th>\n",
       "      <th>Depart</th>\n",
       "      <th>DewPoint</th>\n",
       "      <th>WetBulb</th>\n",
       "      <th>Heat</th>\n",
       "      <th>Cool</th>\n",
       "      <th>...</th>\n",
       "      <th>CodeSum</th>\n",
       "      <th>Depth</th>\n",
       "      <th>Water1</th>\n",
       "      <th>SnowFall</th>\n",
       "      <th>PrecipTotal</th>\n",
       "      <th>StnPressure</th>\n",
       "      <th>SeaLevel</th>\n",
       "      <th>ResultSpeed</th>\n",
       "      <th>ResultDir</th>\n",
       "      <th>AvgSpeed</th>\n",
       "    </tr>\n",
       "  </thead>\n",
       "  <tbody>\n",
       "    <tr>\n",
       "      <th>0</th>\n",
       "      <td>1</td>\n",
       "      <td>2007-05-01</td>\n",
       "      <td>83</td>\n",
       "      <td>50</td>\n",
       "      <td>67</td>\n",
       "      <td>14</td>\n",
       "      <td>51</td>\n",
       "      <td>56</td>\n",
       "      <td>0</td>\n",
       "      <td>2</td>\n",
       "      <td>...</td>\n",
       "      <td></td>\n",
       "      <td>0</td>\n",
       "      <td>M</td>\n",
       "      <td>0.0</td>\n",
       "      <td>0.00</td>\n",
       "      <td>29.10</td>\n",
       "      <td>29.82</td>\n",
       "      <td>1.7</td>\n",
       "      <td>27</td>\n",
       "      <td>9.2</td>\n",
       "    </tr>\n",
       "    <tr>\n",
       "      <th>1</th>\n",
       "      <td>2</td>\n",
       "      <td>2007-05-01</td>\n",
       "      <td>84</td>\n",
       "      <td>52</td>\n",
       "      <td>68</td>\n",
       "      <td>M</td>\n",
       "      <td>51</td>\n",
       "      <td>57</td>\n",
       "      <td>0</td>\n",
       "      <td>3</td>\n",
       "      <td>...</td>\n",
       "      <td></td>\n",
       "      <td>M</td>\n",
       "      <td>M</td>\n",
       "      <td>M</td>\n",
       "      <td>0.00</td>\n",
       "      <td>29.18</td>\n",
       "      <td>29.82</td>\n",
       "      <td>2.7</td>\n",
       "      <td>25</td>\n",
       "      <td>9.6</td>\n",
       "    </tr>\n",
       "    <tr>\n",
       "      <th>2</th>\n",
       "      <td>1</td>\n",
       "      <td>2007-05-02</td>\n",
       "      <td>59</td>\n",
       "      <td>42</td>\n",
       "      <td>51</td>\n",
       "      <td>-3</td>\n",
       "      <td>42</td>\n",
       "      <td>47</td>\n",
       "      <td>14</td>\n",
       "      <td>0</td>\n",
       "      <td>...</td>\n",
       "      <td>BR</td>\n",
       "      <td>0</td>\n",
       "      <td>M</td>\n",
       "      <td>0.0</td>\n",
       "      <td>0.00</td>\n",
       "      <td>29.38</td>\n",
       "      <td>30.09</td>\n",
       "      <td>13.0</td>\n",
       "      <td>4</td>\n",
       "      <td>13.4</td>\n",
       "    </tr>\n",
       "    <tr>\n",
       "      <th>3</th>\n",
       "      <td>2</td>\n",
       "      <td>2007-05-02</td>\n",
       "      <td>60</td>\n",
       "      <td>43</td>\n",
       "      <td>52</td>\n",
       "      <td>M</td>\n",
       "      <td>42</td>\n",
       "      <td>47</td>\n",
       "      <td>13</td>\n",
       "      <td>0</td>\n",
       "      <td>...</td>\n",
       "      <td>BR HZ</td>\n",
       "      <td>M</td>\n",
       "      <td>M</td>\n",
       "      <td>M</td>\n",
       "      <td>0.00</td>\n",
       "      <td>29.44</td>\n",
       "      <td>30.08</td>\n",
       "      <td>13.3</td>\n",
       "      <td>2</td>\n",
       "      <td>13.4</td>\n",
       "    </tr>\n",
       "    <tr>\n",
       "      <th>4</th>\n",
       "      <td>1</td>\n",
       "      <td>2007-05-03</td>\n",
       "      <td>66</td>\n",
       "      <td>46</td>\n",
       "      <td>56</td>\n",
       "      <td>2</td>\n",
       "      <td>40</td>\n",
       "      <td>48</td>\n",
       "      <td>9</td>\n",
       "      <td>0</td>\n",
       "      <td>...</td>\n",
       "      <td></td>\n",
       "      <td>0</td>\n",
       "      <td>M</td>\n",
       "      <td>0.0</td>\n",
       "      <td>0.00</td>\n",
       "      <td>29.39</td>\n",
       "      <td>30.12</td>\n",
       "      <td>11.7</td>\n",
       "      <td>7</td>\n",
       "      <td>11.9</td>\n",
       "    </tr>\n",
       "  </tbody>\n",
       "</table>\n",
       "<p>5 rows × 22 columns</p>\n",
       "</div>"
      ],
      "text/plain": [
       "   Station        Date  Tmax  Tmin Tavg Depart  DewPoint WetBulb Heat Cool  \\\n",
       "0        1  2007-05-01    83    50   67     14        51      56    0    2   \n",
       "1        2  2007-05-01    84    52   68      M        51      57    0    3   \n",
       "2        1  2007-05-02    59    42   51     -3        42      47   14    0   \n",
       "3        2  2007-05-02    60    43   52      M        42      47   13    0   \n",
       "4        1  2007-05-03    66    46   56      2        40      48    9    0   \n",
       "\n",
       "   ... CodeSum Depth Water1 SnowFall PrecipTotal StnPressure SeaLevel  \\\n",
       "0  ...             0      M      0.0        0.00       29.10    29.82   \n",
       "1  ...             M      M        M        0.00       29.18    29.82   \n",
       "2  ...      BR     0      M      0.0        0.00       29.38    30.09   \n",
       "3  ...   BR HZ     M      M        M        0.00       29.44    30.08   \n",
       "4  ...             0      M      0.0        0.00       29.39    30.12   \n",
       "\n",
       "  ResultSpeed ResultDir  AvgSpeed  \n",
       "0         1.7        27       9.2  \n",
       "1         2.7        25       9.6  \n",
       "2        13.0         4      13.4  \n",
       "3        13.3         2      13.4  \n",
       "4        11.7         7      11.9  \n",
       "\n",
       "[5 rows x 22 columns]"
      ]
     },
     "execution_count": 4,
     "metadata": {},
     "output_type": "execute_result"
    }
   ],
   "source": [
    "weather_df.head()"
   ]
  },
  {
   "cell_type": "code",
   "execution_count": 5,
   "metadata": {},
   "outputs": [
    {
     "data": {
      "text/plain": [
       "(2944, 22)"
      ]
     },
     "execution_count": 5,
     "metadata": {},
     "output_type": "execute_result"
    }
   ],
   "source": [
    "weather_df.shape"
   ]
  },
  {
   "cell_type": "code",
   "execution_count": 6,
   "metadata": {},
   "outputs": [
    {
     "data": {
      "text/plain": [
       "(2944, 22)"
      ]
     },
     "execution_count": 6,
     "metadata": {},
     "output_type": "execute_result"
    }
   ],
   "source": [
    "weather_df.drop_duplicates().shape"
   ]
  },
  {
   "cell_type": "markdown",
   "metadata": {},
   "source": [
    "No duplicates."
   ]
  },
  {
   "cell_type": "code",
   "execution_count": 7,
   "metadata": {
    "pycharm": {
     "name": "#%%\n"
    }
   },
   "outputs": [
    {
     "data": {
      "text/plain": [
       "Station        0\n",
       "Date           0\n",
       "Tmax           0\n",
       "Tmin           0\n",
       "Tavg           0\n",
       "Depart         0\n",
       "DewPoint       0\n",
       "WetBulb        0\n",
       "Heat           0\n",
       "Cool           0\n",
       "Sunrise        0\n",
       "Sunset         0\n",
       "CodeSum        0\n",
       "Depth          0\n",
       "Water1         0\n",
       "SnowFall       0\n",
       "PrecipTotal    0\n",
       "StnPressure    0\n",
       "SeaLevel       0\n",
       "ResultSpeed    0\n",
       "ResultDir      0\n",
       "AvgSpeed       0\n",
       "dtype: int64"
      ]
     },
     "execution_count": 7,
     "metadata": {},
     "output_type": "execute_result"
    }
   ],
   "source": [
    "weather_df.isnull().sum()"
   ]
  },
  {
   "cell_type": "markdown",
   "metadata": {},
   "source": [
    "No null value in any column. Warrants investigation."
   ]
  },
  {
   "cell_type": "code",
   "execution_count": 8,
   "metadata": {
    "pycharm": {
     "name": "#%%\n"
    }
   },
   "outputs": [
    {
     "data": {
      "text/plain": [
       "Station          int64\n",
       "Date            object\n",
       "Tmax             int64\n",
       "Tmin             int64\n",
       "Tavg            object\n",
       "Depart          object\n",
       "DewPoint         int64\n",
       "WetBulb         object\n",
       "Heat            object\n",
       "Cool            object\n",
       "Sunrise         object\n",
       "Sunset          object\n",
       "CodeSum         object\n",
       "Depth           object\n",
       "Water1          object\n",
       "SnowFall        object\n",
       "PrecipTotal     object\n",
       "StnPressure     object\n",
       "SeaLevel        object\n",
       "ResultSpeed    float64\n",
       "ResultDir        int64\n",
       "AvgSpeed        object\n",
       "dtype: object"
      ]
     },
     "execution_count": 8,
     "metadata": {},
     "output_type": "execute_result"
    }
   ],
   "source": [
    "weather_df.dtypes"
   ]
  },
  {
   "cell_type": "code",
   "execution_count": 9,
   "metadata": {
    "pycharm": {
     "name": "#%%\n"
    }
   },
   "outputs": [],
   "source": [
    "def get_int_list(col):\n",
    "    int_list = []\n",
    "    for i in col:\n",
    "        try:\n",
    "            int_list.append(float(i))\n",
    "        except ValueError:\n",
    "            pass\n",
    "            \n",
    "    return int_list\n",
    "\n",
    "def get_non_int_list(col):\n",
    "    non_int_list = []\n",
    "    for i in col:\n",
    "        try:\n",
    "            int(i)\n",
    "        except ValueError:\n",
    "            non_int_list.append(i)\n",
    "            \n",
    "    return non_int_list\n",
    "\n",
    "def get_float_list(col):\n",
    "    float_list = []\n",
    "    for i in col:\n",
    "        try:\n",
    "            float_list.append(float(i))\n",
    "        except ValueError:\n",
    "            pass\n",
    "            \n",
    "    return float_list\n",
    "\n",
    "def get_non_float_list(col):\n",
    "    non_float_list = []\n",
    "    for i in col:\n",
    "        try:\n",
    "            float(i)\n",
    "        except ValueError:\n",
    "            non_float_list.append(i)\n",
    "            \n",
    "    return non_float_list\n",
    "\n",
    "def to_int(value):\n",
    "    try:\n",
    "        converted_to_int = int(value)\n",
    "        return converted_to_int\n",
    "    except ValueError:\n",
    "        # print(value)\n",
    "        return np.nan\n",
    "    \n",
    "def to_float(value):\n",
    "    try:\n",
    "        return float(value)\n",
    "    except ValueError:\n",
    "        return value.strip()\n",
    "    \n",
    "def to_na(value):\n",
    "    if value == 'M':\n",
    "        return np.nan\n",
    "    else:\n",
    "        return value"
   ]
  },
  {
   "cell_type": "markdown",
   "metadata": {},
   "source": [
    "## Station"
   ]
  },
  {
   "cell_type": "code",
   "execution_count": 10,
   "metadata": {
    "pycharm": {
     "name": "#%%\n"
    }
   },
   "outputs": [
    {
     "data": {
      "text/plain": [
       "1    1472\n",
       "2    1472\n",
       "Name: Station, dtype: int64"
      ]
     },
     "execution_count": 10,
     "metadata": {},
     "output_type": "execute_result"
    }
   ],
   "source": [
    "weather_df['Station'].value_counts(dropna=False)"
   ]
  },
  {
   "cell_type": "code",
   "execution_count": 11,
   "metadata": {},
   "outputs": [
    {
     "data": {
      "image/png": "[encoded data removed]",
      "text/plain": [
       "<Figure size 504x360 with 1 Axes>"
      ]
     },
     "metadata": {
      "needs_background": "light"
     },
     "output_type": "display_data"
    }
   ],
   "source": [
    "plt.figure(figsize=(7, 5))\n",
    "sns.countplot(x='Station', data=weather_df)\n",
    "\n",
    "plt.title('Barplot of Station', fontsize=12)\n",
    "plt.xlabel('Station', fontsize=12)\n",
    "plt.ylabel('Count', fontsize=12)\n",
    "plt.savefig('../images/1_bar_station.png', transparent=True)"
   ]
  },
  {
   "cell_type": "markdown",
   "metadata": {},
   "source": [
    "## Date"
   ]
  },
  {
   "cell_type": "code",
   "execution_count": 12,
   "metadata": {
    "pycharm": {
     "name": "#%%\n"
    }
   },
   "outputs": [],
   "source": [
    "weather_df['Date'] = pd.to_datetime(weather_df['Date'])"
   ]
  },
  {
   "cell_type": "code",
   "execution_count": 13,
   "metadata": {
    "pycharm": {
     "name": "#%%\n"
    }
   },
   "outputs": [
    {
     "data": {
      "text/plain": [
       "0"
      ]
     },
     "execution_count": 13,
     "metadata": {},
     "output_type": "execute_result"
    }
   ],
   "source": [
    "weather_df['Date'].isnull().sum()"
   ]
  },
  {
   "cell_type": "code",
   "execution_count": 14,
   "metadata": {
    "pycharm": {
     "name": "#%%\n"
    }
   },
   "outputs": [
    {
     "name": "stdout",
     "output_type": "stream",
     "text": [
      "Earliest Date: 2007-05-01 00:00:00\n",
      "Latest Date: 2014-10-31 00:00:00\n"
     ]
    }
   ],
   "source": [
    "print(\"Earliest Date:\", weather_df['Date'].min())\n",
    "print(\"Latest Date:\", weather_df['Date'].max())"
   ]
  },
  {
   "cell_type": "code",
   "execution_count": 15,
   "metadata": {
    "pycharm": {
     "name": "#%%\n"
    }
   },
   "outputs": [
    {
     "data": {
      "text/plain": [
       "2007    368\n",
       "2008    368\n",
       "2009    368\n",
       "2010    368\n",
       "2011    368\n",
       "2012    368\n",
       "2013    368\n",
       "2014    368\n",
       "Name: Date, dtype: int64"
      ]
     },
     "execution_count": 15,
     "metadata": {},
     "output_type": "execute_result"
    }
   ],
   "source": [
    "pd.DatetimeIndex(weather_df['Date']).year.value_counts().sort_index()"
   ]
  },
  {
   "cell_type": "code",
   "execution_count": 16,
   "metadata": {
    "pycharm": {
     "name": "#%%\n"
    }
   },
   "outputs": [
    {
     "data": {
      "text/plain": [
       "5     496\n",
       "6     480\n",
       "7     496\n",
       "8     496\n",
       "9     480\n",
       "10    496\n",
       "Name: Date, dtype: int64"
      ]
     },
     "execution_count": 16,
     "metadata": {},
     "output_type": "execute_result"
    }
   ],
   "source": [
    "pd.DatetimeIndex(weather_df['Date']).month.value_counts().sort_index()"
   ]
  },
  {
   "cell_type": "code",
   "execution_count": 17,
   "metadata": {
    "pycharm": {
     "name": "#%%\n"
    }
   },
   "outputs": [
    {
     "data": {
      "text/plain": [
       "1     96\n",
       "2     96\n",
       "3     96\n",
       "4     96\n",
       "5     96\n",
       "6     96\n",
       "7     96\n",
       "8     96\n",
       "9     96\n",
       "10    96\n",
       "11    96\n",
       "12    96\n",
       "13    96\n",
       "14    96\n",
       "15    96\n",
       "16    96\n",
       "17    96\n",
       "18    96\n",
       "19    96\n",
       "20    96\n",
       "21    96\n",
       "22    96\n",
       "23    96\n",
       "24    96\n",
       "25    96\n",
       "26    96\n",
       "27    96\n",
       "28    96\n",
       "29    96\n",
       "30    96\n",
       "31    64\n",
       "Name: Date, dtype: int64"
      ]
     },
     "execution_count": 17,
     "metadata": {},
     "output_type": "execute_result"
    }
   ],
   "source": [
    "pd.DatetimeIndex(weather_df['Date']).day.value_counts().sort_index()"
   ]
  },
  {
   "cell_type": "code",
   "execution_count": 18,
   "metadata": {},
   "outputs": [],
   "source": [
    "weather_df.rename(columns = {'Date': 'CalendarDate'}, inplace=True)"
   ]
  },
  {
   "cell_type": "code",
   "execution_count": 19,
   "metadata": {},
   "outputs": [],
   "source": [
    "# Year\n",
    "weather_df['Year'] = pd.DatetimeIndex(weather_df['CalendarDate']).year\n",
    "\n",
    "# Month\n",
    "weather_df['Month'] = pd.DatetimeIndex(weather_df['CalendarDate']).month\n",
    "\n",
    "# Date\n",
    "weather_df['Date'] = pd.DatetimeIndex(weather_df['CalendarDate']).day"
   ]
  },
  {
   "cell_type": "code",
   "execution_count": 20,
   "metadata": {},
   "outputs": [
    {
     "data": {
      "text/html": [
       "<div>\n",
       "<style scoped>\n",
       "    .dataframe tbody tr th:only-of-type {\n",
       "        vertical-align: middle;\n",
       "    }\n",
       "\n",
       "    .dataframe tbody tr th {\n",
       "        vertical-align: top;\n",
       "    }\n",
       "\n",
       "    .dataframe thead th {\n",
       "        text-align: right;\n",
       "    }\n",
       "</style>\n",
       "<table border=\"1\" class=\"dataframe\">\n",
       "  <thead>\n",
       "    <tr style=\"text-align: right;\">\n",
       "      <th></th>\n",
       "      <th>Station</th>\n",
       "      <th>CalendarDate</th>\n",
       "      <th>Tmax</th>\n",
       "      <th>Tmin</th>\n",
       "      <th>Tavg</th>\n",
       "      <th>Depart</th>\n",
       "      <th>DewPoint</th>\n",
       "      <th>WetBulb</th>\n",
       "      <th>Heat</th>\n",
       "      <th>Cool</th>\n",
       "      <th>...</th>\n",
       "      <th>SnowFall</th>\n",
       "      <th>PrecipTotal</th>\n",
       "      <th>StnPressure</th>\n",
       "      <th>SeaLevel</th>\n",
       "      <th>ResultSpeed</th>\n",
       "      <th>ResultDir</th>\n",
       "      <th>AvgSpeed</th>\n",
       "      <th>Year</th>\n",
       "      <th>Month</th>\n",
       "      <th>Date</th>\n",
       "    </tr>\n",
       "  </thead>\n",
       "  <tbody>\n",
       "    <tr>\n",
       "      <th>6</th>\n",
       "      <td>1</td>\n",
       "      <td>2007-05-04</td>\n",
       "      <td>66</td>\n",
       "      <td>49</td>\n",
       "      <td>58</td>\n",
       "      <td>4</td>\n",
       "      <td>41</td>\n",
       "      <td>50</td>\n",
       "      <td>7</td>\n",
       "      <td>0</td>\n",
       "      <td>...</td>\n",
       "      <td>0.0</td>\n",
       "      <td>T</td>\n",
       "      <td>29.31</td>\n",
       "      <td>30.05</td>\n",
       "      <td>10.4</td>\n",
       "      <td>8</td>\n",
       "      <td>10.8</td>\n",
       "      <td>2007</td>\n",
       "      <td>5</td>\n",
       "      <td>4</td>\n",
       "    </tr>\n",
       "    <tr>\n",
       "      <th>7</th>\n",
       "      <td>2</td>\n",
       "      <td>2007-05-04</td>\n",
       "      <td>78</td>\n",
       "      <td>51</td>\n",
       "      <td>M</td>\n",
       "      <td>M</td>\n",
       "      <td>42</td>\n",
       "      <td>50</td>\n",
       "      <td>M</td>\n",
       "      <td>M</td>\n",
       "      <td>...</td>\n",
       "      <td>M</td>\n",
       "      <td>0.00</td>\n",
       "      <td>29.36</td>\n",
       "      <td>30.04</td>\n",
       "      <td>10.1</td>\n",
       "      <td>7</td>\n",
       "      <td>10.4</td>\n",
       "      <td>2007</td>\n",
       "      <td>5</td>\n",
       "      <td>4</td>\n",
       "    </tr>\n",
       "  </tbody>\n",
       "</table>\n",
       "<p>2 rows × 25 columns</p>\n",
       "</div>"
      ],
      "text/plain": [
       "   Station CalendarDate  Tmax  Tmin Tavg Depart  DewPoint WetBulb Heat Cool  \\\n",
       "6        1   2007-05-04    66    49   58      4        41      50    7    0   \n",
       "7        2   2007-05-04    78    51    M      M        42      50    M    M   \n",
       "\n",
       "   ... SnowFall PrecipTotal StnPressure SeaLevel ResultSpeed ResultDir  \\\n",
       "6  ...      0.0           T       29.31    30.05        10.4         8   \n",
       "7  ...        M        0.00       29.36    30.04        10.1         7   \n",
       "\n",
       "  AvgSpeed  Year Month  Date  \n",
       "6     10.8  2007     5     4  \n",
       "7     10.4  2007     5     4  \n",
       "\n",
       "[2 rows x 25 columns]"
      ]
     },
     "execution_count": 20,
     "metadata": {},
     "output_type": "execute_result"
    }
   ],
   "source": [
    "weather_df[weather_df['CalendarDate'] == '2007-05-04']"
   ]
  },
  {
   "cell_type": "markdown",
   "metadata": {},
   "source": [
    "## Tmax"
   ]
  },
  {
   "cell_type": "code",
   "execution_count": 21,
   "metadata": {
    "pycharm": {
     "name": "#%%\n"
    }
   },
   "outputs": [
    {
     "data": {
      "text/plain": [
       "0"
      ]
     },
     "execution_count": 21,
     "metadata": {},
     "output_type": "execute_result"
    }
   ],
   "source": [
    "weather_df['Tmax'].isnull().sum()"
   ]
  },
  {
   "cell_type": "code",
   "execution_count": 22,
   "metadata": {
    "pycharm": {
     "name": "#%%\n"
    }
   },
   "outputs": [
    {
     "name": "stdout",
     "output_type": "stream",
     "text": [
      "Index: 1973 Tmax: 104\n",
      "Index: 2557 Tmax: 41\n"
     ]
    }
   ],
   "source": [
    "print(\"Index:\", weather_df['Tmax'].idxmax(), \"Tmax:\", weather_df['Tmax'].max())\n",
    "print(\"Index:\", weather_df['Tmax'].idxmin(), \"Tmax:\", weather_df['Tmax'].min())"
   ]
  },
  {
   "cell_type": "code",
   "execution_count": 23,
   "metadata": {
    "pycharm": {
     "name": "#%%\n"
    }
   },
   "outputs": [
    {
     "data": {
      "image/png": "[encoded data removed]",
      "text/plain": [
       "<Figure size 720x864 with 1 Axes>"
      ]
     },
     "metadata": {
      "needs_background": "light"
     },
     "output_type": "display_data"
    }
   ],
   "source": [
    "# Plot barchart\n",
    "plt.figure(figsize=(10, 12))\n",
    "sns.countplot(y='Tmax', data=weather_df, orient='v')\n",
    "\n",
    "plt.title('Barplot of Tmax', fontsize=12)\n",
    "plt.xlabel('Count', fontsize=12)\n",
    "plt.ylabel('Tmax', fontsize=12)\n",
    "plt.savefig('../images/2_bar_tmax.png', transparent=True)"
   ]
  },
  {
   "cell_type": "markdown",
   "metadata": {},
   "source": [
    "## Tmin"
   ]
  },
  {
   "cell_type": "code",
   "execution_count": 24,
   "metadata": {
    "pycharm": {
     "name": "#%%\n"
    }
   },
   "outputs": [
    {
     "data": {
      "text/plain": [
       "0"
      ]
     },
     "execution_count": 24,
     "metadata": {},
     "output_type": "execute_result"
    }
   ],
   "source": [
    "weather_df['Tmin'].isnull().sum()"
   ]
  },
  {
   "cell_type": "code",
   "execution_count": 25,
   "metadata": {
    "pycharm": {
     "name": "#%%\n"
    }
   },
   "outputs": [
    {
     "name": "stdout",
     "output_type": "stream",
     "text": [
      "Index: 1973 Tmin: 83\n",
      "Index: 1062 Tmin: 29\n"
     ]
    }
   ],
   "source": [
    "print(\"Index:\", weather_df['Tmin'].idxmax(), \"Tmin:\", weather_df['Tmin'].max())\n",
    "print(\"Index:\", weather_df['Tmin'].idxmin(), \"Tmin:\", weather_df['Tmin'].min())"
   ]
  },
  {
   "cell_type": "code",
   "execution_count": 26,
   "metadata": {
    "pycharm": {
     "name": "#%%\n"
    }
   },
   "outputs": [
    {
     "data": {
      "image/png": "[encoded data removed]",
      "text/plain": [
       "<Figure size 720x864 with 1 Axes>"
      ]
     },
     "metadata": {
      "needs_background": "light"
     },
     "output_type": "display_data"
    }
   ],
   "source": [
    "# Plot barchart\n",
    "plt.figure(figsize=(10, 12))\n",
    "sns.countplot(y='Tmin', data=weather_df, orient='v')\n",
    "\n",
    "plt.title('Barplot of Tmin', fontsize=12)\n",
    "plt.xlabel('Count', fontsize=12)\n",
    "plt.ylabel('Tmin', fontsize=12)\n",
    "plt.savefig('../images/3_bar_tmin.png', transparent=True)"
   ]
  },
  {
   "cell_type": "markdown",
   "metadata": {},
   "source": [
    "## Tavg"
   ]
  },
  {
   "cell_type": "code",
   "execution_count": 27,
   "metadata": {
    "pycharm": {
     "name": "#%%\n"
    }
   },
   "outputs": [
    {
     "data": {
      "text/plain": [
       "0    67\n",
       "1    68\n",
       "2    51\n",
       "3    52\n",
       "4    56\n",
       "Name: Tavg, dtype: object"
      ]
     },
     "execution_count": 27,
     "metadata": {},
     "output_type": "execute_result"
    }
   ],
   "source": [
    "weather_df['Tavg'].head()"
   ]
  },
  {
   "cell_type": "code",
   "execution_count": 28,
   "metadata": {
    "pycharm": {
     "name": "#%%\n"
    }
   },
   "outputs": [
    {
     "name": "stdout",
     "output_type": "stream",
     "text": [
      "dict_keys(['M'])\n"
     ]
    },
    {
     "data": {
      "text/plain": [
       "dict_values([11])"
      ]
     },
     "execution_count": 28,
     "metadata": {},
     "output_type": "execute_result"
    }
   ],
   "source": [
    "non_int_list = get_non_int_list(weather_df['Tavg'])\n",
    "print(Counter(non_int_list).keys())\n",
    "Counter(non_int_list).values()"
   ]
  },
  {
   "cell_type": "code",
   "execution_count": 29,
   "metadata": {
    "pycharm": {
     "name": "#%%\n"
    }
   },
   "outputs": [],
   "source": [
    "weather_df['Tavg'] = weather_df['Tavg'].map(to_int)\n",
    "weather_df['Tavg'] = weather_df['Tavg'].astype('Int64')"
   ]
  },
  {
   "cell_type": "code",
   "execution_count": 30,
   "metadata": {
    "pycharm": {
     "name": "#%%\n"
    }
   },
   "outputs": [
    {
     "data": {
      "text/plain": [
       "11"
      ]
     },
     "execution_count": 30,
     "metadata": {},
     "output_type": "execute_result"
    }
   ],
   "source": [
    "weather_df['Tavg'].isnull().sum()"
   ]
  },
  {
   "cell_type": "code",
   "execution_count": 31,
   "metadata": {
    "pycharm": {
     "name": "#%%\n"
    }
   },
   "outputs": [
    {
     "data": {
      "image/png": "[encoded data removed]",
      "text/plain": [
       "<Figure size 720x864 with 1 Axes>"
      ]
     },
     "metadata": {
      "needs_background": "light"
     },
     "output_type": "display_data"
    }
   ],
   "source": [
    "# Plot barchart\n",
    "# see if na values are factored in\n",
    "\n",
    "plt.figure(figsize=(10, 12))\n",
    "sns.countplot(y='Tavg', data=weather_df, orient='v')\n",
    "\n",
    "plt.title('Barplot of Tavg', fontsize=12)\n",
    "plt.xlabel('Count', fontsize=12)\n",
    "plt.ylabel('Tavg', fontsize=12)\n",
    "plt.savefig('../images/4_bar_tavg.png', transparent=True)"
   ]
  },
  {
   "cell_type": "markdown",
   "metadata": {},
   "source": [
    "## Depart"
   ]
  },
  {
   "cell_type": "code",
   "execution_count": 32,
   "metadata": {
    "pycharm": {
     "name": "#%%\n"
    }
   },
   "outputs": [
    {
     "data": {
      "text/plain": [
       "0    14\n",
       "1     M\n",
       "2    -3\n",
       "3     M\n",
       "4     2\n",
       "Name: Depart, dtype: object"
      ]
     },
     "execution_count": 32,
     "metadata": {},
     "output_type": "execute_result"
    }
   ],
   "source": [
    "weather_df['Depart'].head()"
   ]
  },
  {
   "cell_type": "code",
   "execution_count": 33,
   "metadata": {
    "pycharm": {
     "name": "#%%\n"
    }
   },
   "outputs": [
    {
     "data": {
      "text/plain": [
       "[(-17.0, 2),\n",
       " (-16.0, 3),\n",
       " (-15.0, 3),\n",
       " (-14.0, 6),\n",
       " (-13.0, 5),\n",
       " (-12.0, 8),\n",
       " (-11.0, 10),\n",
       " (-10.0, 22),\n",
       " (-9.0, 25),\n",
       " (-8.0, 43),\n",
       " (-7.0, 30),\n",
       " (-6.0, 50),\n",
       " (-5.0, 57),\n",
       " (-4.0, 56),\n",
       " (-3.0, 72),\n",
       " (-2.0, 80),\n",
       " (-1.0, 84),\n",
       " (0.0, 74),\n",
       " (1.0, 76),\n",
       " (2.0, 93),\n",
       " (3.0, 75),\n",
       " (4.0, 71),\n",
       " (5.0, 77),\n",
       " (6.0, 67),\n",
       " (7.0, 76),\n",
       " (8.0, 59),\n",
       " (9.0, 47),\n",
       " (10.0, 46),\n",
       " (11.0, 28),\n",
       " (12.0, 28),\n",
       " (13.0, 23),\n",
       " (14.0, 22),\n",
       " (15.0, 15),\n",
       " (16.0, 12),\n",
       " (17.0, 7),\n",
       " (18.0, 6),\n",
       " (19.0, 4),\n",
       " (20.0, 4),\n",
       " (21.0, 2),\n",
       " (22.0, 3),\n",
       " (23.0, 1)]"
      ]
     },
     "execution_count": 33,
     "metadata": {},
     "output_type": "execute_result"
    }
   ],
   "source": [
    "int_list = get_int_list(weather_df['Depart'])\n",
    "key_value_list = list(zip(Counter(int_list).keys(), Counter(int_list).values()))\n",
    "sorted(key_value_list, key=lambda x: x[0])"
   ]
  },
  {
   "cell_type": "code",
   "execution_count": 34,
   "metadata": {
    "pycharm": {
     "name": "#%%\n"
    }
   },
   "outputs": [
    {
     "name": "stdout",
     "output_type": "stream",
     "text": [
      "dict_keys(['M'])\n"
     ]
    },
    {
     "data": {
      "text/plain": [
       "dict_values([1472])"
      ]
     },
     "execution_count": 34,
     "metadata": {},
     "output_type": "execute_result"
    }
   ],
   "source": [
    "non_int_list = get_non_int_list(weather_df['Depart'])\n",
    "print(Counter(non_int_list).keys())\n",
    "Counter(non_int_list).values()"
   ]
  },
  {
   "cell_type": "code",
   "execution_count": 35,
   "metadata": {
    "pycharm": {
     "name": "#%%\n"
    }
   },
   "outputs": [],
   "source": [
    "weather_df['Depart'] = weather_df['Depart'].map(to_int)\n",
    "weather_df['Depart'] = weather_df['Depart'].astype('Int64')"
   ]
  },
  {
   "cell_type": "code",
   "execution_count": 36,
   "metadata": {
    "pycharm": {
     "name": "#%%\n"
    }
   },
   "outputs": [
    {
     "data": {
      "text/plain": [
       "1472"
      ]
     },
     "execution_count": 36,
     "metadata": {},
     "output_type": "execute_result"
    }
   ],
   "source": [
    "weather_df['Depart'].isnull().sum()"
   ]
  },
  {
   "cell_type": "code",
   "execution_count": 37,
   "metadata": {
    "pycharm": {
     "name": "#%%\n"
    }
   },
   "outputs": [
    {
     "data": {
      "image/png": "[encoded data removed]",
      "text/plain": [
       "<Figure size 720x864 with 1 Axes>"
      ]
     },
     "metadata": {
      "needs_background": "light"
     },
     "output_type": "display_data"
    }
   ],
   "source": [
    "# Plot barchart\n",
    "\n",
    "plt.figure(figsize=(10, 12))\n",
    "sns.countplot(y='Depart', data=weather_df, orient='v')\n",
    "\n",
    "plt.title('Barplot of Depart', fontsize=12)\n",
    "plt.xlabel('Count', fontsize=12)\n",
    "plt.ylabel('Depart', fontsize=12)\n",
    "plt.savefig('../images/5_bar_depart.png', transparent=True)"
   ]
  },
  {
   "cell_type": "code",
   "execution_count": 38,
   "metadata": {},
   "outputs": [
    {
     "data": {
      "text/html": [
       "<div>\n",
       "<style scoped>\n",
       "    .dataframe tbody tr th:only-of-type {\n",
       "        vertical-align: middle;\n",
       "    }\n",
       "\n",
       "    .dataframe tbody tr th {\n",
       "        vertical-align: top;\n",
       "    }\n",
       "\n",
       "    .dataframe thead th {\n",
       "        text-align: right;\n",
       "    }\n",
       "</style>\n",
       "<table border=\"1\" class=\"dataframe\">\n",
       "  <thead>\n",
       "    <tr style=\"text-align: right;\">\n",
       "      <th></th>\n",
       "      <th>Station</th>\n",
       "      <th>CalendarDate</th>\n",
       "      <th>Tmax</th>\n",
       "      <th>Tmin</th>\n",
       "      <th>Tavg</th>\n",
       "      <th>Depart</th>\n",
       "      <th>DewPoint</th>\n",
       "      <th>WetBulb</th>\n",
       "      <th>Heat</th>\n",
       "      <th>Cool</th>\n",
       "      <th>...</th>\n",
       "      <th>SnowFall</th>\n",
       "      <th>PrecipTotal</th>\n",
       "      <th>StnPressure</th>\n",
       "      <th>SeaLevel</th>\n",
       "      <th>ResultSpeed</th>\n",
       "      <th>ResultDir</th>\n",
       "      <th>AvgSpeed</th>\n",
       "      <th>Year</th>\n",
       "      <th>Month</th>\n",
       "      <th>Date</th>\n",
       "    </tr>\n",
       "  </thead>\n",
       "  <tbody>\n",
       "    <tr>\n",
       "      <th>0</th>\n",
       "      <td>1</td>\n",
       "      <td>2007-05-01</td>\n",
       "      <td>83</td>\n",
       "      <td>50</td>\n",
       "      <td>67</td>\n",
       "      <td>14</td>\n",
       "      <td>51</td>\n",
       "      <td>56</td>\n",
       "      <td>0</td>\n",
       "      <td>2</td>\n",
       "      <td>...</td>\n",
       "      <td>0.0</td>\n",
       "      <td>0.00</td>\n",
       "      <td>29.10</td>\n",
       "      <td>29.82</td>\n",
       "      <td>1.7</td>\n",
       "      <td>27</td>\n",
       "      <td>9.2</td>\n",
       "      <td>2007</td>\n",
       "      <td>5</td>\n",
       "      <td>1</td>\n",
       "    </tr>\n",
       "    <tr>\n",
       "      <th>1</th>\n",
       "      <td>2</td>\n",
       "      <td>2007-05-01</td>\n",
       "      <td>84</td>\n",
       "      <td>52</td>\n",
       "      <td>68</td>\n",
       "      <td>NaN</td>\n",
       "      <td>51</td>\n",
       "      <td>57</td>\n",
       "      <td>0</td>\n",
       "      <td>3</td>\n",
       "      <td>...</td>\n",
       "      <td>M</td>\n",
       "      <td>0.00</td>\n",
       "      <td>29.18</td>\n",
       "      <td>29.82</td>\n",
       "      <td>2.7</td>\n",
       "      <td>25</td>\n",
       "      <td>9.6</td>\n",
       "      <td>2007</td>\n",
       "      <td>5</td>\n",
       "      <td>1</td>\n",
       "    </tr>\n",
       "    <tr>\n",
       "      <th>2</th>\n",
       "      <td>1</td>\n",
       "      <td>2007-05-02</td>\n",
       "      <td>59</td>\n",
       "      <td>42</td>\n",
       "      <td>51</td>\n",
       "      <td>-3</td>\n",
       "      <td>42</td>\n",
       "      <td>47</td>\n",
       "      <td>14</td>\n",
       "      <td>0</td>\n",
       "      <td>...</td>\n",
       "      <td>0.0</td>\n",
       "      <td>0.00</td>\n",
       "      <td>29.38</td>\n",
       "      <td>30.09</td>\n",
       "      <td>13.0</td>\n",
       "      <td>4</td>\n",
       "      <td>13.4</td>\n",
       "      <td>2007</td>\n",
       "      <td>5</td>\n",
       "      <td>2</td>\n",
       "    </tr>\n",
       "    <tr>\n",
       "      <th>3</th>\n",
       "      <td>2</td>\n",
       "      <td>2007-05-02</td>\n",
       "      <td>60</td>\n",
       "      <td>43</td>\n",
       "      <td>52</td>\n",
       "      <td>NaN</td>\n",
       "      <td>42</td>\n",
       "      <td>47</td>\n",
       "      <td>13</td>\n",
       "      <td>0</td>\n",
       "      <td>...</td>\n",
       "      <td>M</td>\n",
       "      <td>0.00</td>\n",
       "      <td>29.44</td>\n",
       "      <td>30.08</td>\n",
       "      <td>13.3</td>\n",
       "      <td>2</td>\n",
       "      <td>13.4</td>\n",
       "      <td>2007</td>\n",
       "      <td>5</td>\n",
       "      <td>2</td>\n",
       "    </tr>\n",
       "    <tr>\n",
       "      <th>4</th>\n",
       "      <td>1</td>\n",
       "      <td>2007-05-03</td>\n",
       "      <td>66</td>\n",
       "      <td>46</td>\n",
       "      <td>56</td>\n",
       "      <td>2</td>\n",
       "      <td>40</td>\n",
       "      <td>48</td>\n",
       "      <td>9</td>\n",
       "      <td>0</td>\n",
       "      <td>...</td>\n",
       "      <td>0.0</td>\n",
       "      <td>0.00</td>\n",
       "      <td>29.39</td>\n",
       "      <td>30.12</td>\n",
       "      <td>11.7</td>\n",
       "      <td>7</td>\n",
       "      <td>11.9</td>\n",
       "      <td>2007</td>\n",
       "      <td>5</td>\n",
       "      <td>3</td>\n",
       "    </tr>\n",
       "    <tr>\n",
       "      <th>5</th>\n",
       "      <td>2</td>\n",
       "      <td>2007-05-03</td>\n",
       "      <td>67</td>\n",
       "      <td>48</td>\n",
       "      <td>58</td>\n",
       "      <td>NaN</td>\n",
       "      <td>40</td>\n",
       "      <td>50</td>\n",
       "      <td>7</td>\n",
       "      <td>0</td>\n",
       "      <td>...</td>\n",
       "      <td>M</td>\n",
       "      <td>0.00</td>\n",
       "      <td>29.46</td>\n",
       "      <td>30.12</td>\n",
       "      <td>12.9</td>\n",
       "      <td>6</td>\n",
       "      <td>13.2</td>\n",
       "      <td>2007</td>\n",
       "      <td>5</td>\n",
       "      <td>3</td>\n",
       "    </tr>\n",
       "    <tr>\n",
       "      <th>6</th>\n",
       "      <td>1</td>\n",
       "      <td>2007-05-04</td>\n",
       "      <td>66</td>\n",
       "      <td>49</td>\n",
       "      <td>58</td>\n",
       "      <td>4</td>\n",
       "      <td>41</td>\n",
       "      <td>50</td>\n",
       "      <td>7</td>\n",
       "      <td>0</td>\n",
       "      <td>...</td>\n",
       "      <td>0.0</td>\n",
       "      <td>T</td>\n",
       "      <td>29.31</td>\n",
       "      <td>30.05</td>\n",
       "      <td>10.4</td>\n",
       "      <td>8</td>\n",
       "      <td>10.8</td>\n",
       "      <td>2007</td>\n",
       "      <td>5</td>\n",
       "      <td>4</td>\n",
       "    </tr>\n",
       "    <tr>\n",
       "      <th>7</th>\n",
       "      <td>2</td>\n",
       "      <td>2007-05-04</td>\n",
       "      <td>78</td>\n",
       "      <td>51</td>\n",
       "      <td>NaN</td>\n",
       "      <td>NaN</td>\n",
       "      <td>42</td>\n",
       "      <td>50</td>\n",
       "      <td>M</td>\n",
       "      <td>M</td>\n",
       "      <td>...</td>\n",
       "      <td>M</td>\n",
       "      <td>0.00</td>\n",
       "      <td>29.36</td>\n",
       "      <td>30.04</td>\n",
       "      <td>10.1</td>\n",
       "      <td>7</td>\n",
       "      <td>10.4</td>\n",
       "      <td>2007</td>\n",
       "      <td>5</td>\n",
       "      <td>4</td>\n",
       "    </tr>\n",
       "    <tr>\n",
       "      <th>8</th>\n",
       "      <td>1</td>\n",
       "      <td>2007-05-05</td>\n",
       "      <td>66</td>\n",
       "      <td>53</td>\n",
       "      <td>60</td>\n",
       "      <td>5</td>\n",
       "      <td>38</td>\n",
       "      <td>49</td>\n",
       "      <td>5</td>\n",
       "      <td>0</td>\n",
       "      <td>...</td>\n",
       "      <td>0.0</td>\n",
       "      <td>T</td>\n",
       "      <td>29.40</td>\n",
       "      <td>30.10</td>\n",
       "      <td>11.7</td>\n",
       "      <td>7</td>\n",
       "      <td>12.0</td>\n",
       "      <td>2007</td>\n",
       "      <td>5</td>\n",
       "      <td>5</td>\n",
       "    </tr>\n",
       "    <tr>\n",
       "      <th>9</th>\n",
       "      <td>2</td>\n",
       "      <td>2007-05-05</td>\n",
       "      <td>66</td>\n",
       "      <td>54</td>\n",
       "      <td>60</td>\n",
       "      <td>NaN</td>\n",
       "      <td>39</td>\n",
       "      <td>50</td>\n",
       "      <td>5</td>\n",
       "      <td>0</td>\n",
       "      <td>...</td>\n",
       "      <td>M</td>\n",
       "      <td>T</td>\n",
       "      <td>29.46</td>\n",
       "      <td>30.09</td>\n",
       "      <td>11.2</td>\n",
       "      <td>7</td>\n",
       "      <td>11.5</td>\n",
       "      <td>2007</td>\n",
       "      <td>5</td>\n",
       "      <td>5</td>\n",
       "    </tr>\n",
       "    <tr>\n",
       "      <th>10</th>\n",
       "      <td>1</td>\n",
       "      <td>2007-05-06</td>\n",
       "      <td>68</td>\n",
       "      <td>49</td>\n",
       "      <td>59</td>\n",
       "      <td>4</td>\n",
       "      <td>30</td>\n",
       "      <td>46</td>\n",
       "      <td>6</td>\n",
       "      <td>0</td>\n",
       "      <td>...</td>\n",
       "      <td>0.0</td>\n",
       "      <td>0.00</td>\n",
       "      <td>29.57</td>\n",
       "      <td>30.29</td>\n",
       "      <td>14.4</td>\n",
       "      <td>11</td>\n",
       "      <td>15.0</td>\n",
       "      <td>2007</td>\n",
       "      <td>5</td>\n",
       "      <td>6</td>\n",
       "    </tr>\n",
       "    <tr>\n",
       "      <th>11</th>\n",
       "      <td>2</td>\n",
       "      <td>2007-05-06</td>\n",
       "      <td>68</td>\n",
       "      <td>52</td>\n",
       "      <td>60</td>\n",
       "      <td>NaN</td>\n",
       "      <td>30</td>\n",
       "      <td>46</td>\n",
       "      <td>5</td>\n",
       "      <td>0</td>\n",
       "      <td>...</td>\n",
       "      <td>M</td>\n",
       "      <td>0.00</td>\n",
       "      <td>29.62</td>\n",
       "      <td>30.28</td>\n",
       "      <td>13.8</td>\n",
       "      <td>10</td>\n",
       "      <td>14.5</td>\n",
       "      <td>2007</td>\n",
       "      <td>5</td>\n",
       "      <td>6</td>\n",
       "    </tr>\n",
       "    <tr>\n",
       "      <th>12</th>\n",
       "      <td>1</td>\n",
       "      <td>2007-05-07</td>\n",
       "      <td>83</td>\n",
       "      <td>47</td>\n",
       "      <td>65</td>\n",
       "      <td>10</td>\n",
       "      <td>41</td>\n",
       "      <td>54</td>\n",
       "      <td>0</td>\n",
       "      <td>0</td>\n",
       "      <td>...</td>\n",
       "      <td>0.0</td>\n",
       "      <td>T</td>\n",
       "      <td>29.38</td>\n",
       "      <td>30.12</td>\n",
       "      <td>8.6</td>\n",
       "      <td>18</td>\n",
       "      <td>10.5</td>\n",
       "      <td>2007</td>\n",
       "      <td>5</td>\n",
       "      <td>7</td>\n",
       "    </tr>\n",
       "    <tr>\n",
       "      <th>13</th>\n",
       "      <td>2</td>\n",
       "      <td>2007-05-07</td>\n",
       "      <td>84</td>\n",
       "      <td>50</td>\n",
       "      <td>67</td>\n",
       "      <td>NaN</td>\n",
       "      <td>39</td>\n",
       "      <td>53</td>\n",
       "      <td>0</td>\n",
       "      <td>2</td>\n",
       "      <td>...</td>\n",
       "      <td>M</td>\n",
       "      <td>0.00</td>\n",
       "      <td>29.44</td>\n",
       "      <td>30.12</td>\n",
       "      <td>8.5</td>\n",
       "      <td>17</td>\n",
       "      <td>9.9</td>\n",
       "      <td>2007</td>\n",
       "      <td>5</td>\n",
       "      <td>7</td>\n",
       "    </tr>\n",
       "    <tr>\n",
       "      <th>14</th>\n",
       "      <td>1</td>\n",
       "      <td>2007-05-08</td>\n",
       "      <td>82</td>\n",
       "      <td>54</td>\n",
       "      <td>68</td>\n",
       "      <td>12</td>\n",
       "      <td>58</td>\n",
       "      <td>62</td>\n",
       "      <td>0</td>\n",
       "      <td>3</td>\n",
       "      <td>...</td>\n",
       "      <td>0.0</td>\n",
       "      <td>0.00</td>\n",
       "      <td>29.29</td>\n",
       "      <td>30.03</td>\n",
       "      <td>2.7</td>\n",
       "      <td>11</td>\n",
       "      <td>5.8</td>\n",
       "      <td>2007</td>\n",
       "      <td>5</td>\n",
       "      <td>8</td>\n",
       "    </tr>\n",
       "    <tr>\n",
       "      <th>15</th>\n",
       "      <td>2</td>\n",
       "      <td>2007-05-08</td>\n",
       "      <td>80</td>\n",
       "      <td>60</td>\n",
       "      <td>70</td>\n",
       "      <td>NaN</td>\n",
       "      <td>57</td>\n",
       "      <td>63</td>\n",
       "      <td>0</td>\n",
       "      <td>5</td>\n",
       "      <td>...</td>\n",
       "      <td>M</td>\n",
       "      <td>T</td>\n",
       "      <td>29.36</td>\n",
       "      <td>30.02</td>\n",
       "      <td>2.5</td>\n",
       "      <td>8</td>\n",
       "      <td>5.4</td>\n",
       "      <td>2007</td>\n",
       "      <td>5</td>\n",
       "      <td>8</td>\n",
       "    </tr>\n",
       "    <tr>\n",
       "      <th>16</th>\n",
       "      <td>1</td>\n",
       "      <td>2007-05-09</td>\n",
       "      <td>77</td>\n",
       "      <td>61</td>\n",
       "      <td>69</td>\n",
       "      <td>13</td>\n",
       "      <td>59</td>\n",
       "      <td>63</td>\n",
       "      <td>0</td>\n",
       "      <td>4</td>\n",
       "      <td>...</td>\n",
       "      <td>0.0</td>\n",
       "      <td>0.13</td>\n",
       "      <td>29.21</td>\n",
       "      <td>29.94</td>\n",
       "      <td>3.9</td>\n",
       "      <td>9</td>\n",
       "      <td>6.2</td>\n",
       "      <td>2007</td>\n",
       "      <td>5</td>\n",
       "      <td>9</td>\n",
       "    </tr>\n",
       "    <tr>\n",
       "      <th>17</th>\n",
       "      <td>2</td>\n",
       "      <td>2007-05-09</td>\n",
       "      <td>76</td>\n",
       "      <td>63</td>\n",
       "      <td>70</td>\n",
       "      <td>NaN</td>\n",
       "      <td>60</td>\n",
       "      <td>63</td>\n",
       "      <td>0</td>\n",
       "      <td>5</td>\n",
       "      <td>...</td>\n",
       "      <td>M</td>\n",
       "      <td>0.02</td>\n",
       "      <td>29.28</td>\n",
       "      <td>29.93</td>\n",
       "      <td>3.9</td>\n",
       "      <td>7</td>\n",
       "      <td>5.9</td>\n",
       "      <td>2007</td>\n",
       "      <td>5</td>\n",
       "      <td>9</td>\n",
       "    </tr>\n",
       "    <tr>\n",
       "      <th>18</th>\n",
       "      <td>1</td>\n",
       "      <td>2007-05-10</td>\n",
       "      <td>84</td>\n",
       "      <td>56</td>\n",
       "      <td>70</td>\n",
       "      <td>14</td>\n",
       "      <td>52</td>\n",
       "      <td>60</td>\n",
       "      <td>0</td>\n",
       "      <td>5</td>\n",
       "      <td>...</td>\n",
       "      <td>0.0</td>\n",
       "      <td>0.00</td>\n",
       "      <td>29.20</td>\n",
       "      <td>29.92</td>\n",
       "      <td>0.7</td>\n",
       "      <td>17</td>\n",
       "      <td>4.1</td>\n",
       "      <td>2007</td>\n",
       "      <td>5</td>\n",
       "      <td>10</td>\n",
       "    </tr>\n",
       "    <tr>\n",
       "      <th>19</th>\n",
       "      <td>2</td>\n",
       "      <td>2007-05-10</td>\n",
       "      <td>83</td>\n",
       "      <td>59</td>\n",
       "      <td>71</td>\n",
       "      <td>NaN</td>\n",
       "      <td>52</td>\n",
       "      <td>61</td>\n",
       "      <td>0</td>\n",
       "      <td>6</td>\n",
       "      <td>...</td>\n",
       "      <td>M</td>\n",
       "      <td>0.00</td>\n",
       "      <td>29.26</td>\n",
       "      <td>29.91</td>\n",
       "      <td>2.0</td>\n",
       "      <td>9</td>\n",
       "      <td>3.9</td>\n",
       "      <td>2007</td>\n",
       "      <td>5</td>\n",
       "      <td>10</td>\n",
       "    </tr>\n",
       "  </tbody>\n",
       "</table>\n",
       "<p>20 rows × 25 columns</p>\n",
       "</div>"
      ],
      "text/plain": [
       "    Station CalendarDate  Tmax  Tmin  Tavg  Depart  DewPoint WetBulb Heat  \\\n",
       "0         1   2007-05-01    83    50    67      14        51      56    0   \n",
       "1         2   2007-05-01    84    52    68     NaN        51      57    0   \n",
       "2         1   2007-05-02    59    42    51      -3        42      47   14   \n",
       "3         2   2007-05-02    60    43    52     NaN        42      47   13   \n",
       "4         1   2007-05-03    66    46    56       2        40      48    9   \n",
       "5         2   2007-05-03    67    48    58     NaN        40      50    7   \n",
       "6         1   2007-05-04    66    49    58       4        41      50    7   \n",
       "7         2   2007-05-04    78    51   NaN     NaN        42      50    M   \n",
       "8         1   2007-05-05    66    53    60       5        38      49    5   \n",
       "9         2   2007-05-05    66    54    60     NaN        39      50    5   \n",
       "10        1   2007-05-06    68    49    59       4        30      46    6   \n",
       "11        2   2007-05-06    68    52    60     NaN        30      46    5   \n",
       "12        1   2007-05-07    83    47    65      10        41      54    0   \n",
       "13        2   2007-05-07    84    50    67     NaN        39      53    0   \n",
       "14        1   2007-05-08    82    54    68      12        58      62    0   \n",
       "15        2   2007-05-08    80    60    70     NaN        57      63    0   \n",
       "16        1   2007-05-09    77    61    69      13        59      63    0   \n",
       "17        2   2007-05-09    76    63    70     NaN        60      63    0   \n",
       "18        1   2007-05-10    84    56    70      14        52      60    0   \n",
       "19        2   2007-05-10    83    59    71     NaN        52      61    0   \n",
       "\n",
       "   Cool  ... SnowFall PrecipTotal StnPressure SeaLevel ResultSpeed ResultDir  \\\n",
       "0     2  ...      0.0        0.00       29.10    29.82         1.7        27   \n",
       "1     3  ...        M        0.00       29.18    29.82         2.7        25   \n",
       "2     0  ...      0.0        0.00       29.38    30.09        13.0         4   \n",
       "3     0  ...        M        0.00       29.44    30.08        13.3         2   \n",
       "4     0  ...      0.0        0.00       29.39    30.12        11.7         7   \n",
       "5     0  ...        M        0.00       29.46    30.12        12.9         6   \n",
       "6     0  ...      0.0           T       29.31    30.05        10.4         8   \n",
       "7     M  ...        M        0.00       29.36    30.04        10.1         7   \n",
       "8     0  ...      0.0           T       29.40    30.10        11.7         7   \n",
       "9     0  ...        M           T       29.46    30.09        11.2         7   \n",
       "10    0  ...      0.0        0.00       29.57    30.29        14.4        11   \n",
       "11    0  ...        M        0.00       29.62    30.28        13.8        10   \n",
       "12    0  ...      0.0           T       29.38    30.12         8.6        18   \n",
       "13    2  ...        M        0.00       29.44    30.12         8.5        17   \n",
       "14    3  ...      0.0        0.00       29.29    30.03         2.7        11   \n",
       "15    5  ...        M           T       29.36    30.02         2.5         8   \n",
       "16    4  ...      0.0        0.13       29.21    29.94         3.9         9   \n",
       "17    5  ...        M        0.02       29.28    29.93         3.9         7   \n",
       "18    5  ...      0.0        0.00       29.20    29.92         0.7        17   \n",
       "19    6  ...        M        0.00       29.26    29.91         2.0         9   \n",
       "\n",
       "   AvgSpeed  Year Month  Date  \n",
       "0       9.2  2007     5     1  \n",
       "1       9.6  2007     5     1  \n",
       "2      13.4  2007     5     2  \n",
       "3      13.4  2007     5     2  \n",
       "4      11.9  2007     5     3  \n",
       "5      13.2  2007     5     3  \n",
       "6      10.8  2007     5     4  \n",
       "7      10.4  2007     5     4  \n",
       "8      12.0  2007     5     5  \n",
       "9      11.5  2007     5     5  \n",
       "10     15.0  2007     5     6  \n",
       "11     14.5  2007     5     6  \n",
       "12     10.5  2007     5     7  \n",
       "13      9.9  2007     5     7  \n",
       "14      5.8  2007     5     8  \n",
       "15      5.4  2007     5     8  \n",
       "16      6.2  2007     5     9  \n",
       "17      5.9  2007     5     9  \n",
       "18      4.1  2007     5    10  \n",
       "19      3.9  2007     5    10  \n",
       "\n",
       "[20 rows x 25 columns]"
      ]
     },
     "execution_count": 38,
     "metadata": {},
     "output_type": "execute_result"
    }
   ],
   "source": [
    "weather_df.head(20)"
   ]
  },
  {
   "cell_type": "markdown",
   "metadata": {},
   "source": [
    "## DewPoint"
   ]
  },
  {
   "cell_type": "code",
   "execution_count": 39,
   "metadata": {
    "pycharm": {
     "name": "#%%\n"
    }
   },
   "outputs": [
    {
     "data": {
      "text/plain": [
       "0    51\n",
       "1    51\n",
       "2    42\n",
       "3    42\n",
       "4    40\n",
       "Name: DewPoint, dtype: int64"
      ]
     },
     "execution_count": 39,
     "metadata": {},
     "output_type": "execute_result"
    }
   ],
   "source": [
    "weather_df['DewPoint'].head()"
   ]
  },
  {
   "cell_type": "code",
   "execution_count": 40,
   "metadata": {
    "pycharm": {
     "name": "#%%\n"
    }
   },
   "outputs": [
    {
     "data": {
      "text/plain": [
       "0"
      ]
     },
     "execution_count": 40,
     "metadata": {},
     "output_type": "execute_result"
    }
   ],
   "source": [
    "weather_df['DewPoint'].isnull().sum()"
   ]
  },
  {
   "cell_type": "code",
   "execution_count": 41,
   "metadata": {
    "pycharm": {
     "name": "#%%\n"
    },
    "scrolled": true
   },
   "outputs": [
    {
     "data": {
      "image/png": "[encoded data removed]",
      "text/plain": [
       "<Figure size 720x864 with 1 Axes>"
      ]
     },
     "metadata": {
      "needs_background": "light"
     },
     "output_type": "display_data"
    }
   ],
   "source": [
    "# Plot barchart\n",
    "\n",
    "plt.figure(figsize=(10, 12))\n",
    "sns.countplot(y='DewPoint', data=weather_df, orient='v')\n",
    "\n",
    "plt.title('Barplot of DewPoint', fontsize=12)\n",
    "plt.xlabel('Count', fontsize=12)\n",
    "plt.ylabel('DewPoint', fontsize=12)\n",
    "plt.savefig('../images/6_bar_dewpoint.png', transparent=True)"
   ]
  },
  {
   "cell_type": "markdown",
   "metadata": {},
   "source": [
    "## WetBulb"
   ]
  },
  {
   "cell_type": "code",
   "execution_count": 42,
   "metadata": {
    "pycharm": {
     "name": "#%%\n"
    }
   },
   "outputs": [
    {
     "data": {
      "text/plain": [
       "0    56\n",
       "1    57\n",
       "2    47\n",
       "3    47\n",
       "4    48\n",
       "Name: WetBulb, dtype: object"
      ]
     },
     "execution_count": 42,
     "metadata": {},
     "output_type": "execute_result"
    }
   ],
   "source": [
    "weather_df['WetBulb'].head()"
   ]
  },
  {
   "cell_type": "code",
   "execution_count": 43,
   "metadata": {
    "pycharm": {
     "name": "#%%\n"
    }
   },
   "outputs": [
    {
     "name": "stdout",
     "output_type": "stream",
     "text": [
      "2940\n",
      "dict_keys([56.0, 57.0, 47.0, 48.0, 50.0, 49.0, 46.0, 54.0, 53.0, 62.0, 63.0, 60.0, 61.0, 51.0, 59.0, 58.0, 43.0, 44.0, 45.0, 65.0, 66.0, 67.0, 64.0, 52.0, 55.0, 69.0, 68.0, 70.0, 72.0, 71.0, 73.0, 74.0, 76.0, 42.0, 39.0, 40.0, 41.0, 35.0, 33.0, 34.0, 75.0, 36.0, 32.0, 38.0, 78.0, 77.0, 37.0])\n"
     ]
    },
    {
     "data": {
      "text/plain": [
       "dict_values([95, 105, 61, 51, 55, 50, 72, 56, 69, 118, 135, 111, 123, 57, 129, 95, 31, 45, 53, 131, 113, 117, 121, 78, 99, 107, 98, 102, 71, 99, 56, 50, 8, 35, 15, 31, 19, 8, 5, 5, 20, 9, 1, 17, 1, 8, 5])"
      ]
     },
     "execution_count": 43,
     "metadata": {},
     "output_type": "execute_result"
    }
   ],
   "source": [
    "int_list = get_int_list(weather_df['WetBulb'])\n",
    "print(len(int_list))\n",
    "print(Counter(int_list).keys())\n",
    "Counter(int_list).values()"
   ]
  },
  {
   "cell_type": "code",
   "execution_count": 44,
   "metadata": {
    "pycharm": {
     "name": "#%%\n"
    }
   },
   "outputs": [
    {
     "name": "stdout",
     "output_type": "stream",
     "text": [
      "dict_keys(['M'])\n"
     ]
    },
    {
     "data": {
      "text/plain": [
       "dict_values([4])"
      ]
     },
     "execution_count": 44,
     "metadata": {},
     "output_type": "execute_result"
    }
   ],
   "source": [
    "non_int_list = get_non_int_list(weather_df['WetBulb'])\n",
    "print(Counter(non_int_list).keys())\n",
    "Counter(non_int_list).values()"
   ]
  },
  {
   "cell_type": "code",
   "execution_count": 45,
   "metadata": {
    "pycharm": {
     "name": "#%%\n"
    }
   },
   "outputs": [],
   "source": [
    "weather_df['WetBulb'] = weather_df['WetBulb'].map(to_int)\n",
    "weather_df['WetBulb'] = weather_df['WetBulb'].astype('Int64')"
   ]
  },
  {
   "cell_type": "code",
   "execution_count": 46,
   "metadata": {
    "pycharm": {
     "name": "#%%\n"
    }
   },
   "outputs": [
    {
     "data": {
      "text/plain": [
       "4"
      ]
     },
     "execution_count": 46,
     "metadata": {},
     "output_type": "execute_result"
    }
   ],
   "source": [
    "weather_df['WetBulb'].isnull().sum()"
   ]
  },
  {
   "cell_type": "code",
   "execution_count": 47,
   "metadata": {
    "pycharm": {
     "name": "#%%\n"
    }
   },
   "outputs": [
    {
     "data": {
      "image/png": "[encoded data removed]",
      "text/plain": [
       "<Figure size 720x864 with 1 Axes>"
      ]
     },
     "metadata": {
      "needs_background": "light"
     },
     "output_type": "display_data"
    }
   ],
   "source": [
    "# Plot barchart\n",
    "\n",
    "plt.figure(figsize=(10, 12))\n",
    "sns.countplot(y='WetBulb', data=weather_df, orient='v')\n",
    "\n",
    "plt.title('Barplot of WetBulb', fontsize=12)\n",
    "plt.xlabel('Count', fontsize=12)\n",
    "plt.ylabel('WetBulb', fontsize=12)\n",
    "plt.savefig('../images/7_bar_wetbulb.png', transparent=True)"
   ]
  },
  {
   "cell_type": "markdown",
   "metadata": {},
   "source": [
    "## Heat"
   ]
  },
  {
   "cell_type": "code",
   "execution_count": 48,
   "metadata": {
    "pycharm": {
     "name": "#%%\n"
    }
   },
   "outputs": [
    {
     "data": {
      "text/plain": [
       "0     0\n",
       "1     0\n",
       "2    14\n",
       "3    13\n",
       "4     9\n",
       "Name: Heat, dtype: object"
      ]
     },
     "execution_count": 48,
     "metadata": {},
     "output_type": "execute_result"
    }
   ],
   "source": [
    "weather_df['Heat'].head()"
   ]
  },
  {
   "cell_type": "code",
   "execution_count": 49,
   "metadata": {
    "pycharm": {
     "name": "#%%\n"
    }
   },
   "outputs": [
    {
     "name": "stdout",
     "output_type": "stream",
     "text": [
      "2933\n",
      "dict_keys([0.0, 14.0, 13.0, 9.0, 7.0, 5.0, 6.0, 4.0, 10.0, 8.0, 12.0, 3.0, 2.0, 1.0, 15.0, 16.0, 19.0, 17.0, 20.0, 11.0, 18.0, 21.0, 25.0, 24.0, 27.0, 26.0, 23.0, 28.0, 22.0, 29.0])\n"
     ]
    },
    {
     "data": {
      "text/plain": [
       "dict_values([1870, 36, 46, 46, 49, 61, 45, 88, 48, 67, 49, 66, 81, 86, 57, 29, 24, 17, 28, 48, 24, 19, 5, 7, 2, 4, 15, 2, 12, 2])"
      ]
     },
     "execution_count": 49,
     "metadata": {},
     "output_type": "execute_result"
    }
   ],
   "source": [
    "int_list = get_int_list(weather_df['Heat'])\n",
    "print(len(int_list))\n",
    "print(Counter(int_list).keys())\n",
    "Counter(int_list).values()"
   ]
  },
  {
   "cell_type": "code",
   "execution_count": 50,
   "metadata": {
    "pycharm": {
     "name": "#%%\n"
    }
   },
   "outputs": [
    {
     "name": "stdout",
     "output_type": "stream",
     "text": [
      "dict_keys(['M'])\n"
     ]
    },
    {
     "data": {
      "text/plain": [
       "dict_values([11])"
      ]
     },
     "execution_count": 50,
     "metadata": {},
     "output_type": "execute_result"
    }
   ],
   "source": [
    "non_int_list = get_non_int_list(weather_df['Heat'])\n",
    "print(Counter(non_int_list).keys())\n",
    "Counter(non_int_list).values()"
   ]
  },
  {
   "cell_type": "code",
   "execution_count": 51,
   "metadata": {
    "pycharm": {
     "name": "#%%\n"
    }
   },
   "outputs": [],
   "source": [
    "weather_df['Heat'] = weather_df['Heat'].map(to_int)\n",
    "weather_df['Heat'] = weather_df['Heat'].astype('Int64')"
   ]
  },
  {
   "cell_type": "code",
   "execution_count": 52,
   "metadata": {
    "pycharm": {
     "name": "#%%\n"
    }
   },
   "outputs": [
    {
     "data": {
      "text/plain": [
       "11"
      ]
     },
     "execution_count": 52,
     "metadata": {},
     "output_type": "execute_result"
    }
   ],
   "source": [
    "weather_df['Heat'].isnull().sum()"
   ]
  },
  {
   "cell_type": "code",
   "execution_count": 53,
   "metadata": {
    "pycharm": {
     "name": "#%%\n"
    }
   },
   "outputs": [
    {
     "data": {
      "image/png": "[encoded data removed]",
      "text/plain": [
       "<Figure size 720x864 with 1 Axes>"
      ]
     },
     "metadata": {
      "needs_background": "light"
     },
     "output_type": "display_data"
    }
   ],
   "source": [
    "# Plot barchart\n",
    "\n",
    "plt.figure(figsize=(10, 12))\n",
    "sns.countplot(y='Heat', data=weather_df, orient='v')\n",
    "\n",
    "plt.title('Barplot of Heat', fontsize=12)\n",
    "plt.xlabel('Count', fontsize=12)\n",
    "plt.ylabel('Heat', fontsize=12)\n",
    "plt.savefig('../images/8_bar_heat.png', transparent=True)"
   ]
  },
  {
   "cell_type": "markdown",
   "metadata": {},
   "source": [
    "## Cool"
   ]
  },
  {
   "cell_type": "code",
   "execution_count": 54,
   "metadata": {
    "pycharm": {
     "name": "#%%\n"
    }
   },
   "outputs": [
    {
     "data": {
      "text/plain": [
       "0     2\n",
       "1     3\n",
       "2     0\n",
       "3     0\n",
       "4     0\n",
       "Name: Cool, dtype: object"
      ]
     },
     "execution_count": 54,
     "metadata": {},
     "output_type": "execute_result"
    }
   ],
   "source": [
    "weather_df['Cool'].head()"
   ]
  },
  {
   "cell_type": "code",
   "execution_count": 55,
   "metadata": {
    "pycharm": {
     "name": "#%%\n"
    }
   },
   "outputs": [
    {
     "name": "stdout",
     "output_type": "stream",
     "text": [
      "2933\n",
      "dict_keys([2.0, 3.0, 0.0, 5.0, 4.0, 6.0, 8.0, 7.0, 9.0, 10.0, 13.0, 11.0, 12.0, 1.0, 15.0, 16.0, 17.0, 14.0, 20.0, 19.0, 18.0, 21.0, 22.0, 24.0, 27.0, 23.0, 26.0, 28.0, 29.0, 25.0])\n"
     ]
    },
    {
     "data": {
      "text/plain": [
       "dict_values([89, 99, 1147, 117, 103, 109, 138, 104, 107, 110, 102, 100, 117, 93, 84, 55, 48, 98, 16, 21, 34, 16, 9, 4, 1, 4, 4, 1, 1, 2])"
      ]
     },
     "execution_count": 55,
     "metadata": {},
     "output_type": "execute_result"
    }
   ],
   "source": [
    "int_list = get_int_list(weather_df['Cool'])\n",
    "print(len(int_list))\n",
    "print(Counter(int_list).keys())\n",
    "Counter(int_list).values()"
   ]
  },
  {
   "cell_type": "code",
   "execution_count": 56,
   "metadata": {
    "pycharm": {
     "name": "#%%\n"
    }
   },
   "outputs": [
    {
     "name": "stdout",
     "output_type": "stream",
     "text": [
      "dict_keys(['M'])\n"
     ]
    },
    {
     "data": {
      "text/plain": [
       "dict_values([11])"
      ]
     },
     "execution_count": 56,
     "metadata": {},
     "output_type": "execute_result"
    }
   ],
   "source": [
    "non_int_list = get_non_int_list(weather_df['Cool'])\n",
    "print(Counter(non_int_list).keys())\n",
    "Counter(non_int_list).values()"
   ]
  },
  {
   "cell_type": "code",
   "execution_count": 57,
   "metadata": {
    "pycharm": {
     "name": "#%%\n"
    }
   },
   "outputs": [],
   "source": [
    "weather_df['Cool'] = weather_df['Cool'].map(to_int)\n",
    "weather_df['Cool'] = weather_df['Cool'].astype('Int64')"
   ]
  },
  {
   "cell_type": "code",
   "execution_count": 58,
   "metadata": {
    "pycharm": {
     "name": "#%%\n"
    }
   },
   "outputs": [
    {
     "data": {
      "text/plain": [
       "11"
      ]
     },
     "execution_count": 58,
     "metadata": {},
     "output_type": "execute_result"
    }
   ],
   "source": [
    "weather_df['Cool'].isnull().sum()"
   ]
  },
  {
   "cell_type": "code",
   "execution_count": 59,
   "metadata": {
    "pycharm": {
     "name": "#%%\n"
    }
   },
   "outputs": [
    {
     "data": {
      "image/png": "[encoded data removed]",
      "text/plain": [
       "<Figure size 720x864 with 1 Axes>"
      ]
     },
     "metadata": {
      "needs_background": "light"
     },
     "output_type": "display_data"
    }
   ],
   "source": [
    "# Plot barchart\n",
    "\n",
    "plt.figure(figsize=(10, 12))\n",
    "sns.countplot(y='Cool', data=weather_df, orient='v')\n",
    "\n",
    "plt.title('Barplot of Cool', fontsize=12)\n",
    "plt.xlabel('Count', fontsize=12)\n",
    "plt.ylabel('Cool', fontsize=12)\n",
    "plt.savefig('../images/9_bar_cool.png', transparent=True)"
   ]
  },
  {
   "cell_type": "markdown",
   "metadata": {},
   "source": [
    "## Sunrise"
   ]
  },
  {
   "cell_type": "code",
   "execution_count": 60,
   "metadata": {
    "pycharm": {
     "name": "#%%\n"
    }
   },
   "outputs": [
    {
     "data": {
      "text/plain": [
       "0    0448\n",
       "1       -\n",
       "2    0447\n",
       "3       -\n",
       "4    0446\n",
       "Name: Sunrise, dtype: object"
      ]
     },
     "execution_count": 60,
     "metadata": {},
     "output_type": "execute_result"
    }
   ],
   "source": [
    "weather_df['Sunrise'].head()"
   ]
  },
  {
   "cell_type": "code",
   "execution_count": 61,
   "metadata": {
    "pycharm": {
     "name": "#%%\n"
    }
   },
   "outputs": [
    {
     "name": "stdout",
     "output_type": "stream",
     "text": [
      "1472\n",
      "dict_keys([448.0, 447.0, 446.0, 444.0, 443.0, 442.0, 441.0, 439.0, 438.0, 437.0, 436.0, 435.0, 434.0, 433.0, 432.0, 431.0, 430.0, 429.0, 428.0, 427.0, 426.0, 425.0, 424.0, 423.0, 422.0, 421.0, 420.0, 419.0, 418.0, 417.0, 416.0, 440.0, 445.0, 449.0, 450.0, 451.0, 452.0, 453.0, 454.0, 455.0, 456.0, 457.0, 458.0, 459.0, 500.0, 501.0, 502.0, 503.0, 504.0, 505.0, 506.0, 508.0, 509.0, 510.0, 511.0, 512.0, 513.0, 514.0, 515.0, 516.0, 517.0, 518.0, 519.0, 520.0, 521.0, 522.0, 523.0, 524.0, 525.0, 526.0, 527.0, 528.0, 529.0, 530.0, 531.0, 532.0, 533.0, 535.0, 536.0, 537.0, 538.0, 539.0, 540.0, 541.0, 542.0, 543.0, 544.0, 545.0, 546.0, 547.0, 548.0, 549.0, 550.0, 552.0, 553.0, 554.0, 555.0, 556.0, 557.0, 558.0, 559.0, 600.0, 602.0, 603.0, 604.0, 605.0, 606.0, 607.0, 608.0, 610.0, 611.0, 612.0, 613.0, 614.0, 616.0, 617.0, 618.0, 619.0, 620.0, 622.0, 623.0])\n"
     ]
    },
    {
     "data": {
      "text/plain": [
       "dict_values([16, 16, 16, 16, 16, 16, 16, 16, 16, 16, 16, 16, 16, 24, 16, 16, 16, 16, 24, 16, 16, 32, 16, 24, 32, 24, 32, 40, 32, 64, 104, 8, 8, 8, 8, 8, 8, 8, 8, 8, 8, 8, 8, 8, 8, 8, 8, 8, 8, 8, 8, 8, 8, 8, 8, 8, 8, 8, 8, 8, 8, 8, 8, 8, 8, 8, 8, 8, 8, 8, 8, 8, 8, 8, 8, 8, 8, 8, 8, 8, 8, 8, 8, 8, 8, 8, 8, 8, 8, 8, 8, 8, 8, 8, 8, 8, 8, 8, 8, 8, 8, 8, 8, 8, 8, 8, 8, 8, 8, 8, 8, 8, 8, 8, 8, 8, 8, 8, 8, 8, 8])"
      ]
     },
     "execution_count": 61,
     "metadata": {},
     "output_type": "execute_result"
    }
   ],
   "source": [
    "int_list = get_int_list(weather_df['Sunrise'])\n",
    "print(len(int_list))\n",
    "print(Counter(int_list).keys())\n",
    "Counter(int_list).values()"
   ]
  },
  {
   "cell_type": "code",
   "execution_count": 62,
   "metadata": {
    "pycharm": {
     "name": "#%%\n"
    }
   },
   "outputs": [
    {
     "name": "stdout",
     "output_type": "stream",
     "text": [
      "dict_keys(['-'])\n"
     ]
    },
    {
     "data": {
      "text/plain": [
       "dict_values([1472])"
      ]
     },
     "execution_count": 62,
     "metadata": {},
     "output_type": "execute_result"
    }
   ],
   "source": [
    "non_int_list = get_non_int_list(weather_df['Sunrise'])\n",
    "print(Counter(non_int_list).keys())\n",
    "Counter(non_int_list).values()"
   ]
  },
  {
   "cell_type": "code",
   "execution_count": 63,
   "metadata": {
    "pycharm": {
     "name": "#%%\n"
    }
   },
   "outputs": [
    {
     "data": {
      "text/plain": [
       "1    1472\n",
       "4    1472\n",
       "Name: Sunrise, dtype: int64"
      ]
     },
     "execution_count": 63,
     "metadata": {},
     "output_type": "execute_result"
    }
   ],
   "source": [
    "weather_df['Sunrise'].map(lambda x: len(x)).value_counts()"
   ]
  },
  {
   "cell_type": "code",
   "execution_count": 64,
   "metadata": {
    "pycharm": {
     "name": "#%%\n"
    }
   },
   "outputs": [],
   "source": [
    "def to_hr_min_str(value):\n",
    "    if len(value) == 4:\n",
    "        return value[:2] + ':' + value[2:]\n",
    "    elif len(value) == 1:\n",
    "        return pd.NaT"
   ]
  },
  {
   "cell_type": "code",
   "execution_count": 65,
   "metadata": {
    "pycharm": {
     "name": "#%%\n"
    }
   },
   "outputs": [],
   "source": [
    "weather_df['Sunrise'] = weather_df['Sunrise'].map(to_hr_min_str)"
   ]
  },
  {
   "cell_type": "code",
   "execution_count": 66,
   "metadata": {
    "pycharm": {
     "name": "#%%\n"
    }
   },
   "outputs": [
    {
     "data": {
      "text/plain": [
       "0    04:48\n",
       "1      NaT\n",
       "2    04:47\n",
       "3      NaT\n",
       "4    04:46\n",
       "Name: Sunrise, dtype: object"
      ]
     },
     "execution_count": 66,
     "metadata": {},
     "output_type": "execute_result"
    }
   ],
   "source": [
    "weather_df['Sunrise'].head()"
   ]
  },
  {
   "cell_type": "code",
   "execution_count": 67,
   "metadata": {
    "pycharm": {
     "name": "#%%\n"
    }
   },
   "outputs": [
    {
     "data": {
      "text/plain": [
       "1472"
      ]
     },
     "execution_count": 67,
     "metadata": {},
     "output_type": "execute_result"
    }
   ],
   "source": [
    "weather_df['Sunrise'].isnull().sum()"
   ]
  },
  {
   "cell_type": "code",
   "execution_count": 68,
   "metadata": {},
   "outputs": [],
   "source": [
    "try:\n",
    "    pd.to_datetime(weather_df.Sunrise, format='%H:%M')\n",
    "except Exception as e:\n",
    "    print(str(e))"
   ]
  },
  {
   "cell_type": "code",
   "execution_count": 71,
   "metadata": {},
   "outputs": [
    {
     "data": {
      "text/plain": [
       "'04:16'"
      ]
     },
     "execution_count": 71,
     "metadata": {},
     "output_type": "execute_result"
    }
   ],
   "source": [
    "weather_df.Sunrise[~weather_df.Sunrise.isnull()].min()"
   ]
  },
  {
   "cell_type": "code",
   "execution_count": 72,
   "metadata": {},
   "outputs": [
    {
     "data": {
      "text/plain": [
       "'06:23'"
      ]
     },
     "execution_count": 72,
     "metadata": {},
     "output_type": "execute_result"
    }
   ],
   "source": [
    "weather_df.Sunrise[~weather_df.Sunrise.isnull()].max()"
   ]
  },
  {
   "cell_type": "code",
   "execution_count": 73,
   "metadata": {},
   "outputs": [],
   "source": [
    "weather_df['Sunrise'] = weather_df['CalendarDate'] + pd.to_timedelta(weather_df.Sunrise + ':00')"
   ]
  },
  {
   "cell_type": "code",
   "execution_count": 74,
   "metadata": {},
   "outputs": [
    {
     "data": {
      "text/plain": [
       "Timestamp('2007-05-01 04:48:00')"
      ]
     },
     "execution_count": 74,
     "metadata": {},
     "output_type": "execute_result"
    }
   ],
   "source": [
    "weather_df['Sunrise'].min()"
   ]
  },
  {
   "cell_type": "code",
   "execution_count": 75,
   "metadata": {},
   "outputs": [
    {
     "data": {
      "text/plain": [
       "Timestamp('2014-10-31 06:23:00')"
      ]
     },
     "execution_count": 75,
     "metadata": {},
     "output_type": "execute_result"
    }
   ],
   "source": [
    "weather_df['Sunrise'].max()"
   ]
  },
  {
   "cell_type": "code",
   "execution_count": null,
   "metadata": {
    "pycharm": {
     "name": "#%%\n"
    }
   },
   "outputs": [],
   "source": [
    "# Plot barchart\n",
    "# see if na values are factored in"
   ]
  },
  {
   "cell_type": "markdown",
   "metadata": {},
   "source": [
    "## Sunset"
   ]
  },
  {
   "cell_type": "code",
   "execution_count": 76,
   "metadata": {
    "pycharm": {
     "name": "#%%\n"
    }
   },
   "outputs": [
    {
     "data": {
      "text/plain": [
       "0    1849\n",
       "1       -\n",
       "2    1850\n",
       "3       -\n",
       "4    1851\n",
       "Name: Sunset, dtype: object"
      ]
     },
     "execution_count": 76,
     "metadata": {},
     "output_type": "execute_result"
    }
   ],
   "source": [
    "weather_df['Sunset'].head()"
   ]
  },
  {
   "cell_type": "code",
   "execution_count": 77,
   "metadata": {
    "pycharm": {
     "name": "#%%\n"
    }
   },
   "outputs": [
    {
     "name": "stdout",
     "output_type": "stream",
     "text": [
      "1472\n",
      "dict_keys([1849.0, 1850.0, 1851.0, 1852.0, 1853.0, 1855.0, 1856.0, 1857.0, 1858.0, 1859.0, 1860.0, 1901.0, 1902.0, 1903.0, 1904.0, 1905.0, 1906.0, 1907.0, 1908.0, 1909.0, 1910.0, 1911.0, 1912.0, 1913.0, 1914.0, 1915.0, 1916.0, 1917.0, 1918.0, 1919.0, 1920.0, 1921.0, 1922.0, 1923.0, 1924.0, 1925.0, 1926.0, 1927.0, 1928.0, 1929.0, 1930.0, 1931.0, 1900.0, 1854.0, 1848.0, 1846.0, 1845.0, 1843.0, 1842.0, 1840.0, 1839.0, 1837.0, 1835.0, 1834.0, 1832.0, 1831.0, 1829.0, 1827.0, 1826.0, 1824.0, 1822.0, 1821.0, 1819.0, 1817.0, 1815.0, 1814.0, 1812.0, 1810.0, 1809.0, 1807.0, 1805.0, 1803.0, 1760.0, 1758.0, 1756.0, 1755.0, 1753.0, 1751.0, 1749.0, 1748.0, 1746.0, 1744.0, 1742.0, 1741.0, 1739.0, 1737.0, 1735.0, 1734.0, 1732.0, 1730.0, 1729.0, 1727.0, 1725.0, 1724.0, 1722.0, 1720.0, 1719.0, 1717.0, 1715.0, 1714.0, 1712.0, 1711.0, 1709.0, 1707.0, 1706.0, 1704.0, 1703.0, 1701.0, 1660.0, 1658.0, 1657.0, 1656.0, 1654.0, 1653.0, 1651.0, 1650.0, 1649.0, 1647.0])\n"
     ]
    },
    {
     "data": {
      "text/plain": [
       "dict_values([16, 8, 16, 16, 8, 16, 16, 8, 16, 16, 8, 8, 16, 16, 16, 8, 16, 16, 16, 16, 16, 16, 8, 16, 16, 16, 24, 16, 24, 16, 24, 16, 16, 32, 16, 32, 24, 32, 32, 48, 56, 96, 8, 8, 8, 8, 8, 8, 8, 8, 8, 8, 8, 8, 8, 8, 8, 8, 8, 8, 8, 8, 8, 8, 8, 8, 8, 8, 8, 8, 8, 8, 8, 8, 8, 8, 8, 8, 8, 8, 8, 8, 8, 8, 8, 8, 8, 8, 8, 8, 8, 8, 8, 8, 8, 8, 8, 8, 8, 8, 8, 8, 8, 8, 8, 8, 8, 8, 8, 8, 8, 8, 8, 8, 8, 8, 8, 8])"
      ]
     },
     "execution_count": 77,
     "metadata": {},
     "output_type": "execute_result"
    }
   ],
   "source": [
    "int_list = get_int_list(weather_df['Sunset'])\n",
    "print(len(int_list))\n",
    "print(Counter(int_list).keys())\n",
    "Counter(int_list).values()"
   ]
  },
  {
   "cell_type": "code",
   "execution_count": 78,
   "metadata": {
    "pycharm": {
     "name": "#%%\n"
    }
   },
   "outputs": [
    {
     "name": "stdout",
     "output_type": "stream",
     "text": [
      "dict_keys(['-'])\n"
     ]
    },
    {
     "data": {
      "text/plain": [
       "dict_values([1472])"
      ]
     },
     "execution_count": 78,
     "metadata": {},
     "output_type": "execute_result"
    }
   ],
   "source": [
    "non_int_list = get_non_int_list(weather_df['Sunset'])\n",
    "print(Counter(non_int_list).keys())\n",
    "Counter(non_int_list).values()"
   ]
  },
  {
   "cell_type": "code",
   "execution_count": 79,
   "metadata": {
    "pycharm": {
     "name": "#%%\n"
    }
   },
   "outputs": [
    {
     "data": {
      "text/plain": [
       "1    1472\n",
       "4    1472\n",
       "Name: Sunset, dtype: int64"
      ]
     },
     "execution_count": 79,
     "metadata": {},
     "output_type": "execute_result"
    }
   ],
   "source": [
    "weather_df['Sunset'].map(lambda x: len(x)).value_counts()"
   ]
  },
  {
   "cell_type": "code",
   "execution_count": 80,
   "metadata": {
    "pycharm": {
     "name": "#%%\n"
    }
   },
   "outputs": [],
   "source": [
    "weather_df['Sunset'] = weather_df['Sunset'].map(to_hr_min_str)"
   ]
  },
  {
   "cell_type": "code",
   "execution_count": 81,
   "metadata": {
    "pycharm": {
     "name": "#%%\n"
    }
   },
   "outputs": [
    {
     "data": {
      "text/plain": [
       "0    18:49\n",
       "1      NaT\n",
       "2    18:50\n",
       "3      NaT\n",
       "4    18:51\n",
       "Name: Sunset, dtype: object"
      ]
     },
     "execution_count": 81,
     "metadata": {},
     "output_type": "execute_result"
    }
   ],
   "source": [
    "weather_df['Sunset'].head()"
   ]
  },
  {
   "cell_type": "code",
   "execution_count": 82,
   "metadata": {
    "pycharm": {
     "name": "#%%\n"
    }
   },
   "outputs": [
    {
     "data": {
      "text/plain": [
       "1472"
      ]
     },
     "execution_count": 82,
     "metadata": {},
     "output_type": "execute_result"
    }
   ],
   "source": [
    "weather_df['Sunset'].isnull().sum()"
   ]
  },
  {
   "cell_type": "code",
   "execution_count": 83,
   "metadata": {},
   "outputs": [
    {
     "data": {
      "text/plain": [
       "2    1472\n",
       "Name: Station, dtype: int64"
      ]
     },
     "execution_count": 83,
     "metadata": {},
     "output_type": "execute_result"
    }
   ],
   "source": [
    "weather_df.loc[weather_df['Sunset'].isna(), 'Station'].value_counts()"
   ]
  },
  {
   "cell_type": "code",
   "execution_count": 84,
   "metadata": {},
   "outputs": [],
   "source": [
    "weather_df['Sunset'].fillna(method='ffill', inplace=True)"
   ]
  },
  {
   "cell_type": "code",
   "execution_count": 85,
   "metadata": {},
   "outputs": [
    {
     "name": "stdout",
     "output_type": "stream",
     "text": [
      "minute must be in 0..59: 18:60\n"
     ]
    }
   ],
   "source": [
    "try:\n",
    "    pd.to_datetime(weather_df.Sunset)\n",
    "except Exception as e:\n",
    "    print(str(e))"
   ]
  },
  {
   "cell_type": "code",
   "execution_count": null,
   "metadata": {},
   "outputs": [],
   "source": [
    "# with pd.option_context('display.max_rows', 500, 'display.max_columns', 24):\n",
    "#     print(weather_df[weather_df.Sunset.str[3] == '6'])"
   ]
  },
  {
   "cell_type": "code",
   "execution_count": 86,
   "metadata": {},
   "outputs": [
    {
     "data": {
      "text/html": [
       "<div>\n",
       "<style scoped>\n",
       "    .dataframe tbody tr th:only-of-type {\n",
       "        vertical-align: middle;\n",
       "    }\n",
       "\n",
       "    .dataframe tbody tr th {\n",
       "        vertical-align: top;\n",
       "    }\n",
       "\n",
       "    .dataframe thead th {\n",
       "        text-align: right;\n",
       "    }\n",
       "</style>\n",
       "<table border=\"1\" class=\"dataframe\">\n",
       "  <thead>\n",
       "    <tr style=\"text-align: right;\">\n",
       "      <th></th>\n",
       "      <th>CalendarDate</th>\n",
       "      <th>Station</th>\n",
       "      <th>Sunrise</th>\n",
       "      <th>Sunset</th>\n",
       "    </tr>\n",
       "  </thead>\n",
       "  <tbody>\n",
       "    <tr>\n",
       "      <th>2920</th>\n",
       "      <td>2014-10-20</td>\n",
       "      <td>1</td>\n",
       "      <td>2014-10-20 06:10:00</td>\n",
       "      <td>17:03</td>\n",
       "    </tr>\n",
       "    <tr>\n",
       "      <th>2921</th>\n",
       "      <td>2014-10-20</td>\n",
       "      <td>2</td>\n",
       "      <td>NaT</td>\n",
       "      <td>17:03</td>\n",
       "    </tr>\n",
       "    <tr>\n",
       "      <th>2922</th>\n",
       "      <td>2014-10-21</td>\n",
       "      <td>1</td>\n",
       "      <td>2014-10-21 06:11:00</td>\n",
       "      <td>17:01</td>\n",
       "    </tr>\n",
       "    <tr>\n",
       "      <th>2923</th>\n",
       "      <td>2014-10-21</td>\n",
       "      <td>2</td>\n",
       "      <td>NaT</td>\n",
       "      <td>17:01</td>\n",
       "    </tr>\n",
       "    <tr>\n",
       "      <th>2924</th>\n",
       "      <td>2014-10-22</td>\n",
       "      <td>1</td>\n",
       "      <td>2014-10-22 06:12:00</td>\n",
       "      <td>16:60</td>\n",
       "    </tr>\n",
       "    <tr>\n",
       "      <th>2925</th>\n",
       "      <td>2014-10-22</td>\n",
       "      <td>2</td>\n",
       "      <td>NaT</td>\n",
       "      <td>16:60</td>\n",
       "    </tr>\n",
       "    <tr>\n",
       "      <th>2926</th>\n",
       "      <td>2014-10-23</td>\n",
       "      <td>1</td>\n",
       "      <td>2014-10-23 06:13:00</td>\n",
       "      <td>16:58</td>\n",
       "    </tr>\n",
       "    <tr>\n",
       "      <th>2927</th>\n",
       "      <td>2014-10-23</td>\n",
       "      <td>2</td>\n",
       "      <td>NaT</td>\n",
       "      <td>16:58</td>\n",
       "    </tr>\n",
       "  </tbody>\n",
       "</table>\n",
       "</div>"
      ],
      "text/plain": [
       "     CalendarDate  Station             Sunrise Sunset\n",
       "2920   2014-10-20        1 2014-10-20 06:10:00  17:03\n",
       "2921   2014-10-20        2                 NaT  17:03\n",
       "2922   2014-10-21        1 2014-10-21 06:11:00  17:01\n",
       "2923   2014-10-21        2                 NaT  17:01\n",
       "2924   2014-10-22        1 2014-10-22 06:12:00  16:60\n",
       "2925   2014-10-22        2                 NaT  16:60\n",
       "2926   2014-10-23        1 2014-10-23 06:13:00  16:58\n",
       "2927   2014-10-23        2                 NaT  16:58"
      ]
     },
     "execution_count": 86,
     "metadata": {},
     "output_type": "execute_result"
    }
   ],
   "source": [
    "weather_df.loc[list(range(2920, 2928, 1)), ['CalendarDate', 'Station', 'Sunrise', 'Sunset']]"
   ]
  },
  {
   "cell_type": "code",
   "execution_count": 87,
   "metadata": {},
   "outputs": [],
   "source": [
    "erroneous_sunset_time_indices = weather_df[weather_df.Sunset.str[3] == '6'].index.tolist()"
   ]
  },
  {
   "cell_type": "code",
   "execution_count": 88,
   "metadata": {},
   "outputs": [
    {
     "data": {
      "text/plain": [
       "20      18:60\n",
       "21      18:60\n",
       "276     17:60\n",
       "277     17:60\n",
       "348     16:60\n",
       "349     16:60\n",
       "388     18:60\n",
       "389     18:60\n",
       "644     17:60\n",
       "645     17:60\n",
       "716     16:60\n",
       "717     16:60\n",
       "756     18:60\n",
       "757     18:60\n",
       "1012    17:60\n",
       "1013    17:60\n",
       "1084    16:60\n",
       "1085    16:60\n",
       "1124    18:60\n",
       "1125    18:60\n",
       "1380    17:60\n",
       "1381    17:60\n",
       "1452    16:60\n",
       "1453    16:60\n",
       "1492    18:60\n",
       "1493    18:60\n",
       "1748    17:60\n",
       "1749    17:60\n",
       "1820    16:60\n",
       "1821    16:60\n",
       "1860    18:60\n",
       "1861    18:60\n",
       "2116    17:60\n",
       "2117    17:60\n",
       "2188    16:60\n",
       "2189    16:60\n",
       "2228    18:60\n",
       "2229    18:60\n",
       "2484    17:60\n",
       "2485    17:60\n",
       "2556    16:60\n",
       "2557    16:60\n",
       "2596    18:60\n",
       "2597    18:60\n",
       "2852    17:60\n",
       "2853    17:60\n",
       "2924    16:60\n",
       "2925    16:60\n",
       "Name: Sunset, dtype: object"
      ]
     },
     "execution_count": 88,
     "metadata": {},
     "output_type": "execute_result"
    }
   ],
   "source": [
    "weather_df.loc[erroneous_sunset_time_indices, 'Sunset']"
   ]
  },
  {
   "cell_type": "code",
   "execution_count": 89,
   "metadata": {},
   "outputs": [],
   "source": [
    "weather_df['Sunset'] = \\\n",
    "weather_df['CalendarDate'] + \\\n",
    "pd.to_timedelta(weather_df.Sunset.map(lambda x: x[:2]).astype(int), unit='h') + \\\n",
    "pd.to_timedelta(weather_df.Sunset.map(lambda x: x[3:]).astype(int), unit='m')"
   ]
  },
  {
   "cell_type": "code",
   "execution_count": 90,
   "metadata": {},
   "outputs": [
    {
     "data": {
      "text/plain": [
       "20     2007-05-11 19:00:00\n",
       "21     2007-05-11 19:00:00\n",
       "276    2007-09-16 18:00:00\n",
       "277    2007-09-16 18:00:00\n",
       "348    2007-10-22 17:00:00\n",
       "349    2007-10-22 17:00:00\n",
       "388    2008-05-11 19:00:00\n",
       "389    2008-05-11 19:00:00\n",
       "644    2008-09-16 18:00:00\n",
       "645    2008-09-16 18:00:00\n",
       "716    2008-10-22 17:00:00\n",
       "717    2008-10-22 17:00:00\n",
       "756    2009-05-11 19:00:00\n",
       "757    2009-05-11 19:00:00\n",
       "1012   2009-09-16 18:00:00\n",
       "1013   2009-09-16 18:00:00\n",
       "1084   2009-10-22 17:00:00\n",
       "1085   2009-10-22 17:00:00\n",
       "1124   2010-05-11 19:00:00\n",
       "1125   2010-05-11 19:00:00\n",
       "1380   2010-09-16 18:00:00\n",
       "1381   2010-09-16 18:00:00\n",
       "1452   2010-10-22 17:00:00\n",
       "1453   2010-10-22 17:00:00\n",
       "1492   2011-05-11 19:00:00\n",
       "1493   2011-05-11 19:00:00\n",
       "1748   2011-09-16 18:00:00\n",
       "1749   2011-09-16 18:00:00\n",
       "1820   2011-10-22 17:00:00\n",
       "1821   2011-10-22 17:00:00\n",
       "1860   2012-05-11 19:00:00\n",
       "1861   2012-05-11 19:00:00\n",
       "2116   2012-09-16 18:00:00\n",
       "2117   2012-09-16 18:00:00\n",
       "2188   2012-10-22 17:00:00\n",
       "2189   2012-10-22 17:00:00\n",
       "2228   2013-05-11 19:00:00\n",
       "2229   2013-05-11 19:00:00\n",
       "2484   2013-09-16 18:00:00\n",
       "2485   2013-09-16 18:00:00\n",
       "2556   2013-10-22 17:00:00\n",
       "2557   2013-10-22 17:00:00\n",
       "2596   2014-05-11 19:00:00\n",
       "2597   2014-05-11 19:00:00\n",
       "2852   2014-09-16 18:00:00\n",
       "2853   2014-09-16 18:00:00\n",
       "2924   2014-10-22 17:00:00\n",
       "2925   2014-10-22 17:00:00\n",
       "Name: Sunset, dtype: datetime64[ns]"
      ]
     },
     "execution_count": 90,
     "metadata": {},
     "output_type": "execute_result"
    }
   ],
   "source": [
    "weather_df.loc[erroneous_sunset_time_indices, 'Sunset']"
   ]
  },
  {
   "cell_type": "code",
   "execution_count": 110,
   "metadata": {},
   "outputs": [],
   "source": [
    "sunset_timings_str = weather_df['Sunset'].dt.hour.astype(str) + \":\" + weather_df['Sunset'].dt.minute.astype(str)"
   ]
  },
  {
   "cell_type": "code",
   "execution_count": 111,
   "metadata": {},
   "outputs": [
    {
     "data": {
      "text/plain": [
       "'16:47'"
      ]
     },
     "execution_count": 111,
     "metadata": {},
     "output_type": "execute_result"
    }
   ],
   "source": [
    "sunset_timings_str.min()"
   ]
  },
  {
   "cell_type": "code",
   "execution_count": 112,
   "metadata": {},
   "outputs": [
    {
     "data": {
      "text/plain": [
       "'19:9'"
      ]
     },
     "execution_count": 112,
     "metadata": {},
     "output_type": "execute_result"
    }
   ],
   "source": [
    "sunset_timings_str.max()"
   ]
  },
  {
   "cell_type": "code",
   "execution_count": null,
   "metadata": {
    "pycharm": {
     "name": "#%%\n"
    }
   },
   "outputs": [],
   "source": [
    "# Plot barchart"
   ]
  },
  {
   "cell_type": "markdown",
   "metadata": {},
   "source": [
    "---"
   ]
  },
  {
   "cell_type": "code",
   "execution_count": null,
   "metadata": {},
   "outputs": [],
   "source": [
    "# weather_df['CalendarDate'].loc[20]"
   ]
  },
  {
   "cell_type": "code",
   "execution_count": null,
   "metadata": {},
   "outputs": [],
   "source": [
    "# weather_df.Sunset.loc[20]"
   ]
  },
  {
   "cell_type": "code",
   "execution_count": null,
   "metadata": {},
   "outputs": [],
   "source": [
    "# (weather_df.loc[~weather_df.Sunset.isnull(), 'CalendarDate'] + \\\n",
    "# pd.to_timedelta(weather_df[~weather_df.Sunset.isnull()].Sunset.map(lambda x: x[:2]).astype(int), unit='h') + \\\n",
    "# pd.to_timedelta(weather_df[~weather_df.Sunset.isnull()].Sunset.map(lambda x: x[3:]).astype(int), unit='m')).loc[20]"
   ]
  },
  {
   "cell_type": "code",
   "execution_count": null,
   "metadata": {},
   "outputs": [],
   "source": [
    "# weather_df.loc[~weather_df.Sunset.isnull(), 'CalendarDate'] + \\\n",
    "# pd.to_timedelta(weather_df[~weather_df.Sunset.isnull()].Sunset.map(lambda x: x[:2]).astype(int), unit='h') + \\\n",
    "# pd.to_timedelta(weather_df[~weather_df.Sunset.isnull()].Sunset.map(lambda x: x[3:]).astype(int), unit='m')"
   ]
  },
  {
   "cell_type": "code",
   "execution_count": null,
   "metadata": {},
   "outputs": [],
   "source": []
  },
  {
   "cell_type": "code",
   "execution_count": null,
   "metadata": {},
   "outputs": [],
   "source": [
    "# sorted(weather_df.Sunset.value_counts().index.tolist())"
   ]
  },
  {
   "cell_type": "code",
   "execution_count": null,
   "metadata": {},
   "outputs": [],
   "source": [
    "# weather_df['Sunrise'] = pd.to_datetime(weather_df.Sunrise, format='%H:%M')"
   ]
  },
  {
   "cell_type": "code",
   "execution_count": null,
   "metadata": {},
   "outputs": [],
   "source": [
    "# weather_df['Sunset'] = pd.to_datetime(weather_df['Sunset'], format='%H:%M')"
   ]
  },
  {
   "cell_type": "code",
   "execution_count": null,
   "metadata": {},
   "outputs": [],
   "source": [
    "# (weather_df['Sunset'] - weather_df['Sunrise'])"
   ]
  },
  {
   "cell_type": "markdown",
   "metadata": {},
   "source": [
    "## CodeSum\n",
    "Significant Weather Types / Weather Phenomena"
   ]
  },
  {
   "cell_type": "code",
   "execution_count": 91,
   "metadata": {
    "pycharm": {
     "name": "#%%\n"
    }
   },
   "outputs": [
    {
     "data": {
      "text/plain": [
       "0         \n",
       "1         \n",
       "2       BR\n",
       "3    BR HZ\n",
       "4         \n",
       "Name: CodeSum, dtype: object"
      ]
     },
     "execution_count": 91,
     "metadata": {},
     "output_type": "execute_result"
    }
   ],
   "source": [
    "weather_df['CodeSum'].head()"
   ]
  },
  {
   "cell_type": "code",
   "execution_count": 92,
   "metadata": {
    "pycharm": {
     "name": "#%%\n"
    }
   },
   "outputs": [
    {
     "data": {
      "text/plain": [
       "                 1609\n",
       "RA                296\n",
       "RA BR             238\n",
       "BR                110\n",
       "TSRA RA BR         92\n",
       "                 ... \n",
       "MIFG BCFG BR        1\n",
       "FG+                 1\n",
       "TSRA DZ BR HZ       1\n",
       "FG+ FG BR           1\n",
       "TSRA RA HZ FU       1\n",
       "Name: CodeSum, Length: 98, dtype: int64"
      ]
     },
     "execution_count": 92,
     "metadata": {},
     "output_type": "execute_result"
    }
   ],
   "source": [
    "weather_df['CodeSum'].value_counts(dropna=False)"
   ]
  },
  {
   "cell_type": "code",
   "execution_count": 93,
   "metadata": {
    "scrolled": true
   },
   "outputs": [
    {
     "name": "stdout",
     "output_type": "stream",
     "text": [
      "Index([' ', 'RA', 'RA BR', 'BR', 'TSRA RA BR', 'BR HZ', 'RA DZ BR', 'TSRA RA',\n",
      "       'HZ', 'RA BR HZ', 'TSRA', 'RA DZ', 'TSRA BR', 'TS TSRA RA BR', 'RA HZ',\n",
      "       'TS RA', 'TSRA RA BR HZ', 'TS TSRA BR', 'DZ BR', 'TS', 'DZ BR HZ',\n",
      "       'TS RA BR', 'DZ', 'TSRA BR HZ', 'TS TSRA BR HZ', 'RA DZ BR HZ',\n",
      "       'TS TSRA RA', 'TS TSRA', 'RA SN', 'FG+ BR', 'TS BR', 'TSRA HZ',\n",
      "       'TSRA RA BR VCTS', 'TSRA RA DZ BR HZ', 'TSRA RA HZ', 'TS TSRA RA BR HZ',\n",
      "       'FG+ BR HZ', 'VCTS', 'FG+ FG BR HZ', 'RA BR VCTS', 'TSRA RA FG BR',\n",
      "       'TS BR HZ', 'TSRA RA FG+ FG BR', 'FG BR HZ', 'TSRA RA DZ BR',\n",
      "       'RA BR HZ FU', 'TSRA RA VCTS', 'BR HZ FU', 'RA BR SQ', 'HZ VCTS',\n",
      "       'TSRA FG+ BR HZ', 'RA DZ SN', 'TS TSRA RA VCTS', 'TS TSRA RA FG BR',\n",
      "       'TS TSRA HZ', 'RA DZ FG+ FG BR', 'RA FG+ MIFG BR', 'RA SN BR',\n",
      "       'TS TSRA GR RA BR', 'RA VCTS', 'TSRA BR HZ FU', 'RA BR HZ VCTS',\n",
      "       'TSRA BR SQ', 'TS TSRA VCFG', 'FG+ MIFG BR', 'FU', 'TSRA RA BR HZ VCTS',\n",
      "       'RA FG+ BR', 'BCFG BR', 'RA DZ FG+ BR HZ', 'RA DZ FG+ BCFG BR',\n",
      "       'TS TSRA RA HZ', 'BR VCTS', 'HZ FU', 'TS TSRA RA BR VCTS',\n",
      "       'TS TSRA RA FG BR HZ', 'TS TSRA RA BR HZ VCTS', 'FG+ BCFG BR',\n",
      "       'BR HZ VCFG', 'RA BR HZ VCFG', 'TSRA RA FG+ BR', 'TSRA DZ FG+ FG BR HZ',\n",
      "       'RA BR VCFG', 'RA FG BR', 'RA BCFG BR', 'TSRA RA FG+ FG BR HZ',\n",
      "       'RA BR FU', 'TS HZ', 'TSRA BR HZ VCTS', 'TS RA FG+ FG BR',\n",
      "       'RA DZ FG+ BR', 'TS RA BR HZ', 'TSRA FG+ BR', 'MIFG BCFG BR', 'FG+',\n",
      "       'TSRA DZ BR HZ', 'FG+ FG BR', 'TSRA RA HZ FU'],\n",
      "      dtype='object')\n"
     ]
    }
   ],
   "source": [
    "print(weather_df['CodeSum'].value_counts(dropna=False).index)"
   ]
  },
  {
   "cell_type": "code",
   "execution_count": 94,
   "metadata": {
    "pycharm": {
     "name": "#%%\n"
    }
   },
   "outputs": [],
   "source": [
    "weather_df['CodeSum'] = weather_df['CodeSum'].map(lambda x: '' if x == ' ' else x)"
   ]
  },
  {
   "cell_type": "code",
   "execution_count": 95,
   "metadata": {
    "pycharm": {
     "name": "#%%\n"
    }
   },
   "outputs": [
    {
     "data": {
      "text/plain": [
       "1609"
      ]
     },
     "execution_count": 95,
     "metadata": {},
     "output_type": "execute_result"
    }
   ],
   "source": [
    "len(weather_df.loc[weather_df['CodeSum'] == '', 'CodeSum'])"
   ]
  },
  {
   "cell_type": "code",
   "execution_count": 96,
   "metadata": {
    "pycharm": {
     "name": "#%%\n"
    }
   },
   "outputs": [
    {
     "data": {
      "text/html": [
       "<div>\n",
       "<style scoped>\n",
       "    .dataframe tbody tr th:only-of-type {\n",
       "        vertical-align: middle;\n",
       "    }\n",
       "\n",
       "    .dataframe tbody tr th {\n",
       "        vertical-align: top;\n",
       "    }\n",
       "\n",
       "    .dataframe thead th {\n",
       "        text-align: right;\n",
       "    }\n",
       "</style>\n",
       "<table border=\"1\" class=\"dataframe\">\n",
       "  <thead>\n",
       "    <tr style=\"text-align: right;\">\n",
       "      <th></th>\n",
       "      <th>CodeSum_BCFG</th>\n",
       "      <th>CodeSum_BR</th>\n",
       "      <th>CodeSum_DZ</th>\n",
       "      <th>CodeSum_FG</th>\n",
       "      <th>CodeSum_FG+</th>\n",
       "      <th>CodeSum_FU</th>\n",
       "      <th>CodeSum_GR</th>\n",
       "      <th>CodeSum_HZ</th>\n",
       "      <th>CodeSum_MIFG</th>\n",
       "      <th>CodeSum_RA</th>\n",
       "      <th>CodeSum_SN</th>\n",
       "      <th>CodeSum_SQ</th>\n",
       "      <th>CodeSum_TS</th>\n",
       "      <th>CodeSum_TSRA</th>\n",
       "      <th>CodeSum_VCFG</th>\n",
       "      <th>CodeSum_VCTS</th>\n",
       "    </tr>\n",
       "  </thead>\n",
       "  <tbody>\n",
       "    <tr>\n",
       "      <th>0</th>\n",
       "      <td>0</td>\n",
       "      <td>0</td>\n",
       "      <td>0</td>\n",
       "      <td>0</td>\n",
       "      <td>0</td>\n",
       "      <td>0</td>\n",
       "      <td>0</td>\n",
       "      <td>0</td>\n",
       "      <td>0</td>\n",
       "      <td>0</td>\n",
       "      <td>0</td>\n",
       "      <td>0</td>\n",
       "      <td>0</td>\n",
       "      <td>0</td>\n",
       "      <td>0</td>\n",
       "      <td>0</td>\n",
       "    </tr>\n",
       "    <tr>\n",
       "      <th>1</th>\n",
       "      <td>0</td>\n",
       "      <td>0</td>\n",
       "      <td>0</td>\n",
       "      <td>0</td>\n",
       "      <td>0</td>\n",
       "      <td>0</td>\n",
       "      <td>0</td>\n",
       "      <td>0</td>\n",
       "      <td>0</td>\n",
       "      <td>0</td>\n",
       "      <td>0</td>\n",
       "      <td>0</td>\n",
       "      <td>0</td>\n",
       "      <td>0</td>\n",
       "      <td>0</td>\n",
       "      <td>0</td>\n",
       "    </tr>\n",
       "    <tr>\n",
       "      <th>2</th>\n",
       "      <td>0</td>\n",
       "      <td>1</td>\n",
       "      <td>0</td>\n",
       "      <td>0</td>\n",
       "      <td>0</td>\n",
       "      <td>0</td>\n",
       "      <td>0</td>\n",
       "      <td>0</td>\n",
       "      <td>0</td>\n",
       "      <td>0</td>\n",
       "      <td>0</td>\n",
       "      <td>0</td>\n",
       "      <td>0</td>\n",
       "      <td>0</td>\n",
       "      <td>0</td>\n",
       "      <td>0</td>\n",
       "    </tr>\n",
       "    <tr>\n",
       "      <th>3</th>\n",
       "      <td>0</td>\n",
       "      <td>1</td>\n",
       "      <td>0</td>\n",
       "      <td>0</td>\n",
       "      <td>0</td>\n",
       "      <td>0</td>\n",
       "      <td>0</td>\n",
       "      <td>1</td>\n",
       "      <td>0</td>\n",
       "      <td>0</td>\n",
       "      <td>0</td>\n",
       "      <td>0</td>\n",
       "      <td>0</td>\n",
       "      <td>0</td>\n",
       "      <td>0</td>\n",
       "      <td>0</td>\n",
       "    </tr>\n",
       "    <tr>\n",
       "      <th>4</th>\n",
       "      <td>0</td>\n",
       "      <td>0</td>\n",
       "      <td>0</td>\n",
       "      <td>0</td>\n",
       "      <td>0</td>\n",
       "      <td>0</td>\n",
       "      <td>0</td>\n",
       "      <td>0</td>\n",
       "      <td>0</td>\n",
       "      <td>0</td>\n",
       "      <td>0</td>\n",
       "      <td>0</td>\n",
       "      <td>0</td>\n",
       "      <td>0</td>\n",
       "      <td>0</td>\n",
       "      <td>0</td>\n",
       "    </tr>\n",
       "    <tr>\n",
       "      <th>...</th>\n",
       "      <td>...</td>\n",
       "      <td>...</td>\n",
       "      <td>...</td>\n",
       "      <td>...</td>\n",
       "      <td>...</td>\n",
       "      <td>...</td>\n",
       "      <td>...</td>\n",
       "      <td>...</td>\n",
       "      <td>...</td>\n",
       "      <td>...</td>\n",
       "      <td>...</td>\n",
       "      <td>...</td>\n",
       "      <td>...</td>\n",
       "      <td>...</td>\n",
       "      <td>...</td>\n",
       "      <td>...</td>\n",
       "    </tr>\n",
       "    <tr>\n",
       "      <th>2939</th>\n",
       "      <td>0</td>\n",
       "      <td>0</td>\n",
       "      <td>0</td>\n",
       "      <td>0</td>\n",
       "      <td>0</td>\n",
       "      <td>0</td>\n",
       "      <td>0</td>\n",
       "      <td>0</td>\n",
       "      <td>0</td>\n",
       "      <td>0</td>\n",
       "      <td>0</td>\n",
       "      <td>0</td>\n",
       "      <td>0</td>\n",
       "      <td>0</td>\n",
       "      <td>0</td>\n",
       "      <td>0</td>\n",
       "    </tr>\n",
       "    <tr>\n",
       "      <th>2940</th>\n",
       "      <td>0</td>\n",
       "      <td>0</td>\n",
       "      <td>0</td>\n",
       "      <td>0</td>\n",
       "      <td>0</td>\n",
       "      <td>0</td>\n",
       "      <td>0</td>\n",
       "      <td>0</td>\n",
       "      <td>0</td>\n",
       "      <td>0</td>\n",
       "      <td>0</td>\n",
       "      <td>0</td>\n",
       "      <td>0</td>\n",
       "      <td>0</td>\n",
       "      <td>0</td>\n",
       "      <td>0</td>\n",
       "    </tr>\n",
       "    <tr>\n",
       "      <th>2941</th>\n",
       "      <td>0</td>\n",
       "      <td>0</td>\n",
       "      <td>0</td>\n",
       "      <td>0</td>\n",
       "      <td>0</td>\n",
       "      <td>0</td>\n",
       "      <td>0</td>\n",
       "      <td>0</td>\n",
       "      <td>0</td>\n",
       "      <td>1</td>\n",
       "      <td>0</td>\n",
       "      <td>0</td>\n",
       "      <td>0</td>\n",
       "      <td>0</td>\n",
       "      <td>0</td>\n",
       "      <td>0</td>\n",
       "    </tr>\n",
       "    <tr>\n",
       "      <th>2942</th>\n",
       "      <td>0</td>\n",
       "      <td>0</td>\n",
       "      <td>0</td>\n",
       "      <td>0</td>\n",
       "      <td>0</td>\n",
       "      <td>0</td>\n",
       "      <td>0</td>\n",
       "      <td>0</td>\n",
       "      <td>0</td>\n",
       "      <td>1</td>\n",
       "      <td>1</td>\n",
       "      <td>0</td>\n",
       "      <td>0</td>\n",
       "      <td>0</td>\n",
       "      <td>0</td>\n",
       "      <td>0</td>\n",
       "    </tr>\n",
       "    <tr>\n",
       "      <th>2943</th>\n",
       "      <td>0</td>\n",
       "      <td>1</td>\n",
       "      <td>0</td>\n",
       "      <td>0</td>\n",
       "      <td>0</td>\n",
       "      <td>0</td>\n",
       "      <td>0</td>\n",
       "      <td>0</td>\n",
       "      <td>0</td>\n",
       "      <td>1</td>\n",
       "      <td>1</td>\n",
       "      <td>0</td>\n",
       "      <td>0</td>\n",
       "      <td>0</td>\n",
       "      <td>0</td>\n",
       "      <td>0</td>\n",
       "    </tr>\n",
       "  </tbody>\n",
       "</table>\n",
       "<p>2944 rows × 16 columns</p>\n",
       "</div>"
      ],
      "text/plain": [
       "      CodeSum_BCFG  CodeSum_BR  CodeSum_DZ  CodeSum_FG  CodeSum_FG+  \\\n",
       "0                0           0           0           0            0   \n",
       "1                0           0           0           0            0   \n",
       "2                0           1           0           0            0   \n",
       "3                0           1           0           0            0   \n",
       "4                0           0           0           0            0   \n",
       "...            ...         ...         ...         ...          ...   \n",
       "2939             0           0           0           0            0   \n",
       "2940             0           0           0           0            0   \n",
       "2941             0           0           0           0            0   \n",
       "2942             0           0           0           0            0   \n",
       "2943             0           1           0           0            0   \n",
       "\n",
       "      CodeSum_FU  CodeSum_GR  CodeSum_HZ  CodeSum_MIFG  CodeSum_RA  \\\n",
       "0              0           0           0             0           0   \n",
       "1              0           0           0             0           0   \n",
       "2              0           0           0             0           0   \n",
       "3              0           0           1             0           0   \n",
       "4              0           0           0             0           0   \n",
       "...          ...         ...         ...           ...         ...   \n",
       "2939           0           0           0             0           0   \n",
       "2940           0           0           0             0           0   \n",
       "2941           0           0           0             0           1   \n",
       "2942           0           0           0             0           1   \n",
       "2943           0           0           0             0           1   \n",
       "\n",
       "      CodeSum_SN  CodeSum_SQ  CodeSum_TS  CodeSum_TSRA  CodeSum_VCFG  \\\n",
       "0              0           0           0             0             0   \n",
       "1              0           0           0             0             0   \n",
       "2              0           0           0             0             0   \n",
       "3              0           0           0             0             0   \n",
       "4              0           0           0             0             0   \n",
       "...          ...         ...         ...           ...           ...   \n",
       "2939           0           0           0             0             0   \n",
       "2940           0           0           0             0             0   \n",
       "2941           0           0           0             0             0   \n",
       "2942           1           0           0             0             0   \n",
       "2943           1           0           0             0             0   \n",
       "\n",
       "      CodeSum_VCTS  \n",
       "0                0  \n",
       "1                0  \n",
       "2                0  \n",
       "3                0  \n",
       "4                0  \n",
       "...            ...  \n",
       "2939             0  \n",
       "2940             0  \n",
       "2941             0  \n",
       "2942             0  \n",
       "2943             0  \n",
       "\n",
       "[2944 rows x 16 columns]"
      ]
     },
     "execution_count": 96,
     "metadata": {},
     "output_type": "execute_result"
    }
   ],
   "source": [
    "# Count Vectorize\n",
    "\n",
    "# Instantiate a CountVectorizer\n",
    "cvec = CountVectorizer(token_pattern=r'(?u)[\\w+-]+')\n",
    "\n",
    "# Fit the vectorizer on our corpus\n",
    "cvec.fit(weather_df['CodeSum'])\n",
    "\n",
    "# Transform the corpus\n",
    "X_codesum = cvec.transform(weather_df['CodeSum'])\n",
    "# print(type(X_codesum))\n",
    "# print(X_codesum)\n",
    "\n",
    "# Convert X_train into a DataFrame\n",
    "X_codesum_df = pd.DataFrame(X_codesum.toarray(),\n",
    "                   columns=list(map(lambda x: \"CodeSum_\" + x.upper(), cvec.get_feature_names())))\n",
    "X_codesum_df"
   ]
  },
  {
   "cell_type": "markdown",
   "metadata": {},
   "source": [
    "|Abbreviation|Weather Phenomena |\n",
    "|:------------|:-----------------|\n",
    "|BCFG|Fog Patches|\n",
    "|BR|Mist|\n",
    "|DZ|Drizzle|\n",
    "|FG|Fog|\n",
    "|FG+|Heavy Fog|\n",
    "|FU|Smoke|\n",
    "|GR|Hail|\n",
    "|HZ|Haze|\n",
    "|MIFG|Shallow Fog|\n",
    "|RA|Rain|\n",
    "|SN|Snow|\n",
    "|SQ|Squall|\n",
    "|TS|Thunderstorm|\n",
    "|TSRA|Thunderstorm with rain|\n",
    "|VCFG|Vicinity Fog|\n",
    "|VCTS|Vicinity Thunderstorm|\n",
    "\n",
    "References:\n",
    "- https://www.aviationweather.gov/metar/symbol\n",
    "- https://aviation.stackexchange.com/questions/23651/whats-the-difference-between-fog-fog-banks-and-fog-patches"
   ]
  },
  {
   "cell_type": "code",
   "execution_count": 97,
   "metadata": {},
   "outputs": [],
   "source": [
    "weather_df = pd.concat([weather_df, X_codesum_df], axis=1)"
   ]
  },
  {
   "cell_type": "code",
   "execution_count": 98,
   "metadata": {},
   "outputs": [
    {
     "data": {
      "text/plain": [
       "0    1609\n",
       "1     501\n",
       "2     473\n",
       "3     271\n",
       "4      70\n",
       "5      16\n",
       "6       4\n",
       "dtype: int64"
      ]
     },
     "execution_count": 98,
     "metadata": {},
     "output_type": "execute_result"
    }
   ],
   "source": [
    "X_weather_num_series = X_codesum_df.sum(axis=1).value_counts()\n",
    "X_weather_num_series"
   ]
  },
  {
   "cell_type": "code",
   "execution_count": 99,
   "metadata": {
    "pycharm": {
     "name": "#%%\n"
    }
   },
   "outputs": [
    {
     "data": {
      "text/plain": [
       "Text(0, 0.5, 'Count')"
      ]
     },
     "execution_count": 99,
     "metadata": {},
     "output_type": "execute_result"
    },
    {
     "data": {
      "image/png": "[encoded data removed]",
      "text/plain": [
       "<Figure size 720x864 with 1 Axes>"
      ]
     },
     "metadata": {
      "needs_background": "light"
     },
     "output_type": "display_data"
    }
   ],
   "source": [
    "# Plot barchart\n",
    "\n",
    "plt.figure(figsize=(10, 12))\n",
    "sns.barplot(X_weather_num_series.index, X_weather_num_series.values)\n",
    "\n",
    "plt.title('Barplot of Weather Phenomena Count', fontsize=12)\n",
    "plt.xlabel('Weather Phenomena Count', fontsize=12)\n",
    "plt.ylabel('Count', fontsize=12)\n",
    "# plt.savefig('../images/9_bar_cool.png', transparent=True)"
   ]
  },
  {
   "cell_type": "code",
   "execution_count": 100,
   "metadata": {},
   "outputs": [
    {
     "data": {
      "text/plain": [
       "CodeSum_BCFG      5\n",
       "CodeSum_BR      813\n",
       "CodeSum_DZ      133\n",
       "CodeSum_FG       16\n",
       "CodeSum_FG+      27\n",
       "CodeSum_FU        9\n",
       "CodeSum_GR        1\n",
       "CodeSum_HZ      263\n",
       "CodeSum_MIFG      3\n",
       "CodeSum_RA      935\n",
       "CodeSum_SN        6\n",
       "CodeSum_SQ        3\n",
       "CodeSum_TS      102\n",
       "CodeSum_TSRA    305\n",
       "CodeSum_VCFG      4\n",
       "CodeSum_VCTS     19\n",
       "dtype: int64"
      ]
     },
     "execution_count": 100,
     "metadata": {},
     "output_type": "execute_result"
    }
   ],
   "source": [
    "X_weather_series = X_codesum_df.sum(axis=0)\n",
    "X_weather_series"
   ]
  },
  {
   "cell_type": "code",
   "execution_count": 113,
   "metadata": {},
   "outputs": [
    {
     "data": {
      "image/png": "[encoded data removed]",
      "text/plain": [
       "<Figure size 720x864 with 1 Axes>"
      ]
     },
     "metadata": {
      "needs_background": "light"
     },
     "output_type": "display_data"
    }
   ],
   "source": [
    "# Plot barchart\n",
    "\n",
    "plt.figure(figsize=(10, 12))\n",
    "sns.barplot(X_weather_series.values, X_weather_series.index)\n",
    "\n",
    "plt.title('Barplot of Weather Phenomena', fontsize=12)\n",
    "plt.ylabel('Weather Phenomena', fontsize=12)\n",
    "plt.xlabel('Count', fontsize=12)\n",
    "plt.savefig('../images/11_bar_weather_phenomena.png', transparent=True)"
   ]
  },
  {
   "cell_type": "markdown",
   "metadata": {
    "pycharm": {
     "name": "#%% md\n"
    }
   },
   "source": [
    "## Depth"
   ]
  },
  {
   "cell_type": "code",
   "execution_count": 114,
   "metadata": {
    "pycharm": {
     "name": "#%%\n"
    }
   },
   "outputs": [
    {
     "data": {
      "text/plain": [
       "0    0\n",
       "1    M\n",
       "2    0\n",
       "3    M\n",
       "4    0\n",
       "Name: Depth, dtype: object"
      ]
     },
     "execution_count": 114,
     "metadata": {},
     "output_type": "execute_result"
    }
   ],
   "source": [
    "weather_df['Depth'].head()"
   ]
  },
  {
   "cell_type": "code",
   "execution_count": 115,
   "metadata": {
    "pycharm": {
     "name": "#%%\n"
    }
   },
   "outputs": [
    {
     "data": {
      "text/plain": [
       "M    1472\n",
       "0    1472\n",
       "Name: Depth, dtype: int64"
      ]
     },
     "execution_count": 115,
     "metadata": {},
     "output_type": "execute_result"
    }
   ],
   "source": [
    "weather_df['Depth'].value_counts()"
   ]
  },
  {
   "cell_type": "code",
   "execution_count": 117,
   "metadata": {},
   "outputs": [
    {
     "data": {
      "image/png": "[encoded data removed]",
      "text/plain": [
       "<Figure size 576x432 with 1 Axes>"
      ]
     },
     "metadata": {
      "needs_background": "light"
     },
     "output_type": "display_data"
    }
   ],
   "source": [
    "# Plot barchart\n",
    "\n",
    "plt.figure(figsize=(8, 6))\n",
    "sns.countplot(x='Depth', data=weather_df, orient='v')\n",
    "\n",
    "plt.title('Barplot of Depth', fontsize=12)\n",
    "plt.xlabel('Depth', fontsize=12)\n",
    "plt.ylabel('Count', fontsize=12)\n",
    "plt.savefig('../images/12_bar_depth.png', transparent=True)"
   ]
  },
  {
   "cell_type": "code",
   "execution_count": 118,
   "metadata": {
    "pycharm": {
     "name": "#%%\n"
    }
   },
   "outputs": [
    {
     "name": "stdout",
     "output_type": "stream",
     "text": [
      "1472\n",
      "dict_keys([0.0])\n"
     ]
    },
    {
     "data": {
      "text/plain": [
       "dict_values([1472])"
      ]
     },
     "execution_count": 118,
     "metadata": {},
     "output_type": "execute_result"
    }
   ],
   "source": [
    "int_list = get_int_list(weather_df['Depth'])\n",
    "print(len(int_list))\n",
    "print(Counter(int_list).keys())\n",
    "Counter(int_list).values()"
   ]
  },
  {
   "cell_type": "code",
   "execution_count": 119,
   "metadata": {
    "pycharm": {
     "name": "#%%\n"
    }
   },
   "outputs": [
    {
     "name": "stdout",
     "output_type": "stream",
     "text": [
      "dict_keys(['M'])\n"
     ]
    },
    {
     "data": {
      "text/plain": [
       "dict_values([1472])"
      ]
     },
     "execution_count": 119,
     "metadata": {},
     "output_type": "execute_result"
    }
   ],
   "source": [
    "non_int_list = get_non_int_list(weather_df['Depth'])\n",
    "print(Counter(non_int_list).keys())\n",
    "Counter(non_int_list).values()"
   ]
  },
  {
   "cell_type": "code",
   "execution_count": 120,
   "metadata": {
    "pycharm": {
     "name": "#%%\n"
    }
   },
   "outputs": [],
   "source": [
    "weather_df['Depth'] = weather_df['Depth'].map(to_int)\n",
    "weather_df['Depth'] = weather_df['Depth'].astype('Int64')"
   ]
  },
  {
   "cell_type": "code",
   "execution_count": 121,
   "metadata": {
    "pycharm": {
     "name": "#%%\n"
    }
   },
   "outputs": [
    {
     "data": {
      "text/plain": [
       "1472"
      ]
     },
     "execution_count": 121,
     "metadata": {},
     "output_type": "execute_result"
    }
   ],
   "source": [
    "weather_df['Depth'].isnull().sum()"
   ]
  },
  {
   "cell_type": "markdown",
   "metadata": {
    "pycharm": {
     "name": "#%% md\n"
    }
   },
   "source": [
    "## Water1"
   ]
  },
  {
   "cell_type": "code",
   "execution_count": 122,
   "metadata": {
    "pycharm": {
     "name": "#%%\n"
    }
   },
   "outputs": [
    {
     "data": {
      "text/plain": [
       "0    M\n",
       "1    M\n",
       "2    M\n",
       "3    M\n",
       "4    M\n",
       "Name: Water1, dtype: object"
      ]
     },
     "execution_count": 122,
     "metadata": {},
     "output_type": "execute_result"
    }
   ],
   "source": [
    "weather_df['Water1'].head()"
   ]
  },
  {
   "cell_type": "code",
   "execution_count": 123,
   "metadata": {
    "pycharm": {
     "name": "#%%\n"
    }
   },
   "outputs": [
    {
     "data": {
      "text/plain": [
       "M    2944\n",
       "Name: Water1, dtype: int64"
      ]
     },
     "execution_count": 123,
     "metadata": {},
     "output_type": "execute_result"
    }
   ],
   "source": [
    "weather_df['Water1'].value_counts(dropna=False)"
   ]
  },
  {
   "cell_type": "code",
   "execution_count": 124,
   "metadata": {
    "pycharm": {
     "name": "#%%\n"
    }
   },
   "outputs": [
    {
     "name": "stdout",
     "output_type": "stream",
     "text": [
      "dict_keys(['M'])\n"
     ]
    },
    {
     "data": {
      "text/plain": [
       "dict_values([2944])"
      ]
     },
     "execution_count": 124,
     "metadata": {},
     "output_type": "execute_result"
    }
   ],
   "source": [
    "non_int_list = get_non_int_list(weather_df['Water1'])\n",
    "print(Counter(non_int_list).keys())\n",
    "Counter(non_int_list).values()"
   ]
  },
  {
   "cell_type": "code",
   "execution_count": 125,
   "metadata": {
    "pycharm": {
     "name": "#%%\n"
    }
   },
   "outputs": [],
   "source": [
    "weather_df['Water1'] = weather_df['Water1'].map(to_int)\n",
    "weather_df['Water1'] = weather_df['Water1'].astype('Int64')"
   ]
  },
  {
   "cell_type": "markdown",
   "metadata": {
    "pycharm": {
     "name": "#%% md\n"
    }
   },
   "source": [
    "## SnowFall"
   ]
  },
  {
   "cell_type": "code",
   "execution_count": 126,
   "metadata": {
    "pycharm": {
     "name": "#%%\n"
    }
   },
   "outputs": [
    {
     "data": {
      "text/plain": [
       "0    0.0\n",
       "1      M\n",
       "2    0.0\n",
       "3      M\n",
       "4    0.0\n",
       "Name: SnowFall, dtype: object"
      ]
     },
     "execution_count": 126,
     "metadata": {},
     "output_type": "execute_result"
    }
   ],
   "source": [
    "weather_df['SnowFall'].head()"
   ]
  },
  {
   "cell_type": "code",
   "execution_count": 127,
   "metadata": {
    "pycharm": {
     "name": "#%%\n"
    }
   },
   "outputs": [
    {
     "name": "stdout",
     "output_type": "stream",
     "text": [
      "dict_keys(['0.0', 'M', '  T', '0.1'])\n"
     ]
    },
    {
     "data": {
      "text/plain": [
       "dict_values([1459, 1472, 12, 1])"
      ]
     },
     "execution_count": 127,
     "metadata": {},
     "output_type": "execute_result"
    }
   ],
   "source": [
    "values = weather_df['SnowFall'].values.tolist()\n",
    "print(Counter(values).keys())\n",
    "Counter(values).values()"
   ]
  },
  {
   "cell_type": "code",
   "execution_count": 128,
   "metadata": {},
   "outputs": [
    {
     "data": {
      "text/plain": [
       "Text(0, 0.5, 'SnowFall')"
      ]
     },
     "execution_count": 128,
     "metadata": {},
     "output_type": "execute_result"
    },
    {
     "data": {
      "image/png": "[encoded data removed]",
      "text/plain": [
       "<Figure size 720x432 with 1 Axes>"
      ]
     },
     "metadata": {
      "needs_background": "light"
     },
     "output_type": "display_data"
    }
   ],
   "source": [
    "# Plot barchart\n",
    "\n",
    "plt.figure(figsize=(10, 6))\n",
    "sns.countplot(x='SnowFall', data=weather_df, orient='v')\n",
    "\n",
    "plt.title('Barplot of SnowFall', fontsize=12)\n",
    "plt.xlabel('Count', fontsize=12)\n",
    "plt.ylabel('SnowFall', fontsize=12)\n",
    "plt.savefig('../images/13_bar_snowfall.png', transparent=True)"
   ]
  },
  {
   "cell_type": "code",
   "execution_count": 129,
   "metadata": {
    "pycharm": {
     "name": "#%%\n"
    }
   },
   "outputs": [],
   "source": [
    "weather_df['SnowFall'] = weather_df['SnowFall'].map(to_na)"
   ]
  },
  {
   "cell_type": "code",
   "execution_count": 130,
   "metadata": {
    "pycharm": {
     "name": "#%%\n"
    }
   },
   "outputs": [],
   "source": [
    "weather_df['SnowFall'] = weather_df['SnowFall'].map(to_float)"
   ]
  },
  {
   "cell_type": "code",
   "execution_count": 131,
   "metadata": {
    "pycharm": {
     "name": "#%%\n"
    }
   },
   "outputs": [],
   "source": [
    "## Handle T values\n",
    "weather_df['SnowFall'] = weather_df['SnowFall'].map(lambda x: 0.00 if x == 'T' else x)"
   ]
  },
  {
   "cell_type": "code",
   "execution_count": null,
   "metadata": {
    "pycharm": {
     "name": "#%%\n"
    }
   },
   "outputs": [],
   "source": [
    "## Handle NaN values"
   ]
  },
  {
   "cell_type": "code",
   "execution_count": null,
   "metadata": {
    "pycharm": {
     "name": "#%%\n"
    }
   },
   "outputs": [],
   "source": [
    "## Plot bar"
   ]
  },
  {
   "cell_type": "markdown",
   "metadata": {
    "pycharm": {
     "name": "#%% md\n"
    }
   },
   "source": [
    "## PrecipTotal"
   ]
  },
  {
   "cell_type": "code",
   "execution_count": 132,
   "metadata": {
    "pycharm": {
     "name": "#%%\n"
    }
   },
   "outputs": [
    {
     "data": {
      "text/plain": [
       "0    0.00\n",
       "1    0.00\n",
       "2    0.00\n",
       "3    0.00\n",
       "4    0.00\n",
       "Name: PrecipTotal, dtype: object"
      ]
     },
     "execution_count": 132,
     "metadata": {},
     "output_type": "execute_result"
    }
   ],
   "source": [
    "weather_df['PrecipTotal'].head()"
   ]
  },
  {
   "cell_type": "code",
   "execution_count": 133,
   "metadata": {
    "pycharm": {
     "name": "#%%\n"
    }
   },
   "outputs": [],
   "source": [
    "weather_df['PrecipTotal'] = weather_df['PrecipTotal'].map(to_float)"
   ]
  },
  {
   "cell_type": "code",
   "execution_count": 134,
   "metadata": {
    "pycharm": {
     "name": "#%%\n"
    }
   },
   "outputs": [
    {
     "name": "stdout",
     "output_type": "stream",
     "text": [
      "dict_keys(['T', 'M'])\n"
     ]
    },
    {
     "data": {
      "text/plain": [
       "dict_values([318, 2])"
      ]
     },
     "execution_count": 134,
     "metadata": {},
     "output_type": "execute_result"
    }
   ],
   "source": [
    "non_float_list = get_non_float_list(weather_df['PrecipTotal'])\n",
    "print(Counter(non_float_list).keys())\n",
    "Counter(non_float_list).values()"
   ]
  },
  {
   "cell_type": "code",
   "execution_count": 135,
   "metadata": {
    "pycharm": {
     "name": "#%%\n"
    }
   },
   "outputs": [
    {
     "name": "stdout",
     "output_type": "stream",
     "text": [
      "2624\n",
      "[0.0, 0.01, 0.02, 0.03, 0.04, 0.05, 0.06, 0.07, 0.08, 0.09, 0.1, 0.11, 0.12, 0.13, 0.14, 0.15, 0.16, 0.17, 0.18, 0.19, 0.2, 0.21, 0.22, 0.23, 0.24, 0.25, 0.26, 0.27, 0.28, 0.29, 0.3, 0.31, 0.32, 0.33, 0.34, 0.35, 0.36, 0.37, 0.38, 0.39, 0.4, 0.41, 0.42, 0.43, 0.44, 0.45, 0.46, 0.47, 0.48, 0.49, 0.5, 0.51, 0.52, 0.53, 0.54, 0.55, 0.56, 0.57, 0.58, 0.59, 0.6, 0.61, 0.62, 0.63, 0.64, 0.65, 0.66, 0.67, 0.68, 0.69, 0.7, 0.71, 0.72, 0.73, 0.74, 0.75, 0.76, 0.77, 0.78, 0.79, 0.8, 0.81, 0.82, 0.83, 0.84, 0.85, 0.86, 0.87, 0.88, 0.89, 0.9, 0.91, 0.92, 0.93, 0.95, 0.96, 0.97, 0.98, 1.01, 1.02, 1.03, 1.04, 1.05, 1.06, 1.07, 1.09, 1.11, 1.12, 1.14, 1.15, 1.16, 1.18, 1.19, 1.21, 1.22, 1.23, 1.24, 1.25, 1.26, 1.28, 1.29, 1.3, 1.31, 1.33, 1.34, 1.35, 1.38, 1.43, 1.44, 1.46, 1.48, 1.49, 1.55, 1.57, 1.58, 1.6, 1.61, 1.73, 1.75, 1.82, 1.88, 1.9, 1.96, 2.03, 2.06, 2.09, 2.17, 2.2, 2.24, 2.35, 2.43, 2.6, 2.68, 2.76, 2.79, 2.9, 3.07, 3.15, 3.17, 3.31, 3.64, 3.66, 3.97, 4.73, 6.64, 6.86]\n"
     ]
    },
    {
     "data": {
      "text/plain": [
       "dict_values([1577, 14, 63, 2, 3, 20, 23, 20, 21, 3, 15, 36, 28, 127, 2, 14, 9, 8, 9, 9, 3, 6, 21, 4, 5, 32, 8, 13, 3, 9, 4, 7, 10, 9, 3, 5, 4, 17, 46, 2, 4, 11, 3, 27, 2, 9, 11, 7, 7, 2, 2, 1, 7, 7, 3, 1, 1, 13, 11, 14, 2, 5, 7, 2, 3, 1, 3, 2, 1, 28, 4, 4, 8, 1, 4, 2, 6, 2, 1, 7, 3, 1, 7, 1, 1, 4, 1, 1, 1, 1, 1, 3, 6, 2, 6, 4, 3, 4, 1, 1, 5, 1, 1, 1, 3, 2, 2, 5, 10, 2, 5, 1, 4, 6, 2, 2, 2, 1, 1, 2, 1, 4, 5, 2, 3, 1, 1, 1, 1, 1, 2, 1, 1, 1, 1, 2, 1, 1, 2, 1, 1, 1, 1, 3, 3, 1, 1, 1, 1, 1, 1, 1, 2, 1, 1, 1, 1, 1, 1, 1, 1, 1, 1, 1, 1, 1])"
      ]
     },
     "execution_count": 135,
     "metadata": {},
     "output_type": "execute_result"
    }
   ],
   "source": [
    "float_list = get_float_list(weather_df['PrecipTotal'])\n",
    "print(len(float_list))\n",
    "print(sorted(Counter(float_list).keys()))\n",
    "Counter(float_list).values()"
   ]
  },
  {
   "cell_type": "code",
   "execution_count": 136,
   "metadata": {
    "pycharm": {
     "name": "#%%\n"
    }
   },
   "outputs": [],
   "source": [
    "weather_df['PrecipTotal'] = weather_df['PrecipTotal'].map(to_na)"
   ]
  },
  {
   "cell_type": "code",
   "execution_count": 138,
   "metadata": {
    "pycharm": {
     "name": "#%%\n"
    }
   },
   "outputs": [
    {
     "data": {
      "image/png": "[encoded data removed]",
      "text/plain": [
       "<Figure size 720x432 with 1 Axes>"
      ]
     },
     "metadata": {
      "needs_background": "light"
     },
     "output_type": "display_data"
    }
   ],
   "source": [
    "## Plot hist\n",
    "\n",
    "plt.figure(figsize=(10, 6))\n",
    "sns.distplot(weather_df[weather_df['PrecipTotal'] != 'T'][['PrecipTotal']].dropna())\n",
    "\n",
    "plt.title('Hist of PrecipTotal', fontsize=12)\n",
    "plt.xlabel('PrecipTotal', fontsize=12)\n",
    "plt.ylabel('Frequency', fontsize=12)\n",
    "plt.savefig('../images/14_hist_preciptotal.png', transparent=True)"
   ]
  },
  {
   "cell_type": "code",
   "execution_count": 139,
   "metadata": {
    "pycharm": {
     "name": "#%%\n"
    }
   },
   "outputs": [],
   "source": [
    "## Handle T values\n",
    "weather_df['PrecipTotal'] = weather_df['PrecipTotal'].map(lambda x: 0.00 if x == 'T' else x)"
   ]
  },
  {
   "cell_type": "code",
   "execution_count": 140,
   "metadata": {
    "pycharm": {
     "name": "#%%\n"
    }
   },
   "outputs": [
    {
     "data": {
      "text/plain": [
       "Text(0, 0.5, 'Frequency')"
      ]
     },
     "execution_count": 140,
     "metadata": {},
     "output_type": "execute_result"
    },
    {
     "data": {
      "image/png": "[encoded data removed]",
      "text/plain": [
       "<Figure size 720x432 with 1 Axes>"
      ]
     },
     "metadata": {
      "needs_background": "light"
     },
     "output_type": "display_data"
    }
   ],
   "source": [
    "## Plot hist\n",
    "plt.figure(figsize=(10, 6))\n",
    "sns.distplot(weather_df[['PrecipTotal']].dropna())\n",
    "\n",
    "plt.title('Hist of PrecipTotal', fontsize=12)\n",
    "plt.xlabel('PrecipTotal', fontsize=12)\n",
    "plt.ylabel('Frequency', fontsize=12)"
   ]
  },
  {
   "cell_type": "markdown",
   "metadata": {
    "pycharm": {
     "name": "#%% md\n"
    }
   },
   "source": [
    "## StnPressure"
   ]
  },
  {
   "cell_type": "code",
   "execution_count": 141,
   "metadata": {
    "pycharm": {
     "name": "#%%\n"
    }
   },
   "outputs": [
    {
     "data": {
      "text/plain": [
       "0    29.10\n",
       "1    29.18\n",
       "2    29.38\n",
       "3    29.44\n",
       "4    29.39\n",
       "Name: StnPressure, dtype: object"
      ]
     },
     "execution_count": 141,
     "metadata": {},
     "output_type": "execute_result"
    }
   ],
   "source": [
    "weather_df['StnPressure'].head()"
   ]
  },
  {
   "cell_type": "code",
   "execution_count": 142,
   "metadata": {
    "pycharm": {
     "name": "#%%\n"
    }
   },
   "outputs": [],
   "source": [
    "weather_df['StnPressure'] = weather_df['StnPressure'].map(to_float)"
   ]
  },
  {
   "cell_type": "code",
   "execution_count": 143,
   "metadata": {
    "pycharm": {
     "name": "#%%\n"
    }
   },
   "outputs": [
    {
     "name": "stdout",
     "output_type": "stream",
     "text": [
      "dict_keys(['M'])\n"
     ]
    },
    {
     "data": {
      "text/plain": [
       "dict_values([4])"
      ]
     },
     "execution_count": 143,
     "metadata": {},
     "output_type": "execute_result"
    }
   ],
   "source": [
    "non_float_list = get_non_float_list(weather_df['StnPressure'])\n",
    "print(Counter(non_float_list).keys())\n",
    "Counter(non_float_list).values()"
   ]
  },
  {
   "cell_type": "code",
   "execution_count": 144,
   "metadata": {
    "pycharm": {
     "name": "#%%\n"
    }
   },
   "outputs": [
    {
     "name": "stdout",
     "output_type": "stream",
     "text": [
      "2940\n",
      "dict_keys([29.1, 29.18, 29.38, 29.44, 29.39, 29.46, 29.31, 29.36, 29.4, 29.57, 29.62, 29.29, 29.21, 29.28, 29.2, 29.26, 29.33, 29.49, 29.54, 29.55, 29.23, 29.13, 29.19, 29.53, 29.6, 29.34, 29.41, 29.47, 29.51, 29.42, 29.43, 29.25, 29.03, 28.82, 28.87, 28.88, 29.16, 29.07, 28.84, 28.91, 29.24, 29.3, 29.12, 29.45, 29.56, 29.32, 29.05, 29.11, 29.06, 29.22, 29.08, 29.14, 29.37, 29.35, 29.15, 29.17, 29.48, 29.52, 29.27, 29.5, 28.59, 28.67, 28.75, 29.02, 29.79, 29.86, 29.63, 29.7, 28.95, 29.01, 28.79, 28.85, 28.97, 28.89, 28.94, 28.93, 28.98, 28.96, 29.0, 29.66, 29.09, 28.9, 29.04, 29.59, 29.65, 29.58, 29.61, 29.64, 29.71, 29.67, 28.8, 28.73, 29.68, 28.74, 28.55, 28.63, 28.92, 28.99, 28.81, 28.71, 28.69, 28.77, 28.83])\n"
     ]
    },
    {
     "data": {
      "text/plain": [
       "dict_values([49, 86, 64, 70, 89, 33, 106, 96, 37, 24, 12, 86, 107, 124, 60, 123, 81, 46, 32, 19, 104, 64, 39, 9, 15, 128, 91, 57, 25, 41, 17, 52, 23, 3, 5, 1, 55, 22, 2, 4, 82, 37, 17, 16, 10, 36, 25, 33, 11, 31, 41, 20, 24, 48, 62, 35, 14, 28, 31, 10, 1, 1, 1, 15, 1, 1, 5, 5, 13, 9, 4, 2, 19, 8, 3, 3, 11, 3, 24, 4, 13, 6, 5, 17, 9, 5, 4, 5, 1, 4, 3, 1, 3, 1, 1, 1, 6, 3, 2, 2, 1, 1, 1])"
      ]
     },
     "execution_count": 144,
     "metadata": {},
     "output_type": "execute_result"
    }
   ],
   "source": [
    "float_list = get_float_list(weather_df['StnPressure'])\n",
    "print(len(float_list))\n",
    "print(Counter(float_list).keys())\n",
    "Counter(float_list).values()"
   ]
  },
  {
   "cell_type": "code",
   "execution_count": 145,
   "metadata": {
    "pycharm": {
     "name": "#%%\n"
    }
   },
   "outputs": [],
   "source": [
    "weather_df['StnPressure'] = weather_df['StnPressure'].map(to_na)"
   ]
  },
  {
   "cell_type": "code",
   "execution_count": 146,
   "metadata": {
    "pycharm": {
     "name": "#%%\n"
    }
   },
   "outputs": [
    {
     "data": {
      "text/plain": [
       "4"
      ]
     },
     "execution_count": 146,
     "metadata": {},
     "output_type": "execute_result"
    }
   ],
   "source": [
    "weather_df['StnPressure'].isnull().sum()"
   ]
  },
  {
   "cell_type": "code",
   "execution_count": 147,
   "metadata": {
    "pycharm": {
     "name": "#%%\n"
    }
   },
   "outputs": [
    {
     "data": {
      "image/png": "[encoded data removed]",
      "text/plain": [
       "<Figure size 720x432 with 1 Axes>"
      ]
     },
     "metadata": {
      "needs_background": "light"
     },
     "output_type": "display_data"
    }
   ],
   "source": [
    "# Plot hist\n",
    "\n",
    "plt.figure(figsize=(10, 6))\n",
    "sns.distplot(weather_df[['StnPressure']].dropna())\n",
    "\n",
    "plt.title('Hist of StnPressure', fontsize=12)\n",
    "plt.xlabel('StnPressure', fontsize=12)\n",
    "plt.ylabel('Frequency', fontsize=12)\n",
    "plt.savefig('../images/15_hist_stnpressure.png', transparent=True)"
   ]
  },
  {
   "cell_type": "code",
   "execution_count": null,
   "metadata": {
    "pycharm": {
     "name": "#%%\n"
    }
   },
   "outputs": [],
   "source": [
    "## SeaLevel"
   ]
  },
  {
   "cell_type": "markdown",
   "metadata": {},
   "source": [
    "## SeaLevel"
   ]
  },
  {
   "cell_type": "code",
   "execution_count": 148,
   "metadata": {
    "pycharm": {
     "name": "#%%\n"
    }
   },
   "outputs": [
    {
     "data": {
      "text/plain": [
       "0    29.82\n",
       "1    29.82\n",
       "2    30.09\n",
       "3    30.08\n",
       "4    30.12\n",
       "Name: SeaLevel, dtype: object"
      ]
     },
     "execution_count": 148,
     "metadata": {},
     "output_type": "execute_result"
    }
   ],
   "source": [
    "weather_df['SeaLevel'].head()"
   ]
  },
  {
   "cell_type": "code",
   "execution_count": 149,
   "metadata": {
    "pycharm": {
     "name": "#%%\n"
    }
   },
   "outputs": [
    {
     "name": "stdout",
     "output_type": "stream",
     "text": [
      "2935\n",
      "dict_keys([29.82, 30.09, 30.08, 30.12, 30.05, 30.04, 30.1, 30.29, 30.28, 30.03, 30.02, 29.94, 29.93, 29.92, 29.91, 30.2, 30.19, 30.24, 29.97, 29.98, 29.84, 29.83, 30.27, 30.25, 30.26, 30.11, 30.06, 30.23, 30.15, 30.14, 30.0, 29.99, 29.9, 29.77, 29.76, 29.56, 29.54, 29.52, 29.51, 29.79, 29.78, 29.81, 29.55, 29.85, 30.07, 30.16, 29.96, 29.95, 30.13, 30.21, 30.22, 29.88, 30.01, 29.8, 29.89, 29.74, 29.87, 29.86, 30.18, 30.17, 29.34, 29.44, 29.45, 29.71, 29.72, 30.52, 30.53, 30.4, 30.41, 29.67, 29.53, 29.69, 29.61, 29.64, 29.63, 29.66, 29.7, 30.34, 30.33, 29.62, 29.6, 29.75, 29.68, 29.73, 30.31, 30.3, 30.32, 30.37, 30.39, 29.59, 29.65, 30.35, 30.36, 29.48, 30.38, 29.5, 29.25, 29.23, 29.46, 29.43, 29.47])\n"
     ]
    },
    {
     "data": {
      "text/plain": [
       "dict_values([44, 50, 55, 36, 81, 72, 53, 11, 9, 72, 80, 85, 79, 83, 80, 32, 14, 15, 73, 85, 47, 53, 16, 26, 15, 52, 69, 20, 24, 21, 96, 73, 60, 33, 28, 3, 3, 2, 2, 28, 19, 41, 6, 57, 52, 28, 77, 80, 41, 25, 17, 56, 72, 41, 82, 18, 62, 59, 23, 29, 2, 1, 4, 15, 11, 1, 1, 2, 1, 13, 4, 21, 8, 3, 4, 13, 19, 3, 10, 6, 9, 20, 9, 22, 6, 13, 7, 4, 1, 7, 8, 7, 4, 2, 2, 2, 1, 1, 1, 1, 1])"
      ]
     },
     "execution_count": 149,
     "metadata": {},
     "output_type": "execute_result"
    }
   ],
   "source": [
    "float_list = get_float_list(weather_df['SeaLevel'])\n",
    "print(len(float_list))\n",
    "print(Counter(float_list).keys())\n",
    "Counter(float_list).values()"
   ]
  },
  {
   "cell_type": "code",
   "execution_count": 150,
   "metadata": {
    "pycharm": {
     "name": "#%%\n"
    }
   },
   "outputs": [
    {
     "name": "stdout",
     "output_type": "stream",
     "text": [
      "dict_keys(['M'])\n"
     ]
    },
    {
     "data": {
      "text/plain": [
       "dict_values([9])"
      ]
     },
     "execution_count": 150,
     "metadata": {},
     "output_type": "execute_result"
    }
   ],
   "source": [
    "non_float_list = get_non_float_list(weather_df['SeaLevel'])\n",
    "print(Counter(non_float_list).keys())\n",
    "Counter(non_float_list).values()"
   ]
  },
  {
   "cell_type": "code",
   "execution_count": 151,
   "metadata": {
    "pycharm": {
     "name": "#%%\n"
    }
   },
   "outputs": [],
   "source": [
    "weather_df['SeaLevel'] = weather_df['SeaLevel'].map(to_float)"
   ]
  },
  {
   "cell_type": "code",
   "execution_count": 152,
   "metadata": {
    "pycharm": {
     "name": "#%%\n"
    }
   },
   "outputs": [],
   "source": [
    "weather_df['SeaLevel'] = weather_df['SeaLevel'].map(to_na)"
   ]
  },
  {
   "cell_type": "code",
   "execution_count": 153,
   "metadata": {
    "pycharm": {
     "name": "#%%\n"
    }
   },
   "outputs": [
    {
     "data": {
      "text/plain": [
       "9"
      ]
     },
     "execution_count": 153,
     "metadata": {},
     "output_type": "execute_result"
    }
   ],
   "source": [
    "weather_df['SeaLevel'].isnull().sum()"
   ]
  },
  {
   "cell_type": "code",
   "execution_count": 154,
   "metadata": {
    "pycharm": {
     "name": "#%%\n"
    }
   },
   "outputs": [
    {
     "data": {
      "image/png": "[encoded data removed]",
      "text/plain": [
       "<Figure size 720x432 with 1 Axes>"
      ]
     },
     "metadata": {
      "needs_background": "light"
     },
     "output_type": "display_data"
    }
   ],
   "source": [
    "# Plot hist\n",
    "\n",
    "plt.figure(figsize=(10, 6))\n",
    "sns.distplot(weather_df[['SeaLevel']].dropna())\n",
    "\n",
    "plt.title('Hist of SeaLevel', fontsize=12)\n",
    "plt.xlabel('SeaLevel', fontsize=12)\n",
    "plt.ylabel('Frequency', fontsize=12)\n",
    "plt.savefig('../images/16_hist_sealevel.png', transparent=True)"
   ]
  },
  {
   "cell_type": "markdown",
   "metadata": {},
   "source": [
    "## ResultSpeed"
   ]
  },
  {
   "cell_type": "code",
   "execution_count": 155,
   "metadata": {
    "pycharm": {
     "name": "#%%\n"
    }
   },
   "outputs": [
    {
     "data": {
      "text/plain": [
       "0     1.7\n",
       "1     2.7\n",
       "2    13.0\n",
       "3    13.3\n",
       "4    11.7\n",
       "Name: ResultSpeed, dtype: float64"
      ]
     },
     "execution_count": 155,
     "metadata": {},
     "output_type": "execute_result"
    }
   ],
   "source": [
    "weather_df['ResultSpeed'].head()"
   ]
  },
  {
   "cell_type": "code",
   "execution_count": 156,
   "metadata": {
    "pycharm": {
     "name": "#%%\n"
    }
   },
   "outputs": [
    {
     "data": {
      "text/plain": [
       "0"
      ]
     },
     "execution_count": 156,
     "metadata": {},
     "output_type": "execute_result"
    }
   ],
   "source": [
    "weather_df['ResultSpeed'].isnull().sum()"
   ]
  },
  {
   "cell_type": "code",
   "execution_count": 157,
   "metadata": {
    "pycharm": {
     "name": "#%%\n"
    }
   },
   "outputs": [
    {
     "data": {
      "image/png": "[encoded data removed]",
      "text/plain": [
       "<Figure size 720x432 with 1 Axes>"
      ]
     },
     "metadata": {
      "needs_background": "light"
     },
     "output_type": "display_data"
    }
   ],
   "source": [
    "# Plot hist\n",
    "\n",
    "plt.figure(figsize=(10, 6))\n",
    "sns.distplot(weather_df[['ResultSpeed']])\n",
    "\n",
    "plt.title('Hist of ResultSpeed', fontsize=12)\n",
    "plt.xlabel('ResultSpeed', fontsize=12)\n",
    "plt.ylabel('Frequency', fontsize=12)\n",
    "plt.savefig('../images/17_hist_resultspeed.png', transparent=True)"
   ]
  },
  {
   "cell_type": "markdown",
   "metadata": {},
   "source": [
    "## ResultDir"
   ]
  },
  {
   "cell_type": "code",
   "execution_count": 158,
   "metadata": {
    "pycharm": {
     "name": "#%%\n"
    }
   },
   "outputs": [
    {
     "data": {
      "text/plain": [
       "0    27\n",
       "1    25\n",
       "2     4\n",
       "3     2\n",
       "4     7\n",
       "Name: ResultDir, dtype: int64"
      ]
     },
     "execution_count": 158,
     "metadata": {},
     "output_type": "execute_result"
    }
   ],
   "source": [
    "weather_df['ResultDir'].head()"
   ]
  },
  {
   "cell_type": "code",
   "execution_count": 159,
   "metadata": {
    "pycharm": {
     "name": "#%%\n"
    }
   },
   "outputs": [
    {
     "data": {
      "text/plain": [
       "0"
      ]
     },
     "execution_count": 159,
     "metadata": {},
     "output_type": "execute_result"
    }
   ],
   "source": [
    "weather_df['ResultDir'].isnull().sum()"
   ]
  },
  {
   "cell_type": "code",
   "execution_count": 162,
   "metadata": {
    "pycharm": {
     "name": "#%%\n"
    }
   },
   "outputs": [
    {
     "data": {
      "image/png": "[encoded data removed]",
      "text/plain": [
       "<Figure size 720x432 with 1 Axes>"
      ]
     },
     "metadata": {
      "needs_background": "light"
     },
     "output_type": "display_data"
    }
   ],
   "source": [
    "# Plot barchart\n",
    "\n",
    "plt.figure(figsize=(10, 6))\n",
    "sns.countplot(x='ResultDir', data=weather_df, orient='v')\n",
    "\n",
    "plt.title('Barplot of ResultDir', fontsize=12)\n",
    "plt.xlabel('ResultDir', fontsize=12)\n",
    "plt.ylabel('Count', fontsize=12)\n",
    "plt.savefig('../images/18_bar_resultdir.png', transparent=True)"
   ]
  },
  {
   "cell_type": "markdown",
   "metadata": {},
   "source": [
    "## AvgSpeed"
   ]
  },
  {
   "cell_type": "code",
   "execution_count": 163,
   "metadata": {
    "pycharm": {
     "name": "#%%\n"
    }
   },
   "outputs": [
    {
     "data": {
      "text/plain": [
       "0     9.2\n",
       "1     9.6\n",
       "2    13.4\n",
       "3    13.4\n",
       "4    11.9\n",
       "Name: AvgSpeed, dtype: object"
      ]
     },
     "execution_count": 163,
     "metadata": {},
     "output_type": "execute_result"
    }
   ],
   "source": [
    "weather_df['AvgSpeed'].head()"
   ]
  },
  {
   "cell_type": "code",
   "execution_count": 164,
   "metadata": {
    "pycharm": {
     "name": "#%%\n"
    }
   },
   "outputs": [
    {
     "name": "stdout",
     "output_type": "stream",
     "text": [
      "2941\n",
      "dict_keys([9.2, 9.6, 13.4, 11.9, 13.2, 10.8, 10.4, 12.0, 11.5, 15.0, 14.5, 10.5, 9.9, 5.8, 5.4, 6.2, 5.9, 4.1, 3.9, 12.9, 12.8, 13.0, 8.1, 7.6, 17.3, 14.6, 12.3, 12.2, 11.8, 11.3, 7.5, 5.5, 11.4, 10.7, 9.7, 8.2, 7.8, 10.2, 10.6, 11.2, 15.2, 8.8, 7.2, 9.5, 5.3, 5.2, 6.5, 7.4, 10.1, 6.4, 6.7, 23.1, 20.7, 13.8, 12.4, 5.0, 4.7, 5.6, 6.9, 8.4, 10.0, 8.6, 6.8, 4.9, 6.1, 6.3, 15.1, 12.6, 7.7, 8.7, 9.0, 8.0, 6.0, 7.1, 8.5, 12.5, 13.3, 8.3, 7.3, 13.1, 12.7, 10.9, 11.1, 13.9, 6.6, 14.4, 9.1, 3.3, 3.5, 4.0, 7.0, 9.4, 7.9, 5.7, 4.3, 4.6, 3.7, 11.7, 4.4, 12.1, 13.5, 13.7, 11.0, 9.8, 8.9, 10.3, 15.5, 18.9, 17.2, 16.7, 18.0, 18.2, 16.8, 14.1, 14.7, 4.2, 9.3, 14.3, 17.7, 17.8, 15.9, 19.3, 17.4, 3.8, 4.8, 14.0, 21.5, 19.5, 16.3, 5.1, 3.6, 3.2, 4.5, 2.9, 3.1, 2.7, 18.4, 16.4, 14.8, 11.6, 13.6, 2.4, 2.6, 3.4, 3.0, 2.1, 20.2, 14.9, 16.2, 15.4, 17.9, 14.2, 15.3, 15.7, 16.1, 18.8, 17.1, 16.6, 26.3, 21.4, 23.2, 22.1, 15.6, 16.9, 2.0, 2.3, 1.7, 19.9, 17.6, 18.5, 18.1, 16.0, 15.8, 2.8, 1.9, 22.9, 22.6])\n"
     ]
    },
    {
     "data": {
      "text/plain": [
       "dict_values([44, 34, 11, 19, 17, 31, 24, 16, 40, 11, 6, 28, 32, 60, 35, 39, 41, 10, 15, 10, 10, 12, 49, 28, 5, 9, 13, 14, 12, 17, 39, 29, 18, 24, 26, 31, 38, 16, 20, 26, 5, 33, 39, 28, 17, 28, 39, 55, 37, 36, 33, 1, 2, 11, 19, 28, 21, 24, 63, 35, 26, 35, 41, 34, 35, 36, 6, 14, 44, 26, 40, 43, 42, 33, 32, 11, 8, 31, 42, 6, 20, 20, 20, 9, 38, 7, 41, 5, 11, 12, 47, 26, 40, 31, 17, 38, 8, 14, 16, 15, 6, 4, 19, 24, 27, 25, 3, 3, 4, 3, 2, 1, 1, 7, 4, 16, 29, 5, 3, 4, 1, 1, 2, 11, 24, 5, 1, 2, 4, 18, 7, 3, 18, 2, 3, 5, 1, 2, 3, 13, 9, 1, 1, 7, 5, 2, 1, 7, 1, 5, 1, 9, 5, 4, 6, 1, 1, 2, 1, 2, 1, 1, 5, 1, 1, 1, 1, 1, 1, 1, 1, 1, 1, 1, 1, 1, 1])"
      ]
     },
     "execution_count": 164,
     "metadata": {},
     "output_type": "execute_result"
    }
   ],
   "source": [
    "float_list = get_float_list(weather_df['AvgSpeed'])\n",
    "print(len(float_list))\n",
    "print(Counter(float_list).keys())\n",
    "Counter(float_list).values()"
   ]
  },
  {
   "cell_type": "code",
   "execution_count": 165,
   "metadata": {
    "pycharm": {
     "name": "#%%\n"
    }
   },
   "outputs": [
    {
     "name": "stdout",
     "output_type": "stream",
     "text": [
      "dict_keys(['M'])\n"
     ]
    },
    {
     "data": {
      "text/plain": [
       "dict_values([3])"
      ]
     },
     "execution_count": 165,
     "metadata": {},
     "output_type": "execute_result"
    }
   ],
   "source": [
    "non_float_list = get_non_float_list(weather_df['AvgSpeed'])\n",
    "print(Counter(non_float_list).keys())\n",
    "Counter(non_float_list).values()"
   ]
  },
  {
   "cell_type": "code",
   "execution_count": 166,
   "metadata": {
    "pycharm": {
     "name": "#%%\n"
    }
   },
   "outputs": [],
   "source": [
    "weather_df['AvgSpeed'] = weather_df['AvgSpeed'].map(to_float)"
   ]
  },
  {
   "cell_type": "code",
   "execution_count": 167,
   "metadata": {
    "pycharm": {
     "name": "#%%\n"
    }
   },
   "outputs": [],
   "source": [
    "weather_df['AvgSpeed'] = weather_df['AvgSpeed'].map(to_na)"
   ]
  },
  {
   "cell_type": "code",
   "execution_count": 168,
   "metadata": {
    "pycharm": {
     "name": "#%%\n"
    }
   },
   "outputs": [
    {
     "data": {
      "text/plain": [
       "3"
      ]
     },
     "execution_count": 168,
     "metadata": {},
     "output_type": "execute_result"
    }
   ],
   "source": [
    "weather_df['AvgSpeed'].isnull().sum()"
   ]
  },
  {
   "cell_type": "code",
   "execution_count": 169,
   "metadata": {
    "pycharm": {
     "name": "#%%\n"
    }
   },
   "outputs": [
    {
     "data": {
      "image/png": "[encoded data removed]",
      "text/plain": [
       "<Figure size 720x432 with 1 Axes>"
      ]
     },
     "metadata": {
      "needs_background": "light"
     },
     "output_type": "display_data"
    }
   ],
   "source": [
    "# Plot hist\n",
    "\n",
    "plt.figure(figsize=(10, 6))\n",
    "sns.distplot(weather_df[['AvgSpeed']].dropna())\n",
    "\n",
    "plt.title('Hist of AvgSpeed', fontsize=12)\n",
    "plt.xlabel('AvgSpeed', fontsize=12)\n",
    "plt.ylabel('Frequency', fontsize=12)\n",
    "plt.savefig('../images/19_hist_avgspeed.png', transparent=True)"
   ]
  },
  {
   "cell_type": "markdown",
   "metadata": {},
   "source": [
    "## Null values"
   ]
  },
  {
   "cell_type": "code",
   "execution_count": 170,
   "metadata": {
    "pycharm": {
     "name": "#%%\n"
    }
   },
   "outputs": [
    {
     "data": {
      "text/plain": [
       "Station            0\n",
       "CalendarDate       0\n",
       "Tmax               0\n",
       "Tmin               0\n",
       "Tavg              11\n",
       "Depart          1472\n",
       "DewPoint           0\n",
       "WetBulb            4\n",
       "Heat              11\n",
       "Cool              11\n",
       "Sunrise         1472\n",
       "Sunset             0\n",
       "CodeSum            0\n",
       "Depth           1472\n",
       "Water1          2944\n",
       "SnowFall        1472\n",
       "PrecipTotal        2\n",
       "StnPressure        4\n",
       "SeaLevel           9\n",
       "ResultSpeed        0\n",
       "ResultDir          0\n",
       "AvgSpeed           3\n",
       "Year               0\n",
       "Month              0\n",
       "Date               0\n",
       "CodeSum_BCFG       0\n",
       "CodeSum_BR         0\n",
       "CodeSum_DZ         0\n",
       "CodeSum_FG         0\n",
       "CodeSum_FG+        0\n",
       "CodeSum_FU         0\n",
       "CodeSum_GR         0\n",
       "CodeSum_HZ         0\n",
       "CodeSum_MIFG       0\n",
       "CodeSum_RA         0\n",
       "CodeSum_SN         0\n",
       "CodeSum_SQ         0\n",
       "CodeSum_TS         0\n",
       "CodeSum_TSRA       0\n",
       "CodeSum_VCFG       0\n",
       "CodeSum_VCTS       0\n",
       "dtype: int64"
      ]
     },
     "execution_count": 170,
     "metadata": {},
     "output_type": "execute_result"
    }
   ],
   "source": [
    "weather_df.isnull().sum()"
   ]
  },
  {
   "cell_type": "code",
   "execution_count": 171,
   "metadata": {
    "pycharm": {
     "name": "#%%\n"
    }
   },
   "outputs": [
    {
     "data": {
      "text/plain": [
       "(2944, 41)"
      ]
     },
     "execution_count": 171,
     "metadata": {},
     "output_type": "execute_result"
    }
   ],
   "source": [
    "weather_df.shape"
   ]
  },
  {
   "cell_type": "code",
   "execution_count": 172,
   "metadata": {},
   "outputs": [
    {
     "data": {
      "text/plain": [
       "2    1472\n",
       "Name: Station, dtype: int64"
      ]
     },
     "execution_count": 172,
     "metadata": {},
     "output_type": "execute_result"
    }
   ],
   "source": [
    "weather_df.loc[weather_df['Depart'].isna(), 'Station'].value_counts()"
   ]
  },
  {
   "cell_type": "code",
   "execution_count": 173,
   "metadata": {},
   "outputs": [
    {
     "data": {
      "text/plain": [
       "2    1472\n",
       "Name: Station, dtype: int64"
      ]
     },
     "execution_count": 173,
     "metadata": {},
     "output_type": "execute_result"
    }
   ],
   "source": [
    "weather_df.loc[weather_df['Sunrise'].isna(), 'Station'].value_counts()"
   ]
  },
  {
   "cell_type": "code",
   "execution_count": 174,
   "metadata": {},
   "outputs": [
    {
     "data": {
      "text/plain": [
       "2    1472\n",
       "Name: Station, dtype: int64"
      ]
     },
     "execution_count": 174,
     "metadata": {},
     "output_type": "execute_result"
    }
   ],
   "source": [
    "weather_df.loc[weather_df['Depth'].isna(), 'Station'].value_counts()"
   ]
  },
  {
   "cell_type": "code",
   "execution_count": 175,
   "metadata": {},
   "outputs": [
    {
     "data": {
      "text/plain": [
       "1    1472\n",
       "2    1472\n",
       "Name: Station, dtype: int64"
      ]
     },
     "execution_count": 175,
     "metadata": {},
     "output_type": "execute_result"
    }
   ],
   "source": [
    "weather_df.loc[weather_df['Water1'].isna(), 'Station'].value_counts()"
   ]
  },
  {
   "cell_type": "code",
   "execution_count": 176,
   "metadata": {},
   "outputs": [
    {
     "data": {
      "text/plain": [
       "2    1472\n",
       "Name: Station, dtype: int64"
      ]
     },
     "execution_count": 176,
     "metadata": {},
     "output_type": "execute_result"
    }
   ],
   "source": [
    "weather_df.loc[weather_df['SnowFall'].isna(), 'Station'].value_counts()"
   ]
  },
  {
   "cell_type": "code",
   "execution_count": 177,
   "metadata": {},
   "outputs": [],
   "source": [
    "# weather_df.groupby('Station')['Depart'].transform(lambda x: x.fillna(x.max()))"
   ]
  },
  {
   "cell_type": "code",
   "execution_count": 178,
   "metadata": {},
   "outputs": [
    {
     "data": {
      "text/html": [
       "<div>\n",
       "<style scoped>\n",
       "    .dataframe tbody tr th:only-of-type {\n",
       "        vertical-align: middle;\n",
       "    }\n",
       "\n",
       "    .dataframe tbody tr th {\n",
       "        vertical-align: top;\n",
       "    }\n",
       "\n",
       "    .dataframe thead th {\n",
       "        text-align: right;\n",
       "    }\n",
       "</style>\n",
       "<table border=\"1\" class=\"dataframe\">\n",
       "  <thead>\n",
       "    <tr style=\"text-align: right;\">\n",
       "      <th></th>\n",
       "      <th>Depart</th>\n",
       "      <th>Sunrise</th>\n",
       "      <th>Sunset</th>\n",
       "      <th>Depth</th>\n",
       "      <th>SnowFall</th>\n",
       "    </tr>\n",
       "  </thead>\n",
       "  <tbody>\n",
       "    <tr>\n",
       "      <th>0</th>\n",
       "      <td>14</td>\n",
       "      <td>2007-05-01 04:48:00</td>\n",
       "      <td>2007-05-01 18:49:00</td>\n",
       "      <td>0</td>\n",
       "      <td>0.0</td>\n",
       "    </tr>\n",
       "    <tr>\n",
       "      <th>1</th>\n",
       "      <td>NaN</td>\n",
       "      <td>NaT</td>\n",
       "      <td>2007-05-01 18:49:00</td>\n",
       "      <td>NaN</td>\n",
       "      <td>NaN</td>\n",
       "    </tr>\n",
       "    <tr>\n",
       "      <th>2</th>\n",
       "      <td>-3</td>\n",
       "      <td>2007-05-02 04:47:00</td>\n",
       "      <td>2007-05-02 18:50:00</td>\n",
       "      <td>0</td>\n",
       "      <td>0.0</td>\n",
       "    </tr>\n",
       "    <tr>\n",
       "      <th>3</th>\n",
       "      <td>NaN</td>\n",
       "      <td>NaT</td>\n",
       "      <td>2007-05-02 18:50:00</td>\n",
       "      <td>NaN</td>\n",
       "      <td>NaN</td>\n",
       "    </tr>\n",
       "    <tr>\n",
       "      <th>4</th>\n",
       "      <td>2</td>\n",
       "      <td>2007-05-03 04:46:00</td>\n",
       "      <td>2007-05-03 18:51:00</td>\n",
       "      <td>0</td>\n",
       "      <td>0.0</td>\n",
       "    </tr>\n",
       "    <tr>\n",
       "      <th>...</th>\n",
       "      <td>...</td>\n",
       "      <td>...</td>\n",
       "      <td>...</td>\n",
       "      <td>...</td>\n",
       "      <td>...</td>\n",
       "    </tr>\n",
       "    <tr>\n",
       "      <th>2939</th>\n",
       "      <td>NaN</td>\n",
       "      <td>NaT</td>\n",
       "      <td>2014-10-29 16:50:00</td>\n",
       "      <td>NaN</td>\n",
       "      <td>NaN</td>\n",
       "    </tr>\n",
       "    <tr>\n",
       "      <th>2940</th>\n",
       "      <td>-4</td>\n",
       "      <td>2014-10-30 06:22:00</td>\n",
       "      <td>2014-10-30 16:49:00</td>\n",
       "      <td>0</td>\n",
       "      <td>0.0</td>\n",
       "    </tr>\n",
       "    <tr>\n",
       "      <th>2941</th>\n",
       "      <td>NaN</td>\n",
       "      <td>NaT</td>\n",
       "      <td>2014-10-30 16:49:00</td>\n",
       "      <td>NaN</td>\n",
       "      <td>NaN</td>\n",
       "    </tr>\n",
       "    <tr>\n",
       "      <th>2942</th>\n",
       "      <td>-6</td>\n",
       "      <td>2014-10-31 06:23:00</td>\n",
       "      <td>2014-10-31 16:47:00</td>\n",
       "      <td>0</td>\n",
       "      <td>0.1</td>\n",
       "    </tr>\n",
       "    <tr>\n",
       "      <th>2943</th>\n",
       "      <td>NaN</td>\n",
       "      <td>NaT</td>\n",
       "      <td>2014-10-31 16:47:00</td>\n",
       "      <td>NaN</td>\n",
       "      <td>NaN</td>\n",
       "    </tr>\n",
       "  </tbody>\n",
       "</table>\n",
       "<p>2944 rows × 5 columns</p>\n",
       "</div>"
      ],
      "text/plain": [
       "      Depart             Sunrise              Sunset  Depth  SnowFall\n",
       "0         14 2007-05-01 04:48:00 2007-05-01 18:49:00      0       0.0\n",
       "1        NaN                 NaT 2007-05-01 18:49:00    NaN       NaN\n",
       "2         -3 2007-05-02 04:47:00 2007-05-02 18:50:00      0       0.0\n",
       "3        NaN                 NaT 2007-05-02 18:50:00    NaN       NaN\n",
       "4          2 2007-05-03 04:46:00 2007-05-03 18:51:00      0       0.0\n",
       "...      ...                 ...                 ...    ...       ...\n",
       "2939     NaN                 NaT 2014-10-29 16:50:00    NaN       NaN\n",
       "2940      -4 2014-10-30 06:22:00 2014-10-30 16:49:00      0       0.0\n",
       "2941     NaN                 NaT 2014-10-30 16:49:00    NaN       NaN\n",
       "2942      -6 2014-10-31 06:23:00 2014-10-31 16:47:00      0       0.1\n",
       "2943     NaN                 NaT 2014-10-31 16:47:00    NaN       NaN\n",
       "\n",
       "[2944 rows x 5 columns]"
      ]
     },
     "execution_count": 178,
     "metadata": {},
     "output_type": "execute_result"
    }
   ],
   "source": [
    "weather_df.loc[:,['Depart', 'Sunrise', 'Sunset', 'Depth', 'SnowFall']]"
   ]
  },
  {
   "cell_type": "code",
   "execution_count": 179,
   "metadata": {},
   "outputs": [],
   "source": [
    "def increasing_in_twos(idx_list):\n",
    "    prev_idx = idx_list[0]\n",
    "    for idx in idx_list[1:]:\n",
    "        if prev_idx + 2 != idx:\n",
    "            return False\n",
    "        prev_idx = idx\n",
    "    return True"
   ]
  },
  {
   "cell_type": "code",
   "execution_count": 180,
   "metadata": {},
   "outputs": [
    {
     "name": "stdout",
     "output_type": "stream",
     "text": [
      "True\n",
      "True\n",
      "True\n"
     ]
    }
   ],
   "source": [
    "# print(increasing_in_twos(weather_df[weather_df['Depart'].isnull()].index.tolist()))\n",
    "print(increasing_in_twos(weather_df[weather_df['Sunrise'].isnull()].index.tolist()))\n",
    "# print(increasing_in_twos(weather_df[weather_df['Sunset'].isnull()].index.tolist()))\n",
    "print(increasing_in_twos(weather_df[weather_df['Depth'].isnull()].index.tolist()))\n",
    "print(increasing_in_twos(weather_df[weather_df['SnowFall'].isnull()].index.tolist()))"
   ]
  },
  {
   "cell_type": "markdown",
   "metadata": {},
   "source": [
    "**Handling missing values for columns Depart, Sunrise, Sunset, Depth, SnowFall**  \n",
    "Option A: Data Imputation From Station 1"
   ]
  },
  {
   "cell_type": "code",
   "execution_count": 181,
   "metadata": {},
   "outputs": [],
   "source": [
    "# weather_df['Depart'].fillna(method='ffill', inplace=True)\n",
    "weather_df['Sunrise'].fillna(method='ffill', inplace=True)\n",
    "# weather_df['Sunset'].fillna(method='ffill', inplace=True)\n",
    "weather_df['Depth'].fillna(method='ffill', inplace=True)\n",
    "weather_df['SnowFall'].fillna(method='ffill', inplace=True)"
   ]
  },
  {
   "cell_type": "code",
   "execution_count": 182,
   "metadata": {},
   "outputs": [
    {
     "data": {
      "text/plain": [
       "Station            0\n",
       "CalendarDate       0\n",
       "Tmax               0\n",
       "Tmin               0\n",
       "Tavg              11\n",
       "Depart          1472\n",
       "DewPoint           0\n",
       "WetBulb            4\n",
       "Heat              11\n",
       "Cool              11\n",
       "Sunrise            0\n",
       "Sunset             0\n",
       "CodeSum            0\n",
       "Depth              0\n",
       "Water1          2944\n",
       "SnowFall           0\n",
       "PrecipTotal        2\n",
       "StnPressure        4\n",
       "SeaLevel           9\n",
       "ResultSpeed        0\n",
       "ResultDir          0\n",
       "AvgSpeed           3\n",
       "Year               0\n",
       "Month              0\n",
       "Date               0\n",
       "CodeSum_BCFG       0\n",
       "CodeSum_BR         0\n",
       "CodeSum_DZ         0\n",
       "CodeSum_FG         0\n",
       "CodeSum_FG+        0\n",
       "CodeSum_FU         0\n",
       "CodeSum_GR         0\n",
       "CodeSum_HZ         0\n",
       "CodeSum_MIFG       0\n",
       "CodeSum_RA         0\n",
       "CodeSum_SN         0\n",
       "CodeSum_SQ         0\n",
       "CodeSum_TS         0\n",
       "CodeSum_TSRA       0\n",
       "CodeSum_VCFG       0\n",
       "CodeSum_VCTS       0\n",
       "dtype: int64"
      ]
     },
     "execution_count": 182,
     "metadata": {},
     "output_type": "execute_result"
    }
   ],
   "source": [
    "weather_df.isnull().sum()"
   ]
  },
  {
   "cell_type": "code",
   "execution_count": 183,
   "metadata": {},
   "outputs": [],
   "source": [
    "# Drop Water1\n",
    "weather_df.drop(columns=['Water1'], inplace=True)"
   ]
  },
  {
   "cell_type": "markdown",
   "metadata": {},
   "source": [
    "**Handling missing values for columns Depart, Sunrise, Sunset, Depth, SnowFall**  \n",
    "Option B: Drop all columns with missing values for Station 2"
   ]
  },
  {
   "cell_type": "code",
   "execution_count": 184,
   "metadata": {
    "pycharm": {
     "name": "#%%\n"
    }
   },
   "outputs": [],
   "source": [
    "# Drop Depart, Sunrise, Sunset, Depth, Water1, SnowFall\n",
    "# weather_df.drop(columns=['Depart', 'Sunrise', 'Sunset', 'Depth', 'Water1', 'SnowFall'], inplace=True)"
   ]
  },
  {
   "cell_type": "code",
   "execution_count": 185,
   "metadata": {},
   "outputs": [
    {
     "data": {
      "text/plain": [
       "(2944, 40)"
      ]
     },
     "execution_count": 185,
     "metadata": {},
     "output_type": "execute_result"
    }
   ],
   "source": [
    "weather_df.shape"
   ]
  },
  {
   "cell_type": "code",
   "execution_count": 186,
   "metadata": {},
   "outputs": [
    {
     "data": {
      "text/plain": [
       "Tavg             11\n",
       "Depart         1472\n",
       "WetBulb           4\n",
       "Heat             11\n",
       "Cool             11\n",
       "PrecipTotal       2\n",
       "StnPressure       4\n",
       "SeaLevel          9\n",
       "AvgSpeed          3\n",
       "dtype: int64"
      ]
     },
     "execution_count": 186,
     "metadata": {},
     "output_type": "execute_result"
    }
   ],
   "source": [
    "weather_df.isnull().sum()[weather_df.isnull().sum() > 0]"
   ]
  },
  {
   "cell_type": "code",
   "execution_count": 187,
   "metadata": {},
   "outputs": [],
   "source": [
    "indices_tavg_null = weather_df[weather_df['Tavg'].isnull()].index.tolist()\n",
    "indices_wetbulb_null = weather_df[weather_df['WetBulb'].isnull()].index.tolist()\n",
    "indices_heat_null = weather_df[weather_df['Heat'].isnull()].index.tolist()\n",
    "indices_cool_null = weather_df[weather_df['Cool'].isnull()].index.tolist()\n",
    "indices_preciptotal_null = weather_df[weather_df['PrecipTotal'].isnull()].index.tolist()\n",
    "indices_stnpressure_null = weather_df[weather_df['StnPressure'].isnull()].index.tolist()\n",
    "indices_sealevel_null = weather_df[weather_df['SeaLevel'].isnull()].index.tolist()\n",
    "indices_avgspeed_null = weather_df[weather_df['AvgSpeed'].isnull()].index.tolist()"
   ]
  },
  {
   "cell_type": "code",
   "execution_count": 188,
   "metadata": {},
   "outputs": [
    {
     "data": {
      "text/plain": [
       "[7,\n",
       " 87,\n",
       " 117,\n",
       " 119,\n",
       " 505,\n",
       " 675,\n",
       " 832,\n",
       " 848,\n",
       " 994,\n",
       " 1637,\n",
       " 1732,\n",
       " 1745,\n",
       " 1756,\n",
       " 2067,\n",
       " 2090,\n",
       " 2211,\n",
       " 2410,\n",
       " 2411,\n",
       " 2412,\n",
       " 2415,\n",
       " 2501,\n",
       " 2511,\n",
       " 2525,\n",
       " 2579,\n",
       " 2743,\n",
       " 2811]"
      ]
     },
     "execution_count": 188,
     "metadata": {},
     "output_type": "execute_result"
    }
   ],
   "source": [
    "indices_na = sorted(list(set().union(*[indices_tavg_null,\n",
    "                           indices_wetbulb_null,\n",
    "                           indices_heat_null,\n",
    "                           indices_cool_null,\n",
    "                           indices_preciptotal_null,\n",
    "                           indices_stnpressure_null,\n",
    "                           indices_sealevel_null,\n",
    "                           indices_avgspeed_null\n",
    "                  ])))\n",
    "indices_na"
   ]
  },
  {
   "cell_type": "code",
   "execution_count": 189,
   "metadata": {},
   "outputs": [
    {
     "data": {
      "text/plain": [
       "Tavg      7       True\n",
       "          505     True\n",
       "          675     True\n",
       "          1637    True\n",
       "          2067    True\n",
       "                  ... \n",
       "SeaLevel  2090    True\n",
       "          2743    True\n",
       "AvgSpeed  87      True\n",
       "          1745    True\n",
       "          2067    True\n",
       "Length: 1527, dtype: bool"
      ]
     },
     "execution_count": 189,
     "metadata": {},
     "output_type": "execute_result"
    }
   ],
   "source": [
    "df_null = weather_df.isnull().unstack()\n",
    "df_null[df_null]"
   ]
  },
  {
   "cell_type": "code",
   "execution_count": 190,
   "metadata": {},
   "outputs": [
    {
     "data": {
      "text/html": [
       "<div>\n",
       "<style scoped>\n",
       "    .dataframe tbody tr th:only-of-type {\n",
       "        vertical-align: middle;\n",
       "    }\n",
       "\n",
       "    .dataframe tbody tr th {\n",
       "        vertical-align: top;\n",
       "    }\n",
       "\n",
       "    .dataframe thead th {\n",
       "        text-align: right;\n",
       "    }\n",
       "</style>\n",
       "<table border=\"1\" class=\"dataframe\">\n",
       "  <thead>\n",
       "    <tr style=\"text-align: right;\">\n",
       "      <th></th>\n",
       "      <th>CalendarDate</th>\n",
       "      <th>Tavg</th>\n",
       "      <th>WetBulb</th>\n",
       "      <th>Heat</th>\n",
       "      <th>Cool</th>\n",
       "      <th>PrecipTotal</th>\n",
       "      <th>StnPressure</th>\n",
       "      <th>SeaLevel</th>\n",
       "      <th>AvgSpeed</th>\n",
       "    </tr>\n",
       "  </thead>\n",
       "  <tbody>\n",
       "    <tr>\n",
       "      <th>7</th>\n",
       "      <td>2007-05-04</td>\n",
       "      <td>NaN</td>\n",
       "      <td>50</td>\n",
       "      <td>NaN</td>\n",
       "      <td>NaN</td>\n",
       "      <td>0.00</td>\n",
       "      <td>29.36</td>\n",
       "      <td>30.04</td>\n",
       "      <td>10.4</td>\n",
       "    </tr>\n",
       "    <tr>\n",
       "      <th>87</th>\n",
       "      <td>2007-06-13</td>\n",
       "      <td>77</td>\n",
       "      <td>62</td>\n",
       "      <td>0</td>\n",
       "      <td>12</td>\n",
       "      <td>0.00</td>\n",
       "      <td>NaN</td>\n",
       "      <td>NaN</td>\n",
       "      <td>NaN</td>\n",
       "    </tr>\n",
       "    <tr>\n",
       "      <th>117</th>\n",
       "      <td>2007-06-28</td>\n",
       "      <td>67</td>\n",
       "      <td>61</td>\n",
       "      <td>0</td>\n",
       "      <td>2</td>\n",
       "      <td>NaN</td>\n",
       "      <td>29.43</td>\n",
       "      <td>30.07</td>\n",
       "      <td>13.3</td>\n",
       "    </tr>\n",
       "    <tr>\n",
       "      <th>119</th>\n",
       "      <td>2007-06-29</td>\n",
       "      <td>64</td>\n",
       "      <td>60</td>\n",
       "      <td>1</td>\n",
       "      <td>0</td>\n",
       "      <td>NaN</td>\n",
       "      <td>29.47</td>\n",
       "      <td>30.11</td>\n",
       "      <td>8.2</td>\n",
       "    </tr>\n",
       "    <tr>\n",
       "      <th>505</th>\n",
       "      <td>2008-07-08</td>\n",
       "      <td>NaN</td>\n",
       "      <td>71</td>\n",
       "      <td>NaN</td>\n",
       "      <td>NaN</td>\n",
       "      <td>0.28</td>\n",
       "      <td>29.16</td>\n",
       "      <td>29.80</td>\n",
       "      <td>8.3</td>\n",
       "    </tr>\n",
       "    <tr>\n",
       "      <th>675</th>\n",
       "      <td>2008-10-01</td>\n",
       "      <td>NaN</td>\n",
       "      <td>47</td>\n",
       "      <td>NaN</td>\n",
       "      <td>NaN</td>\n",
       "      <td>0.00</td>\n",
       "      <td>29.30</td>\n",
       "      <td>29.96</td>\n",
       "      <td>11.0</td>\n",
       "    </tr>\n",
       "    <tr>\n",
       "      <th>832</th>\n",
       "      <td>2009-06-18</td>\n",
       "      <td>71</td>\n",
       "      <td>67</td>\n",
       "      <td>0</td>\n",
       "      <td>6</td>\n",
       "      <td>0.12</td>\n",
       "      <td>29.08</td>\n",
       "      <td>NaN</td>\n",
       "      <td>7.9</td>\n",
       "    </tr>\n",
       "    <tr>\n",
       "      <th>848</th>\n",
       "      <td>2009-06-26</td>\n",
       "      <td>78</td>\n",
       "      <td>NaN</td>\n",
       "      <td>0</td>\n",
       "      <td>13</td>\n",
       "      <td>0.00</td>\n",
       "      <td>NaN</td>\n",
       "      <td>29.85</td>\n",
       "      <td>8.2</td>\n",
       "    </tr>\n",
       "    <tr>\n",
       "      <th>994</th>\n",
       "      <td>2009-09-07</td>\n",
       "      <td>68</td>\n",
       "      <td>62</td>\n",
       "      <td>0</td>\n",
       "      <td>3</td>\n",
       "      <td>0.00</td>\n",
       "      <td>29.39</td>\n",
       "      <td>NaN</td>\n",
       "      <td>4.0</td>\n",
       "    </tr>\n",
       "    <tr>\n",
       "      <th>1637</th>\n",
       "      <td>2011-07-22</td>\n",
       "      <td>NaN</td>\n",
       "      <td>74</td>\n",
       "      <td>NaN</td>\n",
       "      <td>NaN</td>\n",
       "      <td>0.14</td>\n",
       "      <td>29.23</td>\n",
       "      <td>29.86</td>\n",
       "      <td>8.2</td>\n",
       "    </tr>\n",
       "  </tbody>\n",
       "</table>\n",
       "</div>"
      ],
      "text/plain": [
       "     CalendarDate  Tavg  WetBulb  Heat  Cool  PrecipTotal  StnPressure  \\\n",
       "7      2007-05-04   NaN       50   NaN   NaN         0.00        29.36   \n",
       "87     2007-06-13    77       62     0    12         0.00          NaN   \n",
       "117    2007-06-28    67       61     0     2          NaN        29.43   \n",
       "119    2007-06-29    64       60     1     0          NaN        29.47   \n",
       "505    2008-07-08   NaN       71   NaN   NaN         0.28        29.16   \n",
       "675    2008-10-01   NaN       47   NaN   NaN         0.00        29.30   \n",
       "832    2009-06-18    71       67     0     6         0.12        29.08   \n",
       "848    2009-06-26    78      NaN     0    13         0.00          NaN   \n",
       "994    2009-09-07    68       62     0     3         0.00        29.39   \n",
       "1637   2011-07-22   NaN       74   NaN   NaN         0.14        29.23   \n",
       "\n",
       "      SeaLevel  AvgSpeed  \n",
       "7        30.04      10.4  \n",
       "87         NaN       NaN  \n",
       "117      30.07      13.3  \n",
       "119      30.11       8.2  \n",
       "505      29.80       8.3  \n",
       "675      29.96      11.0  \n",
       "832        NaN       7.9  \n",
       "848      29.85       8.2  \n",
       "994        NaN       4.0  \n",
       "1637     29.86       8.2  "
      ]
     },
     "execution_count": 190,
     "metadata": {},
     "output_type": "execute_result"
    }
   ],
   "source": [
    "# 26 rows with NaN values in at least one column\n",
    "weather_df.loc[indices_na, ['CalendarDate', 'Tavg', 'WetBulb', 'Heat', \n",
    "                            'Cool', 'PrecipTotal', 'StnPressure', \n",
    "                            'SeaLevel', 'AvgSpeed']].head(10)"
   ]
  },
  {
   "cell_type": "markdown",
   "metadata": {},
   "source": [
    "Row index 2410, 2411 have identical calendar dates. Dropping them would mean that there's missing information for the date 2013-08-10."
   ]
  },
  {
   "cell_type": "code",
   "execution_count": 191,
   "metadata": {},
   "outputs": [
    {
     "data": {
      "text/html": [
       "<div>\n",
       "<style scoped>\n",
       "    .dataframe tbody tr th:only-of-type {\n",
       "        vertical-align: middle;\n",
       "    }\n",
       "\n",
       "    .dataframe tbody tr th {\n",
       "        vertical-align: top;\n",
       "    }\n",
       "\n",
       "    .dataframe thead th {\n",
       "        text-align: right;\n",
       "    }\n",
       "</style>\n",
       "<table border=\"1\" class=\"dataframe\">\n",
       "  <thead>\n",
       "    <tr style=\"text-align: right;\">\n",
       "      <th></th>\n",
       "      <th>Station</th>\n",
       "      <th>CalendarDate</th>\n",
       "      <th>Tmax</th>\n",
       "      <th>Tmin</th>\n",
       "      <th>Tavg</th>\n",
       "      <th>Depart</th>\n",
       "      <th>DewPoint</th>\n",
       "      <th>WetBulb</th>\n",
       "      <th>Heat</th>\n",
       "      <th>Cool</th>\n",
       "      <th>...</th>\n",
       "      <th>CodeSum_GR</th>\n",
       "      <th>CodeSum_HZ</th>\n",
       "      <th>CodeSum_MIFG</th>\n",
       "      <th>CodeSum_RA</th>\n",
       "      <th>CodeSum_SN</th>\n",
       "      <th>CodeSum_SQ</th>\n",
       "      <th>CodeSum_TS</th>\n",
       "      <th>CodeSum_TSRA</th>\n",
       "      <th>CodeSum_VCFG</th>\n",
       "      <th>CodeSum_VCTS</th>\n",
       "    </tr>\n",
       "  </thead>\n",
       "  <tbody>\n",
       "    <tr>\n",
       "      <th>6</th>\n",
       "      <td>1</td>\n",
       "      <td>2007-05-04</td>\n",
       "      <td>66</td>\n",
       "      <td>49</td>\n",
       "      <td>58</td>\n",
       "      <td>4</td>\n",
       "      <td>41</td>\n",
       "      <td>50</td>\n",
       "      <td>7</td>\n",
       "      <td>0</td>\n",
       "      <td>...</td>\n",
       "      <td>0</td>\n",
       "      <td>0</td>\n",
       "      <td>0</td>\n",
       "      <td>1</td>\n",
       "      <td>0</td>\n",
       "      <td>0</td>\n",
       "      <td>0</td>\n",
       "      <td>0</td>\n",
       "      <td>0</td>\n",
       "      <td>0</td>\n",
       "    </tr>\n",
       "    <tr>\n",
       "      <th>7</th>\n",
       "      <td>2</td>\n",
       "      <td>2007-05-04</td>\n",
       "      <td>78</td>\n",
       "      <td>51</td>\n",
       "      <td>NaN</td>\n",
       "      <td>NaN</td>\n",
       "      <td>42</td>\n",
       "      <td>50</td>\n",
       "      <td>NaN</td>\n",
       "      <td>NaN</td>\n",
       "      <td>...</td>\n",
       "      <td>0</td>\n",
       "      <td>0</td>\n",
       "      <td>0</td>\n",
       "      <td>0</td>\n",
       "      <td>0</td>\n",
       "      <td>0</td>\n",
       "      <td>0</td>\n",
       "      <td>0</td>\n",
       "      <td>0</td>\n",
       "      <td>0</td>\n",
       "    </tr>\n",
       "    <tr>\n",
       "      <th>86</th>\n",
       "      <td>1</td>\n",
       "      <td>2007-06-13</td>\n",
       "      <td>87</td>\n",
       "      <td>60</td>\n",
       "      <td>74</td>\n",
       "      <td>6</td>\n",
       "      <td>53</td>\n",
       "      <td>62</td>\n",
       "      <td>0</td>\n",
       "      <td>9</td>\n",
       "      <td>...</td>\n",
       "      <td>0</td>\n",
       "      <td>0</td>\n",
       "      <td>0</td>\n",
       "      <td>0</td>\n",
       "      <td>0</td>\n",
       "      <td>0</td>\n",
       "      <td>0</td>\n",
       "      <td>0</td>\n",
       "      <td>0</td>\n",
       "      <td>0</td>\n",
       "    </tr>\n",
       "    <tr>\n",
       "      <th>87</th>\n",
       "      <td>2</td>\n",
       "      <td>2007-06-13</td>\n",
       "      <td>86</td>\n",
       "      <td>68</td>\n",
       "      <td>77</td>\n",
       "      <td>NaN</td>\n",
       "      <td>53</td>\n",
       "      <td>62</td>\n",
       "      <td>0</td>\n",
       "      <td>12</td>\n",
       "      <td>...</td>\n",
       "      <td>0</td>\n",
       "      <td>0</td>\n",
       "      <td>0</td>\n",
       "      <td>0</td>\n",
       "      <td>0</td>\n",
       "      <td>0</td>\n",
       "      <td>0</td>\n",
       "      <td>0</td>\n",
       "      <td>0</td>\n",
       "      <td>0</td>\n",
       "    </tr>\n",
       "    <tr>\n",
       "      <th>116</th>\n",
       "      <td>1</td>\n",
       "      <td>2007-06-28</td>\n",
       "      <td>74</td>\n",
       "      <td>58</td>\n",
       "      <td>66</td>\n",
       "      <td>-5</td>\n",
       "      <td>55</td>\n",
       "      <td>60</td>\n",
       "      <td>0</td>\n",
       "      <td>1</td>\n",
       "      <td>...</td>\n",
       "      <td>0</td>\n",
       "      <td>0</td>\n",
       "      <td>0</td>\n",
       "      <td>0</td>\n",
       "      <td>0</td>\n",
       "      <td>0</td>\n",
       "      <td>0</td>\n",
       "      <td>0</td>\n",
       "      <td>0</td>\n",
       "      <td>0</td>\n",
       "    </tr>\n",
       "    <tr>\n",
       "      <th>117</th>\n",
       "      <td>2</td>\n",
       "      <td>2007-06-28</td>\n",
       "      <td>73</td>\n",
       "      <td>61</td>\n",
       "      <td>67</td>\n",
       "      <td>NaN</td>\n",
       "      <td>56</td>\n",
       "      <td>61</td>\n",
       "      <td>0</td>\n",
       "      <td>2</td>\n",
       "      <td>...</td>\n",
       "      <td>0</td>\n",
       "      <td>0</td>\n",
       "      <td>0</td>\n",
       "      <td>0</td>\n",
       "      <td>0</td>\n",
       "      <td>0</td>\n",
       "      <td>0</td>\n",
       "      <td>0</td>\n",
       "      <td>0</td>\n",
       "      <td>0</td>\n",
       "    </tr>\n",
       "    <tr>\n",
       "      <th>118</th>\n",
       "      <td>1</td>\n",
       "      <td>2007-06-29</td>\n",
       "      <td>70</td>\n",
       "      <td>56</td>\n",
       "      <td>63</td>\n",
       "      <td>-8</td>\n",
       "      <td>55</td>\n",
       "      <td>59</td>\n",
       "      <td>2</td>\n",
       "      <td>0</td>\n",
       "      <td>...</td>\n",
       "      <td>0</td>\n",
       "      <td>0</td>\n",
       "      <td>0</td>\n",
       "      <td>0</td>\n",
       "      <td>0</td>\n",
       "      <td>0</td>\n",
       "      <td>0</td>\n",
       "      <td>0</td>\n",
       "      <td>0</td>\n",
       "      <td>0</td>\n",
       "    </tr>\n",
       "    <tr>\n",
       "      <th>119</th>\n",
       "      <td>2</td>\n",
       "      <td>2007-06-29</td>\n",
       "      <td>71</td>\n",
       "      <td>56</td>\n",
       "      <td>64</td>\n",
       "      <td>NaN</td>\n",
       "      <td>56</td>\n",
       "      <td>60</td>\n",
       "      <td>1</td>\n",
       "      <td>0</td>\n",
       "      <td>...</td>\n",
       "      <td>0</td>\n",
       "      <td>0</td>\n",
       "      <td>0</td>\n",
       "      <td>0</td>\n",
       "      <td>0</td>\n",
       "      <td>0</td>\n",
       "      <td>0</td>\n",
       "      <td>0</td>\n",
       "      <td>0</td>\n",
       "      <td>0</td>\n",
       "    </tr>\n",
       "    <tr>\n",
       "      <th>504</th>\n",
       "      <td>1</td>\n",
       "      <td>2008-07-08</td>\n",
       "      <td>85</td>\n",
       "      <td>70</td>\n",
       "      <td>78</td>\n",
       "      <td>5</td>\n",
       "      <td>67</td>\n",
       "      <td>71</td>\n",
       "      <td>0</td>\n",
       "      <td>13</td>\n",
       "      <td>...</td>\n",
       "      <td>0</td>\n",
       "      <td>0</td>\n",
       "      <td>0</td>\n",
       "      <td>0</td>\n",
       "      <td>0</td>\n",
       "      <td>0</td>\n",
       "      <td>0</td>\n",
       "      <td>0</td>\n",
       "      <td>0</td>\n",
       "      <td>0</td>\n",
       "    </tr>\n",
       "    <tr>\n",
       "      <th>505</th>\n",
       "      <td>2</td>\n",
       "      <td>2008-07-08</td>\n",
       "      <td>86</td>\n",
       "      <td>46</td>\n",
       "      <td>NaN</td>\n",
       "      <td>NaN</td>\n",
       "      <td>68</td>\n",
       "      <td>71</td>\n",
       "      <td>NaN</td>\n",
       "      <td>NaN</td>\n",
       "      <td>...</td>\n",
       "      <td>0</td>\n",
       "      <td>0</td>\n",
       "      <td>0</td>\n",
       "      <td>1</td>\n",
       "      <td>0</td>\n",
       "      <td>0</td>\n",
       "      <td>1</td>\n",
       "      <td>0</td>\n",
       "      <td>0</td>\n",
       "      <td>0</td>\n",
       "    </tr>\n",
       "  </tbody>\n",
       "</table>\n",
       "<p>10 rows × 40 columns</p>\n",
       "</div>"
      ],
      "text/plain": [
       "     Station CalendarDate  Tmax  Tmin  Tavg  Depart  DewPoint  WetBulb  Heat  \\\n",
       "6          1   2007-05-04    66    49    58       4        41       50     7   \n",
       "7          2   2007-05-04    78    51   NaN     NaN        42       50   NaN   \n",
       "86         1   2007-06-13    87    60    74       6        53       62     0   \n",
       "87         2   2007-06-13    86    68    77     NaN        53       62     0   \n",
       "116        1   2007-06-28    74    58    66      -5        55       60     0   \n",
       "117        2   2007-06-28    73    61    67     NaN        56       61     0   \n",
       "118        1   2007-06-29    70    56    63      -8        55       59     2   \n",
       "119        2   2007-06-29    71    56    64     NaN        56       60     1   \n",
       "504        1   2008-07-08    85    70    78       5        67       71     0   \n",
       "505        2   2008-07-08    86    46   NaN     NaN        68       71   NaN   \n",
       "\n",
       "     Cool  ... CodeSum_GR CodeSum_HZ CodeSum_MIFG  CodeSum_RA  CodeSum_SN  \\\n",
       "6       0  ...          0          0            0           1           0   \n",
       "7     NaN  ...          0          0            0           0           0   \n",
       "86      9  ...          0          0            0           0           0   \n",
       "87     12  ...          0          0            0           0           0   \n",
       "116     1  ...          0          0            0           0           0   \n",
       "117     2  ...          0          0            0           0           0   \n",
       "118     0  ...          0          0            0           0           0   \n",
       "119     0  ...          0          0            0           0           0   \n",
       "504    13  ...          0          0            0           0           0   \n",
       "505   NaN  ...          0          0            0           1           0   \n",
       "\n",
       "     CodeSum_SQ  CodeSum_TS  CodeSum_TSRA  CodeSum_VCFG  CodeSum_VCTS  \n",
       "6             0           0             0             0             0  \n",
       "7             0           0             0             0             0  \n",
       "86            0           0             0             0             0  \n",
       "87            0           0             0             0             0  \n",
       "116           0           0             0             0             0  \n",
       "117           0           0             0             0             0  \n",
       "118           0           0             0             0             0  \n",
       "119           0           0             0             0             0  \n",
       "504           0           0             0             0             0  \n",
       "505           0           1             0             0             0  \n",
       "\n",
       "[10 rows x 40 columns]"
      ]
     },
     "execution_count": 191,
     "metadata": {},
     "output_type": "execute_result"
    }
   ],
   "source": [
    "weather_df.loc[weather_df['CalendarDate'].isin(list(set(weather_df.loc[indices_na, 'CalendarDate'].values)))].head(10)"
   ]
  },
  {
   "cell_type": "markdown",
   "metadata": {},
   "source": [
    "**Handling missing values in Tavg**"
   ]
  },
  {
   "cell_type": "code",
   "execution_count": 192,
   "metadata": {},
   "outputs": [],
   "source": [
    "weather_df['Tavg'] = weather_df['Tavg'].fillna(((weather_df['Tmax'] + weather_df['Tmin']) / 2).map(ceil))"
   ]
  },
  {
   "cell_type": "markdown",
   "metadata": {},
   "source": [
    "**Handling missing values in Depart**"
   ]
  },
  {
   "cell_type": "code",
   "execution_count": 193,
   "metadata": {},
   "outputs": [],
   "source": [
    "def fillna_with_values_depart():\n",
    "    station_1_indices = weather_df.loc[\n",
    "          (weather_df['CalendarDate'].isin(list(set(weather_df.loc[weather_df['Depart'].isnull(), 'CalendarDate'].values))))\n",
    "        & (weather_df['Station'] == 1)\n",
    "        & ~(weather_df['Depart'].isnull())][['Depart']].index\n",
    "    \n",
    "    station_2_indices = weather_df.loc[\n",
    "          (weather_df['CalendarDate'].isin(list(set(weather_df.loc[weather_df['Depart'].isnull(), 'CalendarDate'].values))))\n",
    "        & (weather_df['Station'] == 2)\n",
    "        & (weather_df['Depart'].isnull())][['Depart']].index\n",
    "    \n",
    "    combined_indices = list(zip(station_1_indices, station_2_indices))\n",
    "    \n",
    "    for indices in combined_indices:\n",
    "        normal = weather_df.loc[indices[0], 'Tavg'] - weather_df.loc[indices[0], 'Depart']\n",
    "        weather_df.loc[indices[1], 'Depart'] = weather_df.loc[indices[1], 'Tavg'] - normal"
   ]
  },
  {
   "cell_type": "code",
   "execution_count": 194,
   "metadata": {},
   "outputs": [],
   "source": [
    "fillna_with_values_depart()"
   ]
  },
  {
   "cell_type": "code",
   "execution_count": 195,
   "metadata": {},
   "outputs": [
    {
     "data": {
      "text/html": [
       "<div>\n",
       "<style scoped>\n",
       "    .dataframe tbody tr th:only-of-type {\n",
       "        vertical-align: middle;\n",
       "    }\n",
       "\n",
       "    .dataframe tbody tr th {\n",
       "        vertical-align: top;\n",
       "    }\n",
       "\n",
       "    .dataframe thead th {\n",
       "        text-align: right;\n",
       "    }\n",
       "</style>\n",
       "<table border=\"1\" class=\"dataframe\">\n",
       "  <thead>\n",
       "    <tr style=\"text-align: right;\">\n",
       "      <th></th>\n",
       "      <th>Station</th>\n",
       "      <th>CalendarDate</th>\n",
       "      <th>Tmax</th>\n",
       "      <th>Tmin</th>\n",
       "      <th>Tavg</th>\n",
       "      <th>Depart</th>\n",
       "      <th>DewPoint</th>\n",
       "      <th>WetBulb</th>\n",
       "      <th>Heat</th>\n",
       "      <th>Cool</th>\n",
       "      <th>...</th>\n",
       "      <th>CodeSum_GR</th>\n",
       "      <th>CodeSum_HZ</th>\n",
       "      <th>CodeSum_MIFG</th>\n",
       "      <th>CodeSum_RA</th>\n",
       "      <th>CodeSum_SN</th>\n",
       "      <th>CodeSum_SQ</th>\n",
       "      <th>CodeSum_TS</th>\n",
       "      <th>CodeSum_TSRA</th>\n",
       "      <th>CodeSum_VCFG</th>\n",
       "      <th>CodeSum_VCTS</th>\n",
       "    </tr>\n",
       "  </thead>\n",
       "  <tbody>\n",
       "    <tr>\n",
       "      <th>0</th>\n",
       "      <td>1</td>\n",
       "      <td>2007-05-01</td>\n",
       "      <td>83</td>\n",
       "      <td>50</td>\n",
       "      <td>67</td>\n",
       "      <td>14</td>\n",
       "      <td>51</td>\n",
       "      <td>56</td>\n",
       "      <td>0</td>\n",
       "      <td>2</td>\n",
       "      <td>...</td>\n",
       "      <td>0</td>\n",
       "      <td>0</td>\n",
       "      <td>0</td>\n",
       "      <td>0</td>\n",
       "      <td>0</td>\n",
       "      <td>0</td>\n",
       "      <td>0</td>\n",
       "      <td>0</td>\n",
       "      <td>0</td>\n",
       "      <td>0</td>\n",
       "    </tr>\n",
       "    <tr>\n",
       "      <th>1</th>\n",
       "      <td>2</td>\n",
       "      <td>2007-05-01</td>\n",
       "      <td>84</td>\n",
       "      <td>52</td>\n",
       "      <td>68</td>\n",
       "      <td>15</td>\n",
       "      <td>51</td>\n",
       "      <td>57</td>\n",
       "      <td>0</td>\n",
       "      <td>3</td>\n",
       "      <td>...</td>\n",
       "      <td>0</td>\n",
       "      <td>0</td>\n",
       "      <td>0</td>\n",
       "      <td>0</td>\n",
       "      <td>0</td>\n",
       "      <td>0</td>\n",
       "      <td>0</td>\n",
       "      <td>0</td>\n",
       "      <td>0</td>\n",
       "      <td>0</td>\n",
       "    </tr>\n",
       "    <tr>\n",
       "      <th>2</th>\n",
       "      <td>1</td>\n",
       "      <td>2007-05-02</td>\n",
       "      <td>59</td>\n",
       "      <td>42</td>\n",
       "      <td>51</td>\n",
       "      <td>-3</td>\n",
       "      <td>42</td>\n",
       "      <td>47</td>\n",
       "      <td>14</td>\n",
       "      <td>0</td>\n",
       "      <td>...</td>\n",
       "      <td>0</td>\n",
       "      <td>0</td>\n",
       "      <td>0</td>\n",
       "      <td>0</td>\n",
       "      <td>0</td>\n",
       "      <td>0</td>\n",
       "      <td>0</td>\n",
       "      <td>0</td>\n",
       "      <td>0</td>\n",
       "      <td>0</td>\n",
       "    </tr>\n",
       "    <tr>\n",
       "      <th>3</th>\n",
       "      <td>2</td>\n",
       "      <td>2007-05-02</td>\n",
       "      <td>60</td>\n",
       "      <td>43</td>\n",
       "      <td>52</td>\n",
       "      <td>-2</td>\n",
       "      <td>42</td>\n",
       "      <td>47</td>\n",
       "      <td>13</td>\n",
       "      <td>0</td>\n",
       "      <td>...</td>\n",
       "      <td>0</td>\n",
       "      <td>1</td>\n",
       "      <td>0</td>\n",
       "      <td>0</td>\n",
       "      <td>0</td>\n",
       "      <td>0</td>\n",
       "      <td>0</td>\n",
       "      <td>0</td>\n",
       "      <td>0</td>\n",
       "      <td>0</td>\n",
       "    </tr>\n",
       "    <tr>\n",
       "      <th>4</th>\n",
       "      <td>1</td>\n",
       "      <td>2007-05-03</td>\n",
       "      <td>66</td>\n",
       "      <td>46</td>\n",
       "      <td>56</td>\n",
       "      <td>2</td>\n",
       "      <td>40</td>\n",
       "      <td>48</td>\n",
       "      <td>9</td>\n",
       "      <td>0</td>\n",
       "      <td>...</td>\n",
       "      <td>0</td>\n",
       "      <td>0</td>\n",
       "      <td>0</td>\n",
       "      <td>0</td>\n",
       "      <td>0</td>\n",
       "      <td>0</td>\n",
       "      <td>0</td>\n",
       "      <td>0</td>\n",
       "      <td>0</td>\n",
       "      <td>0</td>\n",
       "    </tr>\n",
       "  </tbody>\n",
       "</table>\n",
       "<p>5 rows × 40 columns</p>\n",
       "</div>"
      ],
      "text/plain": [
       "   Station CalendarDate  Tmax  Tmin  Tavg  Depart  DewPoint  WetBulb  Heat  \\\n",
       "0        1   2007-05-01    83    50    67      14        51       56     0   \n",
       "1        2   2007-05-01    84    52    68      15        51       57     0   \n",
       "2        1   2007-05-02    59    42    51      -3        42       47    14   \n",
       "3        2   2007-05-02    60    43    52      -2        42       47    13   \n",
       "4        1   2007-05-03    66    46    56       2        40       48     9   \n",
       "\n",
       "   Cool  ... CodeSum_GR CodeSum_HZ CodeSum_MIFG  CodeSum_RA  CodeSum_SN  \\\n",
       "0     2  ...          0          0            0           0           0   \n",
       "1     3  ...          0          0            0           0           0   \n",
       "2     0  ...          0          0            0           0           0   \n",
       "3     0  ...          0          1            0           0           0   \n",
       "4     0  ...          0          0            0           0           0   \n",
       "\n",
       "   CodeSum_SQ  CodeSum_TS  CodeSum_TSRA  CodeSum_VCFG  CodeSum_VCTS  \n",
       "0           0           0             0             0             0  \n",
       "1           0           0             0             0             0  \n",
       "2           0           0             0             0             0  \n",
       "3           0           0             0             0             0  \n",
       "4           0           0             0             0             0  \n",
       "\n",
       "[5 rows x 40 columns]"
      ]
     },
     "execution_count": 195,
     "metadata": {},
     "output_type": "execute_result"
    }
   ],
   "source": [
    "weather_df.head()"
   ]
  },
  {
   "cell_type": "code",
   "execution_count": 196,
   "metadata": {},
   "outputs": [
    {
     "data": {
      "text/html": [
       "<div>\n",
       "<style scoped>\n",
       "    .dataframe tbody tr th:only-of-type {\n",
       "        vertical-align: middle;\n",
       "    }\n",
       "\n",
       "    .dataframe tbody tr th {\n",
       "        vertical-align: top;\n",
       "    }\n",
       "\n",
       "    .dataframe thead th {\n",
       "        text-align: right;\n",
       "    }\n",
       "</style>\n",
       "<table border=\"1\" class=\"dataframe\">\n",
       "  <thead>\n",
       "    <tr style=\"text-align: right;\">\n",
       "      <th></th>\n",
       "      <th>Station</th>\n",
       "      <th>CalendarDate</th>\n",
       "      <th>Tmax</th>\n",
       "      <th>Tmin</th>\n",
       "      <th>Tavg</th>\n",
       "      <th>Depart</th>\n",
       "      <th>DewPoint</th>\n",
       "      <th>WetBulb</th>\n",
       "      <th>Heat</th>\n",
       "      <th>Cool</th>\n",
       "      <th>...</th>\n",
       "      <th>CodeSum_GR</th>\n",
       "      <th>CodeSum_HZ</th>\n",
       "      <th>CodeSum_MIFG</th>\n",
       "      <th>CodeSum_RA</th>\n",
       "      <th>CodeSum_SN</th>\n",
       "      <th>CodeSum_SQ</th>\n",
       "      <th>CodeSum_TS</th>\n",
       "      <th>CodeSum_TSRA</th>\n",
       "      <th>CodeSum_VCFG</th>\n",
       "      <th>CodeSum_VCTS</th>\n",
       "    </tr>\n",
       "  </thead>\n",
       "  <tbody>\n",
       "    <tr>\n",
       "      <th>7</th>\n",
       "      <td>2</td>\n",
       "      <td>2007-05-04</td>\n",
       "      <td>78</td>\n",
       "      <td>51</td>\n",
       "      <td>65</td>\n",
       "      <td>11</td>\n",
       "      <td>42</td>\n",
       "      <td>50</td>\n",
       "      <td>NaN</td>\n",
       "      <td>NaN</td>\n",
       "      <td>...</td>\n",
       "      <td>0</td>\n",
       "      <td>0</td>\n",
       "      <td>0</td>\n",
       "      <td>0</td>\n",
       "      <td>0</td>\n",
       "      <td>0</td>\n",
       "      <td>0</td>\n",
       "      <td>0</td>\n",
       "      <td>0</td>\n",
       "      <td>0</td>\n",
       "    </tr>\n",
       "    <tr>\n",
       "      <th>505</th>\n",
       "      <td>2</td>\n",
       "      <td>2008-07-08</td>\n",
       "      <td>86</td>\n",
       "      <td>46</td>\n",
       "      <td>66</td>\n",
       "      <td>-7</td>\n",
       "      <td>68</td>\n",
       "      <td>71</td>\n",
       "      <td>NaN</td>\n",
       "      <td>NaN</td>\n",
       "      <td>...</td>\n",
       "      <td>0</td>\n",
       "      <td>0</td>\n",
       "      <td>0</td>\n",
       "      <td>1</td>\n",
       "      <td>0</td>\n",
       "      <td>0</td>\n",
       "      <td>1</td>\n",
       "      <td>0</td>\n",
       "      <td>0</td>\n",
       "      <td>0</td>\n",
       "    </tr>\n",
       "    <tr>\n",
       "      <th>675</th>\n",
       "      <td>2</td>\n",
       "      <td>2008-10-01</td>\n",
       "      <td>62</td>\n",
       "      <td>46</td>\n",
       "      <td>54</td>\n",
       "      <td>-4</td>\n",
       "      <td>41</td>\n",
       "      <td>47</td>\n",
       "      <td>NaN</td>\n",
       "      <td>NaN</td>\n",
       "      <td>...</td>\n",
       "      <td>0</td>\n",
       "      <td>0</td>\n",
       "      <td>0</td>\n",
       "      <td>0</td>\n",
       "      <td>0</td>\n",
       "      <td>0</td>\n",
       "      <td>0</td>\n",
       "      <td>0</td>\n",
       "      <td>0</td>\n",
       "      <td>0</td>\n",
       "    </tr>\n",
       "    <tr>\n",
       "      <th>1637</th>\n",
       "      <td>2</td>\n",
       "      <td>2011-07-22</td>\n",
       "      <td>100</td>\n",
       "      <td>71</td>\n",
       "      <td>86</td>\n",
       "      <td>12</td>\n",
       "      <td>70</td>\n",
       "      <td>74</td>\n",
       "      <td>NaN</td>\n",
       "      <td>NaN</td>\n",
       "      <td>...</td>\n",
       "      <td>0</td>\n",
       "      <td>0</td>\n",
       "      <td>0</td>\n",
       "      <td>0</td>\n",
       "      <td>0</td>\n",
       "      <td>0</td>\n",
       "      <td>1</td>\n",
       "      <td>1</td>\n",
       "      <td>0</td>\n",
       "      <td>0</td>\n",
       "    </tr>\n",
       "    <tr>\n",
       "      <th>2067</th>\n",
       "      <td>2</td>\n",
       "      <td>2012-08-22</td>\n",
       "      <td>84</td>\n",
       "      <td>72</td>\n",
       "      <td>78</td>\n",
       "      <td>7</td>\n",
       "      <td>51</td>\n",
       "      <td>61</td>\n",
       "      <td>NaN</td>\n",
       "      <td>NaN</td>\n",
       "      <td>...</td>\n",
       "      <td>0</td>\n",
       "      <td>0</td>\n",
       "      <td>0</td>\n",
       "      <td>0</td>\n",
       "      <td>0</td>\n",
       "      <td>0</td>\n",
       "      <td>0</td>\n",
       "      <td>0</td>\n",
       "      <td>0</td>\n",
       "      <td>0</td>\n",
       "    </tr>\n",
       "    <tr>\n",
       "      <th>2211</th>\n",
       "      <td>2</td>\n",
       "      <td>2013-05-02</td>\n",
       "      <td>71</td>\n",
       "      <td>42</td>\n",
       "      <td>57</td>\n",
       "      <td>3</td>\n",
       "      <td>39</td>\n",
       "      <td>45</td>\n",
       "      <td>NaN</td>\n",
       "      <td>NaN</td>\n",
       "      <td>...</td>\n",
       "      <td>0</td>\n",
       "      <td>0</td>\n",
       "      <td>0</td>\n",
       "      <td>0</td>\n",
       "      <td>0</td>\n",
       "      <td>0</td>\n",
       "      <td>0</td>\n",
       "      <td>0</td>\n",
       "      <td>0</td>\n",
       "      <td>0</td>\n",
       "    </tr>\n",
       "    <tr>\n",
       "      <th>2501</th>\n",
       "      <td>2</td>\n",
       "      <td>2013-09-24</td>\n",
       "      <td>91</td>\n",
       "      <td>52</td>\n",
       "      <td>72</td>\n",
       "      <td>11</td>\n",
       "      <td>48</td>\n",
       "      <td>54</td>\n",
       "      <td>NaN</td>\n",
       "      <td>NaN</td>\n",
       "      <td>...</td>\n",
       "      <td>0</td>\n",
       "      <td>0</td>\n",
       "      <td>0</td>\n",
       "      <td>0</td>\n",
       "      <td>0</td>\n",
       "      <td>0</td>\n",
       "      <td>0</td>\n",
       "      <td>0</td>\n",
       "      <td>0</td>\n",
       "      <td>0</td>\n",
       "    </tr>\n",
       "    <tr>\n",
       "      <th>2511</th>\n",
       "      <td>2</td>\n",
       "      <td>2013-09-29</td>\n",
       "      <td>84</td>\n",
       "      <td>53</td>\n",
       "      <td>69</td>\n",
       "      <td>10</td>\n",
       "      <td>48</td>\n",
       "      <td>54</td>\n",
       "      <td>NaN</td>\n",
       "      <td>NaN</td>\n",
       "      <td>...</td>\n",
       "      <td>0</td>\n",
       "      <td>0</td>\n",
       "      <td>0</td>\n",
       "      <td>1</td>\n",
       "      <td>0</td>\n",
       "      <td>0</td>\n",
       "      <td>0</td>\n",
       "      <td>0</td>\n",
       "      <td>0</td>\n",
       "      <td>0</td>\n",
       "    </tr>\n",
       "    <tr>\n",
       "      <th>2525</th>\n",
       "      <td>2</td>\n",
       "      <td>2013-10-06</td>\n",
       "      <td>76</td>\n",
       "      <td>48</td>\n",
       "      <td>62</td>\n",
       "      <td>6</td>\n",
       "      <td>44</td>\n",
       "      <td>50</td>\n",
       "      <td>NaN</td>\n",
       "      <td>NaN</td>\n",
       "      <td>...</td>\n",
       "      <td>0</td>\n",
       "      <td>0</td>\n",
       "      <td>0</td>\n",
       "      <td>1</td>\n",
       "      <td>0</td>\n",
       "      <td>0</td>\n",
       "      <td>0</td>\n",
       "      <td>0</td>\n",
       "      <td>0</td>\n",
       "      <td>0</td>\n",
       "    </tr>\n",
       "    <tr>\n",
       "      <th>2579</th>\n",
       "      <td>2</td>\n",
       "      <td>2014-05-02</td>\n",
       "      <td>80</td>\n",
       "      <td>47</td>\n",
       "      <td>64</td>\n",
       "      <td>10</td>\n",
       "      <td>43</td>\n",
       "      <td>47</td>\n",
       "      <td>NaN</td>\n",
       "      <td>NaN</td>\n",
       "      <td>...</td>\n",
       "      <td>0</td>\n",
       "      <td>0</td>\n",
       "      <td>0</td>\n",
       "      <td>1</td>\n",
       "      <td>0</td>\n",
       "      <td>0</td>\n",
       "      <td>0</td>\n",
       "      <td>0</td>\n",
       "      <td>0</td>\n",
       "      <td>0</td>\n",
       "    </tr>\n",
       "    <tr>\n",
       "      <th>2811</th>\n",
       "      <td>2</td>\n",
       "      <td>2014-08-26</td>\n",
       "      <td>86</td>\n",
       "      <td>49</td>\n",
       "      <td>68</td>\n",
       "      <td>-2</td>\n",
       "      <td>68</td>\n",
       "      <td>71</td>\n",
       "      <td>NaN</td>\n",
       "      <td>NaN</td>\n",
       "      <td>...</td>\n",
       "      <td>0</td>\n",
       "      <td>0</td>\n",
       "      <td>0</td>\n",
       "      <td>0</td>\n",
       "      <td>0</td>\n",
       "      <td>0</td>\n",
       "      <td>0</td>\n",
       "      <td>0</td>\n",
       "      <td>0</td>\n",
       "      <td>0</td>\n",
       "    </tr>\n",
       "  </tbody>\n",
       "</table>\n",
       "<p>11 rows × 40 columns</p>\n",
       "</div>"
      ],
      "text/plain": [
       "      Station CalendarDate  Tmax  Tmin  Tavg  Depart  DewPoint  WetBulb  Heat  \\\n",
       "7           2   2007-05-04    78    51    65      11        42       50   NaN   \n",
       "505         2   2008-07-08    86    46    66      -7        68       71   NaN   \n",
       "675         2   2008-10-01    62    46    54      -4        41       47   NaN   \n",
       "1637        2   2011-07-22   100    71    86      12        70       74   NaN   \n",
       "2067        2   2012-08-22    84    72    78       7        51       61   NaN   \n",
       "2211        2   2013-05-02    71    42    57       3        39       45   NaN   \n",
       "2501        2   2013-09-24    91    52    72      11        48       54   NaN   \n",
       "2511        2   2013-09-29    84    53    69      10        48       54   NaN   \n",
       "2525        2   2013-10-06    76    48    62       6        44       50   NaN   \n",
       "2579        2   2014-05-02    80    47    64      10        43       47   NaN   \n",
       "2811        2   2014-08-26    86    49    68      -2        68       71   NaN   \n",
       "\n",
       "      Cool  ... CodeSum_GR CodeSum_HZ CodeSum_MIFG  CodeSum_RA  CodeSum_SN  \\\n",
       "7      NaN  ...          0          0            0           0           0   \n",
       "505    NaN  ...          0          0            0           1           0   \n",
       "675    NaN  ...          0          0            0           0           0   \n",
       "1637   NaN  ...          0          0            0           0           0   \n",
       "2067   NaN  ...          0          0            0           0           0   \n",
       "2211   NaN  ...          0          0            0           0           0   \n",
       "2501   NaN  ...          0          0            0           0           0   \n",
       "2511   NaN  ...          0          0            0           1           0   \n",
       "2525   NaN  ...          0          0            0           1           0   \n",
       "2579   NaN  ...          0          0            0           1           0   \n",
       "2811   NaN  ...          0          0            0           0           0   \n",
       "\n",
       "      CodeSum_SQ  CodeSum_TS  CodeSum_TSRA  CodeSum_VCFG  CodeSum_VCTS  \n",
       "7              0           0             0             0             0  \n",
       "505            0           1             0             0             0  \n",
       "675            0           0             0             0             0  \n",
       "1637           0           1             1             0             0  \n",
       "2067           0           0             0             0             0  \n",
       "2211           0           0             0             0             0  \n",
       "2501           0           0             0             0             0  \n",
       "2511           0           0             0             0             0  \n",
       "2525           0           0             0             0             0  \n",
       "2579           0           0             0             0             0  \n",
       "2811           0           0             0             0             0  \n",
       "\n",
       "[11 rows x 40 columns]"
      ]
     },
     "execution_count": 196,
     "metadata": {},
     "output_type": "execute_result"
    }
   ],
   "source": [
    "weather_df[weather_df.Heat.isnull() | weather_df.Cool.isnull()]"
   ]
  },
  {
   "cell_type": "markdown",
   "metadata": {},
   "source": [
    "**Handling missing values in Heat, Cool**"
   ]
  },
  {
   "cell_type": "code",
   "execution_count": 197,
   "metadata": {},
   "outputs": [],
   "source": [
    "def fillna_with_values_heat_and_cool():\n",
    "    heat_indices = weather_df[weather_df['Heat'].isnull()].index\n",
    "    cool_indices = weather_df[weather_df['Cool'].isnull()].index\n",
    "    baseline = 65\n",
    "    \n",
    "    for heat_idx in heat_indices:\n",
    "        weather_df.loc[heat_idx, 'Heat'] = max(0, weather_df.loc[heat_idx, 'Tavg'] - baseline)\n",
    "        \n",
    "    for cool_idx in cool_indices:\n",
    "        weather_df.loc[cool_idx, 'Cool'] = max(0, baseline - weather_df.loc[cool_idx, 'Tavg'])"
   ]
  },
  {
   "cell_type": "code",
   "execution_count": 198,
   "metadata": {},
   "outputs": [],
   "source": [
    "fillna_with_values_heat_and_cool()"
   ]
  },
  {
   "cell_type": "markdown",
   "metadata": {},
   "source": [
    "**For the other columns with missing value, fill with data from other station**"
   ]
  },
  {
   "cell_type": "code",
   "execution_count": 199,
   "metadata": {},
   "outputs": [],
   "source": [
    "def fillna_with_values_from_station_1(col_name):\n",
    "    station_1_indices = weather_df.loc[\n",
    "          (weather_df['CalendarDate'].isin(list(set(weather_df.loc[weather_df[col_name].isnull(), 'CalendarDate'].values))))\n",
    "        & (weather_df['Station'] == 1)\n",
    "        & ~(weather_df[col_name].isnull())][[col_name]].index\n",
    "    \n",
    "    station_2_indices = weather_df.loc[\n",
    "          (weather_df['CalendarDate'].isin(list(set(weather_df.loc[weather_df[col_name].isnull(), 'CalendarDate'].values))))\n",
    "        & (weather_df['Station'] == 2)\n",
    "        & (weather_df[col_name].isnull())][[col_name]].index\n",
    "    \n",
    "    combined_indices = list(zip(station_1_indices, station_2_indices))\n",
    "    \n",
    "    for indices in combined_indices:\n",
    "        weather_df.loc[indices[1], col_name] = weather_df.loc[indices[0], col_name]\n",
    "    \n",
    "def fillna_with_values_from_station_2(col_name):\n",
    "    station_1_indices = weather_df.loc[\n",
    "          (weather_df['CalendarDate'].isin(list(set(weather_df.loc[weather_df[col_name].isnull(), 'CalendarDate'].values))))\n",
    "        & (weather_df['Station'] == 1)\n",
    "        & (weather_df[col_name].isnull())][[col_name]].index\n",
    "    \n",
    "    station_2_indices = weather_df.loc[\n",
    "          (weather_df['CalendarDate'].isin(list(set(weather_df.loc[weather_df[col_name].isnull(), 'CalendarDate'].values))))\n",
    "        & (weather_df['Station'] == 2)\n",
    "        & ~(weather_df[col_name].isnull())][[col_name]].index\n",
    "    \n",
    "    combined_indices = list(zip(station_1_indices, station_2_indices))\n",
    "    \n",
    "    for indices in combined_indices:\n",
    "        weather_df.loc[indices[0], col_name] = weather_df.loc[indices[1], col_name]\n",
    "        \n",
    "def fillna_with_values_from_other_station(col_name):\n",
    "    fillna_with_values_from_station_1(col_name)\n",
    "    fillna_with_values_from_station_2(col_name)"
   ]
  },
  {
   "cell_type": "code",
   "execution_count": 200,
   "metadata": {},
   "outputs": [
    {
     "name": "stdout",
     "output_type": "stream",
     "text": [
      "WetBulb\n",
      "PrecipTotal\n",
      "StnPressure\n",
      "SeaLevel\n",
      "AvgSpeed\n"
     ]
    }
   ],
   "source": [
    "for col_with_missing_values in weather_df.isnull().sum()[weather_df.isnull().sum() > 0].index:\n",
    "    print(col_with_missing_values)\n",
    "    fillna_with_values_from_other_station(col_with_missing_values)"
   ]
  },
  {
   "cell_type": "code",
   "execution_count": 201,
   "metadata": {},
   "outputs": [
    {
     "data": {
      "text/plain": [
       "Station         0\n",
       "CalendarDate    0\n",
       "Tmax            0\n",
       "Tmin            0\n",
       "Tavg            0\n",
       "Depart          0\n",
       "DewPoint        0\n",
       "WetBulb         0\n",
       "Heat            0\n",
       "Cool            0\n",
       "Sunrise         0\n",
       "Sunset          0\n",
       "CodeSum         0\n",
       "Depth           0\n",
       "SnowFall        0\n",
       "PrecipTotal     0\n",
       "StnPressure     2\n",
       "SeaLevel        0\n",
       "ResultSpeed     0\n",
       "ResultDir       0\n",
       "AvgSpeed        0\n",
       "Year            0\n",
       "Month           0\n",
       "Date            0\n",
       "CodeSum_BCFG    0\n",
       "CodeSum_BR      0\n",
       "CodeSum_DZ      0\n",
       "CodeSum_FG      0\n",
       "CodeSum_FG+     0\n",
       "CodeSum_FU      0\n",
       "CodeSum_GR      0\n",
       "CodeSum_HZ      0\n",
       "CodeSum_MIFG    0\n",
       "CodeSum_RA      0\n",
       "CodeSum_SN      0\n",
       "CodeSum_SQ      0\n",
       "CodeSum_TS      0\n",
       "CodeSum_TSRA    0\n",
       "CodeSum_VCFG    0\n",
       "CodeSum_VCTS    0\n",
       "dtype: int64"
      ]
     },
     "execution_count": 201,
     "metadata": {},
     "output_type": "execute_result"
    }
   ],
   "source": [
    "weather_df.isnull().sum()"
   ]
  },
  {
   "cell_type": "markdown",
   "metadata": {},
   "source": [
    "**Handling missing values in StnPressure, which does not have values in both Station 1 and Station 2 for a day**"
   ]
  },
  {
   "cell_type": "code",
   "execution_count": 202,
   "metadata": {},
   "outputs": [
    {
     "data": {
      "text/html": [
       "<div>\n",
       "<style scoped>\n",
       "    .dataframe tbody tr th:only-of-type {\n",
       "        vertical-align: middle;\n",
       "    }\n",
       "\n",
       "    .dataframe tbody tr th {\n",
       "        vertical-align: top;\n",
       "    }\n",
       "\n",
       "    .dataframe thead th {\n",
       "        text-align: right;\n",
       "    }\n",
       "</style>\n",
       "<table border=\"1\" class=\"dataframe\">\n",
       "  <thead>\n",
       "    <tr style=\"text-align: right;\">\n",
       "      <th></th>\n",
       "      <th>Station</th>\n",
       "      <th>CalendarDate</th>\n",
       "      <th>Tmax</th>\n",
       "      <th>Tmin</th>\n",
       "      <th>Tavg</th>\n",
       "      <th>Depart</th>\n",
       "      <th>DewPoint</th>\n",
       "      <th>WetBulb</th>\n",
       "      <th>Heat</th>\n",
       "      <th>Cool</th>\n",
       "      <th>...</th>\n",
       "      <th>CodeSum_GR</th>\n",
       "      <th>CodeSum_HZ</th>\n",
       "      <th>CodeSum_MIFG</th>\n",
       "      <th>CodeSum_RA</th>\n",
       "      <th>CodeSum_SN</th>\n",
       "      <th>CodeSum_SQ</th>\n",
       "      <th>CodeSum_TS</th>\n",
       "      <th>CodeSum_TSRA</th>\n",
       "      <th>CodeSum_VCFG</th>\n",
       "      <th>CodeSum_VCTS</th>\n",
       "    </tr>\n",
       "  </thead>\n",
       "  <tbody>\n",
       "    <tr>\n",
       "      <th>2410</th>\n",
       "      <td>1</td>\n",
       "      <td>2013-08-10</td>\n",
       "      <td>81</td>\n",
       "      <td>64</td>\n",
       "      <td>73</td>\n",
       "      <td>0</td>\n",
       "      <td>57</td>\n",
       "      <td>63</td>\n",
       "      <td>0</td>\n",
       "      <td>8</td>\n",
       "      <td>...</td>\n",
       "      <td>0</td>\n",
       "      <td>0</td>\n",
       "      <td>0</td>\n",
       "      <td>0</td>\n",
       "      <td>0</td>\n",
       "      <td>0</td>\n",
       "      <td>0</td>\n",
       "      <td>0</td>\n",
       "      <td>0</td>\n",
       "      <td>0</td>\n",
       "    </tr>\n",
       "    <tr>\n",
       "      <th>2411</th>\n",
       "      <td>2</td>\n",
       "      <td>2013-08-10</td>\n",
       "      <td>81</td>\n",
       "      <td>68</td>\n",
       "      <td>75</td>\n",
       "      <td>2</td>\n",
       "      <td>55</td>\n",
       "      <td>63</td>\n",
       "      <td>0</td>\n",
       "      <td>10</td>\n",
       "      <td>...</td>\n",
       "      <td>0</td>\n",
       "      <td>0</td>\n",
       "      <td>0</td>\n",
       "      <td>0</td>\n",
       "      <td>0</td>\n",
       "      <td>0</td>\n",
       "      <td>0</td>\n",
       "      <td>0</td>\n",
       "      <td>0</td>\n",
       "      <td>0</td>\n",
       "    </tr>\n",
       "  </tbody>\n",
       "</table>\n",
       "<p>2 rows × 40 columns</p>\n",
       "</div>"
      ],
      "text/plain": [
       "      Station CalendarDate  Tmax  Tmin  Tavg  Depart  DewPoint  WetBulb  Heat  \\\n",
       "2410        1   2013-08-10    81    64    73       0        57       63     0   \n",
       "2411        2   2013-08-10    81    68    75       2        55       63     0   \n",
       "\n",
       "      Cool  ... CodeSum_GR CodeSum_HZ CodeSum_MIFG  CodeSum_RA  CodeSum_SN  \\\n",
       "2410     8  ...          0          0            0           0           0   \n",
       "2411    10  ...          0          0            0           0           0   \n",
       "\n",
       "      CodeSum_SQ  CodeSum_TS  CodeSum_TSRA  CodeSum_VCFG  CodeSum_VCTS  \n",
       "2410           0           0             0             0             0  \n",
       "2411           0           0             0             0             0  \n",
       "\n",
       "[2 rows x 40 columns]"
      ]
     },
     "execution_count": 202,
     "metadata": {},
     "output_type": "execute_result"
    }
   ],
   "source": [
    "weather_df[weather_df['StnPressure'].isnull()]"
   ]
  },
  {
   "cell_type": "code",
   "execution_count": 203,
   "metadata": {},
   "outputs": [
    {
     "name": "stdout",
     "output_type": "stream",
     "text": [
      "      Station CalendarDate  Tmax  Tmin  Tavg  Depart  DewPoint  WetBulb  Heat  \\\n",
      "2405        2   2013-08-07    91    70    81       8        67       71     0   \n",
      "2406        1   2013-08-08    78    65    72      -1        56       62     0   \n",
      "2407        2   2013-08-08    79    69    74       1        55       62     0   \n",
      "2408        1   2013-08-09    82    59    71      -2        60       65     0   \n",
      "2409        2   2013-08-09    84    62    73       0        58       65     0   \n",
      "2410        1   2013-08-10    81    64    73       0        57       63     0   \n",
      "2411        2   2013-08-10    81    68    75       2        55       63     0   \n",
      "2412        1   2013-08-11    81    60    71      -2        61       64     0   \n",
      "2413        2   2013-08-11    84    63    74       1        57       64     0   \n",
      "2414        1   2013-08-12    82    67    75       2        65       68     0   \n",
      "\n",
      "      Cool             Sunrise              Sunset  ... CodeSum_FG+  \\\n",
      "2405    16 2013-08-07 04:51:00 2013-08-07 19:04:00  ...           0   \n",
      "2406     7 2013-08-08 04:52:00 2013-08-08 19:03:00  ...           0   \n",
      "2407     9 2013-08-08 04:52:00 2013-08-08 19:03:00  ...           0   \n",
      "2408     6 2013-08-09 04:53:00 2013-08-09 19:02:00  ...           0   \n",
      "2409     8 2013-08-09 04:53:00 2013-08-09 19:02:00  ...           0   \n",
      "2410     8 2013-08-10 04:54:00 2013-08-10 19:00:00  ...           0   \n",
      "2411    10 2013-08-10 04:54:00 2013-08-10 19:00:00  ...           0   \n",
      "2412     6 2013-08-11 04:55:00 2013-08-11 18:59:00  ...           0   \n",
      "2413     9 2013-08-11 04:55:00 2013-08-11 18:59:00  ...           0   \n",
      "2414    10 2013-08-12 04:56:00 2013-08-12 18:58:00  ...           0   \n",
      "\n",
      "      CodeSum_FU  CodeSum_GR  CodeSum_HZ  CodeSum_MIFG  CodeSum_RA  \\\n",
      "2405           0           0           0             0           0   \n",
      "2406           0           0           0             0           0   \n",
      "2407           0           0           0             0           0   \n",
      "2408           0           0           0             0           0   \n",
      "2409           0           0           0             0           0   \n",
      "2410           0           0           0             0           0   \n",
      "2411           0           0           0             0           0   \n",
      "2412           0           0           0             0           1   \n",
      "2413           0           0           0             0           0   \n",
      "2414           0           0           0             0           1   \n",
      "\n",
      "      CodeSum_SN  CodeSum_SQ  CodeSum_TS  CodeSum_TSRA  CodeSum_VCFG  \\\n",
      "2405           0           0           0             0             0   \n",
      "2406           0           0           0             0             0   \n",
      "2407           0           0           0             0             0   \n",
      "2408           0           0           0             0             0   \n",
      "2409           0           0           0             0             0   \n",
      "2410           0           0           0             0             0   \n",
      "2411           0           0           0             0             0   \n",
      "2412           0           0           0             0             0   \n",
      "2413           0           0           0             0             0   \n",
      "2414           0           0           0             0             0   \n",
      "\n",
      "      CodeSum_VCTS  \n",
      "2405             0  \n",
      "2406             0  \n",
      "2407             0  \n",
      "2408             0  \n",
      "2409             0  \n",
      "2410             0  \n",
      "2411             0  \n",
      "2412             0  \n",
      "2413             0  \n",
      "2414             0  \n",
      "\n",
      "[10 rows x 40 columns]\n"
     ]
    }
   ],
   "source": [
    "with pd.option_context('display.max_rows', 500, 'display.max_columns', 24):\n",
    "    print(weather_df.loc[list(range(2405, 2415, 1)), :])"
   ]
  },
  {
   "cell_type": "code",
   "execution_count": 204,
   "metadata": {},
   "outputs": [],
   "source": [
    "# Handle null values for StnPressure using fill-forward as SeaLevel is roughly around the same region\n",
    "# as that of the previous few dates\n",
    "\n",
    "weather_df['StnPressure'] = weather_df['StnPressure'].fillna(method='ffill')"
   ]
  },
  {
   "cell_type": "code",
   "execution_count": 205,
   "metadata": {},
   "outputs": [
    {
     "data": {
      "text/plain": [
       "(2944, 40)"
      ]
     },
     "execution_count": 205,
     "metadata": {},
     "output_type": "execute_result"
    }
   ],
   "source": [
    "weather_df.shape"
   ]
  },
  {
   "cell_type": "code",
   "execution_count": 206,
   "metadata": {
    "pycharm": {
     "name": "#%%\n"
    }
   },
   "outputs": [
    {
     "data": {
      "text/plain": [
       "Station                  int64\n",
       "CalendarDate    datetime64[ns]\n",
       "Tmax                     int64\n",
       "Tmin                     int64\n",
       "Tavg                     Int64\n",
       "Depart                   Int64\n",
       "DewPoint                 int64\n",
       "WetBulb                  Int64\n",
       "Heat                     Int64\n",
       "Cool                     Int64\n",
       "Sunrise         datetime64[ns]\n",
       "Sunset          datetime64[ns]\n",
       "CodeSum                 object\n",
       "Depth                    Int64\n",
       "SnowFall               float64\n",
       "PrecipTotal            float64\n",
       "StnPressure            float64\n",
       "SeaLevel               float64\n",
       "ResultSpeed            float64\n",
       "ResultDir                int64\n",
       "AvgSpeed               float64\n",
       "Year                     int64\n",
       "Month                    int64\n",
       "Date                     int64\n",
       "CodeSum_BCFG             int64\n",
       "CodeSum_BR               int64\n",
       "CodeSum_DZ               int64\n",
       "CodeSum_FG               int64\n",
       "CodeSum_FG+              int64\n",
       "CodeSum_FU               int64\n",
       "CodeSum_GR               int64\n",
       "CodeSum_HZ               int64\n",
       "CodeSum_MIFG             int64\n",
       "CodeSum_RA               int64\n",
       "CodeSum_SN               int64\n",
       "CodeSum_SQ               int64\n",
       "CodeSum_TS               int64\n",
       "CodeSum_TSRA             int64\n",
       "CodeSum_VCFG             int64\n",
       "CodeSum_VCTS             int64\n",
       "dtype: object"
      ]
     },
     "execution_count": 206,
     "metadata": {},
     "output_type": "execute_result"
    }
   ],
   "source": [
    "weather_df.dtypes"
   ]
  },
  {
   "cell_type": "markdown",
   "metadata": {},
   "source": [
    "## DaylightDuration"
   ]
  },
  {
   "cell_type": "code",
   "execution_count": 207,
   "metadata": {},
   "outputs": [],
   "source": [
    "weather_df['DaylightDurationMinutes'] = weather_df['Sunset'] - weather_df['Sunrise']"
   ]
  },
  {
   "cell_type": "code",
   "execution_count": 208,
   "metadata": {},
   "outputs": [],
   "source": [
    "def convert_timedelta_to_minutes(td):\n",
    "    return td.seconds // 60\n",
    "\n",
    "weather_df['DaylightDurationMinutes'] = weather_df['DaylightDurationMinutes'].map(convert_timedelta_to_minutes)"
   ]
  },
  {
   "cell_type": "code",
   "execution_count": 209,
   "metadata": {
    "pycharm": {
     "name": "#%%\n"
    },
    "scrolled": false
   },
   "outputs": [
    {
     "data": {
      "text/html": [
       "<div>\n",
       "<style scoped>\n",
       "    .dataframe tbody tr th:only-of-type {\n",
       "        vertical-align: middle;\n",
       "    }\n",
       "\n",
       "    .dataframe tbody tr th {\n",
       "        vertical-align: top;\n",
       "    }\n",
       "\n",
       "    .dataframe thead th {\n",
       "        text-align: right;\n",
       "    }\n",
       "</style>\n",
       "<table border=\"1\" class=\"dataframe\">\n",
       "  <thead>\n",
       "    <tr style=\"text-align: right;\">\n",
       "      <th></th>\n",
       "      <th>Station</th>\n",
       "      <th>Tmax</th>\n",
       "      <th>Tmin</th>\n",
       "      <th>Tavg</th>\n",
       "      <th>Depart</th>\n",
       "      <th>DewPoint</th>\n",
       "      <th>WetBulb</th>\n",
       "      <th>Heat</th>\n",
       "      <th>Cool</th>\n",
       "      <th>Depth</th>\n",
       "      <th>...</th>\n",
       "      <th>CodeSum_HZ</th>\n",
       "      <th>CodeSum_MIFG</th>\n",
       "      <th>CodeSum_RA</th>\n",
       "      <th>CodeSum_SN</th>\n",
       "      <th>CodeSum_SQ</th>\n",
       "      <th>CodeSum_TS</th>\n",
       "      <th>CodeSum_TSRA</th>\n",
       "      <th>CodeSum_VCFG</th>\n",
       "      <th>CodeSum_VCTS</th>\n",
       "      <th>DaylightDurationMinutes</th>\n",
       "    </tr>\n",
       "  </thead>\n",
       "  <tbody>\n",
       "    <tr>\n",
       "      <th>count</th>\n",
       "      <td>2944.000000</td>\n",
       "      <td>2944.000000</td>\n",
       "      <td>2944.000000</td>\n",
       "      <td>2944.000000</td>\n",
       "      <td>2944.000000</td>\n",
       "      <td>2944.000000</td>\n",
       "      <td>2944.000000</td>\n",
       "      <td>2944.000000</td>\n",
       "      <td>2944.000000</td>\n",
       "      <td>2944.0</td>\n",
       "      <td>...</td>\n",
       "      <td>2944.000000</td>\n",
       "      <td>2944.000000</td>\n",
       "      <td>2944.000000</td>\n",
       "      <td>2944.000000</td>\n",
       "      <td>2944.000000</td>\n",
       "      <td>2944.000000</td>\n",
       "      <td>2944.000000</td>\n",
       "      <td>2944.000000</td>\n",
       "      <td>2944.000000</td>\n",
       "      <td>2944.000000</td>\n",
       "    </tr>\n",
       "    <tr>\n",
       "      <th>mean</th>\n",
       "      <td>1.500000</td>\n",
       "      <td>76.166101</td>\n",
       "      <td>57.810462</td>\n",
       "      <td>67.240489</td>\n",
       "      <td>2.588315</td>\n",
       "      <td>53.457880</td>\n",
       "      <td>59.319293</td>\n",
       "      <td>3.411005</td>\n",
       "      <td>5.633832</td>\n",
       "      <td>0.0</td>\n",
       "      <td>...</td>\n",
       "      <td>0.089334</td>\n",
       "      <td>0.001019</td>\n",
       "      <td>0.317595</td>\n",
       "      <td>0.002038</td>\n",
       "      <td>0.001019</td>\n",
       "      <td>0.034647</td>\n",
       "      <td>0.103601</td>\n",
       "      <td>0.001359</td>\n",
       "      <td>0.006454</td>\n",
       "      <td>820.179348</td>\n",
       "    </tr>\n",
       "    <tr>\n",
       "      <th>std</th>\n",
       "      <td>0.500085</td>\n",
       "      <td>11.461970</td>\n",
       "      <td>10.381939</td>\n",
       "      <td>10.538922</td>\n",
       "      <td>6.915809</td>\n",
       "      <td>10.675181</td>\n",
       "      <td>9.283540</td>\n",
       "      <td>5.955740</td>\n",
       "      <td>6.101622</td>\n",
       "      <td>0.0</td>\n",
       "      <td>...</td>\n",
       "      <td>0.285274</td>\n",
       "      <td>0.031911</td>\n",
       "      <td>0.465620</td>\n",
       "      <td>0.045106</td>\n",
       "      <td>0.031911</td>\n",
       "      <td>0.182914</td>\n",
       "      <td>0.304793</td>\n",
       "      <td>0.036842</td>\n",
       "      <td>0.080090</td>\n",
       "      <td>89.377021</td>\n",
       "    </tr>\n",
       "    <tr>\n",
       "      <th>min</th>\n",
       "      <td>1.000000</td>\n",
       "      <td>41.000000</td>\n",
       "      <td>29.000000</td>\n",
       "      <td>36.000000</td>\n",
       "      <td>-17.000000</td>\n",
       "      <td>22.000000</td>\n",
       "      <td>32.000000</td>\n",
       "      <td>0.000000</td>\n",
       "      <td>0.000000</td>\n",
       "      <td>0.0</td>\n",
       "      <td>...</td>\n",
       "      <td>0.000000</td>\n",
       "      <td>0.000000</td>\n",
       "      <td>0.000000</td>\n",
       "      <td>0.000000</td>\n",
       "      <td>0.000000</td>\n",
       "      <td>0.000000</td>\n",
       "      <td>0.000000</td>\n",
       "      <td>0.000000</td>\n",
       "      <td>0.000000</td>\n",
       "      <td>624.000000</td>\n",
       "    </tr>\n",
       "    <tr>\n",
       "      <th>25%</th>\n",
       "      <td>1.000000</td>\n",
       "      <td>69.000000</td>\n",
       "      <td>50.000000</td>\n",
       "      <td>60.000000</td>\n",
       "      <td>-2.000000</td>\n",
       "      <td>46.000000</td>\n",
       "      <td>53.000000</td>\n",
       "      <td>0.000000</td>\n",
       "      <td>0.000000</td>\n",
       "      <td>0.0</td>\n",
       "      <td>...</td>\n",
       "      <td>0.000000</td>\n",
       "      <td>0.000000</td>\n",
       "      <td>0.000000</td>\n",
       "      <td>0.000000</td>\n",
       "      <td>0.000000</td>\n",
       "      <td>0.000000</td>\n",
       "      <td>0.000000</td>\n",
       "      <td>0.000000</td>\n",
       "      <td>0.000000</td>\n",
       "      <td>751.000000</td>\n",
       "    </tr>\n",
       "    <tr>\n",
       "      <th>50%</th>\n",
       "      <td>1.500000</td>\n",
       "      <td>78.000000</td>\n",
       "      <td>59.000000</td>\n",
       "      <td>69.000000</td>\n",
       "      <td>2.000000</td>\n",
       "      <td>54.000000</td>\n",
       "      <td>61.000000</td>\n",
       "      <td>0.000000</td>\n",
       "      <td>4.000000</td>\n",
       "      <td>0.0</td>\n",
       "      <td>...</td>\n",
       "      <td>0.000000</td>\n",
       "      <td>0.000000</td>\n",
       "      <td>0.000000</td>\n",
       "      <td>0.000000</td>\n",
       "      <td>0.000000</td>\n",
       "      <td>0.000000</td>\n",
       "      <td>0.000000</td>\n",
       "      <td>0.000000</td>\n",
       "      <td>0.000000</td>\n",
       "      <td>854.000000</td>\n",
       "    </tr>\n",
       "    <tr>\n",
       "      <th>75%</th>\n",
       "      <td>2.000000</td>\n",
       "      <td>85.000000</td>\n",
       "      <td>66.000000</td>\n",
       "      <td>75.000000</td>\n",
       "      <td>7.000000</td>\n",
       "      <td>62.000000</td>\n",
       "      <td>67.000000</td>\n",
       "      <td>5.000000</td>\n",
       "      <td>10.000000</td>\n",
       "      <td>0.0</td>\n",
       "      <td>...</td>\n",
       "      <td>0.000000</td>\n",
       "      <td>0.000000</td>\n",
       "      <td>1.000000</td>\n",
       "      <td>0.000000</td>\n",
       "      <td>0.000000</td>\n",
       "      <td>0.000000</td>\n",
       "      <td>0.000000</td>\n",
       "      <td>0.000000</td>\n",
       "      <td>0.000000</td>\n",
       "      <td>897.250000</td>\n",
       "    </tr>\n",
       "    <tr>\n",
       "      <th>max</th>\n",
       "      <td>2.000000</td>\n",
       "      <td>104.000000</td>\n",
       "      <td>83.000000</td>\n",
       "      <td>94.000000</td>\n",
       "      <td>25.000000</td>\n",
       "      <td>75.000000</td>\n",
       "      <td>78.000000</td>\n",
       "      <td>29.000000</td>\n",
       "      <td>29.000000</td>\n",
       "      <td>0.0</td>\n",
       "      <td>...</td>\n",
       "      <td>1.000000</td>\n",
       "      <td>1.000000</td>\n",
       "      <td>1.000000</td>\n",
       "      <td>1.000000</td>\n",
       "      <td>1.000000</td>\n",
       "      <td>1.000000</td>\n",
       "      <td>1.000000</td>\n",
       "      <td>1.000000</td>\n",
       "      <td>1.000000</td>\n",
       "      <td>914.000000</td>\n",
       "    </tr>\n",
       "  </tbody>\n",
       "</table>\n",
       "<p>8 rows × 37 columns</p>\n",
       "</div>"
      ],
      "text/plain": [
       "           Station         Tmax         Tmin         Tavg       Depart  \\\n",
       "count  2944.000000  2944.000000  2944.000000  2944.000000  2944.000000   \n",
       "mean      1.500000    76.166101    57.810462    67.240489     2.588315   \n",
       "std       0.500085    11.461970    10.381939    10.538922     6.915809   \n",
       "min       1.000000    41.000000    29.000000    36.000000   -17.000000   \n",
       "25%       1.000000    69.000000    50.000000    60.000000    -2.000000   \n",
       "50%       1.500000    78.000000    59.000000    69.000000     2.000000   \n",
       "75%       2.000000    85.000000    66.000000    75.000000     7.000000   \n",
       "max       2.000000   104.000000    83.000000    94.000000    25.000000   \n",
       "\n",
       "          DewPoint      WetBulb         Heat         Cool   Depth  ...  \\\n",
       "count  2944.000000  2944.000000  2944.000000  2944.000000  2944.0  ...   \n",
       "mean     53.457880    59.319293     3.411005     5.633832     0.0  ...   \n",
       "std      10.675181     9.283540     5.955740     6.101622     0.0  ...   \n",
       "min      22.000000    32.000000     0.000000     0.000000     0.0  ...   \n",
       "25%      46.000000    53.000000     0.000000     0.000000     0.0  ...   \n",
       "50%      54.000000    61.000000     0.000000     4.000000     0.0  ...   \n",
       "75%      62.000000    67.000000     5.000000    10.000000     0.0  ...   \n",
       "max      75.000000    78.000000    29.000000    29.000000     0.0  ...   \n",
       "\n",
       "        CodeSum_HZ  CodeSum_MIFG   CodeSum_RA   CodeSum_SN   CodeSum_SQ  \\\n",
       "count  2944.000000   2944.000000  2944.000000  2944.000000  2944.000000   \n",
       "mean      0.089334      0.001019     0.317595     0.002038     0.001019   \n",
       "std       0.285274      0.031911     0.465620     0.045106     0.031911   \n",
       "min       0.000000      0.000000     0.000000     0.000000     0.000000   \n",
       "25%       0.000000      0.000000     0.000000     0.000000     0.000000   \n",
       "50%       0.000000      0.000000     0.000000     0.000000     0.000000   \n",
       "75%       0.000000      0.000000     1.000000     0.000000     0.000000   \n",
       "max       1.000000      1.000000     1.000000     1.000000     1.000000   \n",
       "\n",
       "        CodeSum_TS  CodeSum_TSRA  CodeSum_VCFG  CodeSum_VCTS  \\\n",
       "count  2944.000000   2944.000000   2944.000000   2944.000000   \n",
       "mean      0.034647      0.103601      0.001359      0.006454   \n",
       "std       0.182914      0.304793      0.036842      0.080090   \n",
       "min       0.000000      0.000000      0.000000      0.000000   \n",
       "25%       0.000000      0.000000      0.000000      0.000000   \n",
       "50%       0.000000      0.000000      0.000000      0.000000   \n",
       "75%       0.000000      0.000000      0.000000      0.000000   \n",
       "max       1.000000      1.000000      1.000000      1.000000   \n",
       "\n",
       "       DaylightDurationMinutes  \n",
       "count              2944.000000  \n",
       "mean                820.179348  \n",
       "std                  89.377021  \n",
       "min                 624.000000  \n",
       "25%                 751.000000  \n",
       "50%                 854.000000  \n",
       "75%                 897.250000  \n",
       "max                 914.000000  \n",
       "\n",
       "[8 rows x 37 columns]"
      ]
     },
     "execution_count": 209,
     "metadata": {},
     "output_type": "execute_result"
    }
   ],
   "source": [
    "weather_df.describe()"
   ]
  },
  {
   "cell_type": "code",
   "execution_count": 210,
   "metadata": {},
   "outputs": [],
   "source": [
    "weather_df.to_csv('../data/weather_cleaned.csv', index=False)"
   ]
  },
  {
   "cell_type": "code",
   "execution_count": 211,
   "metadata": {},
   "outputs": [],
   "source": [
    "# weather_df['DaylightDuration'] / np.timedelta64(1, 'h')"
   ]
  },
  {
   "cell_type": "code",
   "execution_count": 212,
   "metadata": {},
   "outputs": [],
   "source": [
    "# def days_hours_minutes(td):\n",
    "#     return td.days, td.seconds//3600, (td.seconds//60)%60"
   ]
  },
  {
   "cell_type": "code",
   "execution_count": 213,
   "metadata": {},
   "outputs": [],
   "source": [
    "# weather_df['DaylightDuration'].map(days_hours_minutes)"
   ]
  },
  {
   "cell_type": "markdown",
   "metadata": {},
   "source": [
    "## Pre-processing needed when reading in weather_cleaned.csv"
   ]
  },
  {
   "cell_type": "code",
   "execution_count": null,
   "metadata": {},
   "outputs": [],
   "source": [
    "def get_dataframe_with_converted_datetime_formats(df):\n",
    "    \n",
    "    df['CalendarDate'] = pd.to_datetime(df['CalendarDate'])\n",
    "    df['Sunrise'] = pd.to_datetime(df['Sunrise'])\n",
    "    df['Sunset'] = pd.to_datetime(df['Sunset'])\n",
    "    \n",
    "    return df"
   ]
  },
  {
   "cell_type": "markdown",
   "metadata": {},
   "source": [
    "**Converted Sunrise, Sunset to datetime**  \n",
    "**Convert Int64 to int64?**  \n",
    "**Count vectorized CodeSum?**"
   ]
  },
  {
   "cell_type": "markdown",
   "metadata": {},
   "source": [
    "## Observations\n",
    "---\n",
    "\n",
    "- Station 2 has missing data for the columns Depart, Sunrise, Sunset, Depth, SnowFall  \n",
    "- Station 1 and 2 has missing data for the column Water1"
   ]
  },
  {
   "cell_type": "code",
   "execution_count": null,
   "metadata": {},
   "outputs": [],
   "source": [
    "date_station_counts = weather_df.groupby(['CalendarDate'])['Station'].count()\n",
    "date_station_counts.head()"
   ]
  },
  {
   "cell_type": "markdown",
   "metadata": {},
   "source": [
    "---"
   ]
  },
  {
   "cell_type": "markdown",
   "metadata": {},
   "source": [
    "**Test on WetBulb column**"
   ]
  },
  {
   "cell_type": "code",
   "execution_count": null,
   "metadata": {},
   "outputs": [],
   "source": [
    "# calendardates_with_missing_wetbulb_values = list(set(weather_df.loc[weather_df['WetBulb'].isnull(), 'CalendarDate'].values))\n",
    "# weather_df.loc[weather_df['CalendarDate'].isin(calendardates_with_missing_wetbulb_values)]"
   ]
  },
  {
   "cell_type": "code",
   "execution_count": null,
   "metadata": {},
   "outputs": [],
   "source": [
    "# station_1 = weather_df.loc[\n",
    "#       (weather_df['CalendarDate'].isin(list(set(weather_df.loc[weather_df['WetBulb'].isnull(), 'CalendarDate'].values))))\n",
    "#     & (weather_df['Station'] == 1)\n",
    "#     & (weather_df['WetBulb'].isnull())][['WetBulb']]\n",
    "\n",
    "# station_1"
   ]
  },
  {
   "cell_type": "code",
   "execution_count": null,
   "metadata": {},
   "outputs": [],
   "source": [
    "# station_2 = weather_df.loc[\n",
    "#   (weather_df['CalendarDate'].isin(list(set(weather_df.loc[weather_df['WetBulb'].isnull(), 'CalendarDate'].values))))\n",
    "# & (weather_df['Station'] == 2)\n",
    "# & ~(weather_df['WetBulb'].isnull())][['WetBulb']]\n",
    "\n",
    "# station_2"
   ]
  },
  {
   "cell_type": "code",
   "execution_count": null,
   "metadata": {},
   "outputs": [],
   "source": [
    "# weather_df.loc[(weather_df['WetBulb'].isnull()), \n",
    "#                ['CalendarDate', 'WetBulb', 'Station']]"
   ]
  },
  {
   "cell_type": "code",
   "execution_count": null,
   "metadata": {},
   "outputs": [],
   "source": [
    "# fillna_with_values_from_other_station('WetBulb')\n",
    "# weather_df.loc[weather_df['CalendarDate'].isin(calendardates_with_missing_wetbulb_values)]"
   ]
  }
 ],
 "metadata": {
  "kernelspec": {
   "display_name": "Python 3",
   "language": "python",
   "name": "python3"
  },
  "language_info": {
   "codemirror_mode": {
    "name": "ipython",
    "version": 3
   },
   "file_extension": ".py",
   "mimetype": "text/x-python",
   "name": "python",
   "nbconvert_exporter": "python",
   "pygments_lexer": "ipython3",
   "version": "3.7.4"
  },
  "pycharm": {
   "stem_cell": {
    "cell_type": "raw",
    "metadata": {
     "collapsed": false
    },
    "source": []
   }
  }
 },
 "nbformat": 4,
 "nbformat_minor": 1
}
