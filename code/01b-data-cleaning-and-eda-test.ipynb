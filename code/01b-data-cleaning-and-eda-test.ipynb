{
 "cells": [
  {
   "cell_type": "code",
   "execution_count": 1,
   "metadata": {},
   "outputs": [],
   "source": [
    "import pandas as pd\n",
    "import numpy as np\n",
    "import matplotlib.pyplot as plt\n",
    "import seaborn as sns\n",
    "%matplotlib inline"
   ]
  },
  {
   "cell_type": "code",
   "execution_count": 2,
   "metadata": {},
   "outputs": [
    {
     "data": {
      "text/plain": [
       "((10506, 12), (116293, 11))"
      ]
     },
     "execution_count": 2,
     "metadata": {},
     "output_type": "execute_result"
    }
   ],
   "source": [
    "test = pd.read_csv('../data/test.csv')\n",
    "train = pd.read_csv('../data/train.csv')\n",
    "train.shape, test.shape"
   ]
  },
  {
   "cell_type": "markdown",
   "metadata": {},
   "source": [
    "## Summary\n",
    "* The number of rows in test dataset is about 11 times of train data.\n",
    "* Test data doesn't have NumMosquitos, so we can't use this feature in our model !!!\n",
    "* column 'Data' is an Object, need to convert to time\n",
    "* Unique species 'UNSPECIFIED CULEX' in test data accounts for ~ 1/8 of the population \n",
    "* Test data presents unique addresses, they account for 8.5% of the population"
   ]
  },
  {
   "cell_type": "code",
   "execution_count": 3,
   "metadata": {},
   "outputs": [
    {
     "data": {
      "text/html": [
       "<div>\n",
       "<style scoped>\n",
       "    .dataframe tbody tr th:only-of-type {\n",
       "        vertical-align: middle;\n",
       "    }\n",
       "\n",
       "    .dataframe tbody tr th {\n",
       "        vertical-align: top;\n",
       "    }\n",
       "\n",
       "    .dataframe thead th {\n",
       "        text-align: right;\n",
       "    }\n",
       "</style>\n",
       "<table border=\"1\" class=\"dataframe\">\n",
       "  <thead>\n",
       "    <tr style=\"text-align: right;\">\n",
       "      <th></th>\n",
       "      <th>Id</th>\n",
       "      <th>Date</th>\n",
       "      <th>Address</th>\n",
       "      <th>Species</th>\n",
       "      <th>Block</th>\n",
       "      <th>Street</th>\n",
       "      <th>Trap</th>\n",
       "      <th>AddressNumberAndStreet</th>\n",
       "      <th>Latitude</th>\n",
       "      <th>Longitude</th>\n",
       "      <th>AddressAccuracy</th>\n",
       "    </tr>\n",
       "  </thead>\n",
       "  <tbody>\n",
       "    <tr>\n",
       "      <td>0</td>\n",
       "      <td>1</td>\n",
       "      <td>2008-06-11</td>\n",
       "      <td>4100 North Oak Park Avenue, Chicago, IL 60634,...</td>\n",
       "      <td>CULEX PIPIENS/RESTUANS</td>\n",
       "      <td>41</td>\n",
       "      <td>N OAK PARK AVE</td>\n",
       "      <td>T002</td>\n",
       "      <td>4100  N OAK PARK AVE, Chicago, IL</td>\n",
       "      <td>41.95469</td>\n",
       "      <td>-87.800991</td>\n",
       "      <td>9</td>\n",
       "    </tr>\n",
       "    <tr>\n",
       "      <td>1</td>\n",
       "      <td>2</td>\n",
       "      <td>2008-06-11</td>\n",
       "      <td>4100 North Oak Park Avenue, Chicago, IL 60634,...</td>\n",
       "      <td>CULEX RESTUANS</td>\n",
       "      <td>41</td>\n",
       "      <td>N OAK PARK AVE</td>\n",
       "      <td>T002</td>\n",
       "      <td>4100  N OAK PARK AVE, Chicago, IL</td>\n",
       "      <td>41.95469</td>\n",
       "      <td>-87.800991</td>\n",
       "      <td>9</td>\n",
       "    </tr>\n",
       "    <tr>\n",
       "      <td>2</td>\n",
       "      <td>3</td>\n",
       "      <td>2008-06-11</td>\n",
       "      <td>4100 North Oak Park Avenue, Chicago, IL 60634,...</td>\n",
       "      <td>CULEX PIPIENS</td>\n",
       "      <td>41</td>\n",
       "      <td>N OAK PARK AVE</td>\n",
       "      <td>T002</td>\n",
       "      <td>4100  N OAK PARK AVE, Chicago, IL</td>\n",
       "      <td>41.95469</td>\n",
       "      <td>-87.800991</td>\n",
       "      <td>9</td>\n",
       "    </tr>\n",
       "    <tr>\n",
       "      <td>3</td>\n",
       "      <td>4</td>\n",
       "      <td>2008-06-11</td>\n",
       "      <td>4100 North Oak Park Avenue, Chicago, IL 60634,...</td>\n",
       "      <td>CULEX SALINARIUS</td>\n",
       "      <td>41</td>\n",
       "      <td>N OAK PARK AVE</td>\n",
       "      <td>T002</td>\n",
       "      <td>4100  N OAK PARK AVE, Chicago, IL</td>\n",
       "      <td>41.95469</td>\n",
       "      <td>-87.800991</td>\n",
       "      <td>9</td>\n",
       "    </tr>\n",
       "    <tr>\n",
       "      <td>4</td>\n",
       "      <td>5</td>\n",
       "      <td>2008-06-11</td>\n",
       "      <td>4100 North Oak Park Avenue, Chicago, IL 60634,...</td>\n",
       "      <td>CULEX TERRITANS</td>\n",
       "      <td>41</td>\n",
       "      <td>N OAK PARK AVE</td>\n",
       "      <td>T002</td>\n",
       "      <td>4100  N OAK PARK AVE, Chicago, IL</td>\n",
       "      <td>41.95469</td>\n",
       "      <td>-87.800991</td>\n",
       "      <td>9</td>\n",
       "    </tr>\n",
       "  </tbody>\n",
       "</table>\n",
       "</div>"
      ],
      "text/plain": [
       "   Id        Date                                            Address  \\\n",
       "0   1  2008-06-11  4100 North Oak Park Avenue, Chicago, IL 60634,...   \n",
       "1   2  2008-06-11  4100 North Oak Park Avenue, Chicago, IL 60634,...   \n",
       "2   3  2008-06-11  4100 North Oak Park Avenue, Chicago, IL 60634,...   \n",
       "3   4  2008-06-11  4100 North Oak Park Avenue, Chicago, IL 60634,...   \n",
       "4   5  2008-06-11  4100 North Oak Park Avenue, Chicago, IL 60634,...   \n",
       "\n",
       "                  Species  Block           Street  Trap  \\\n",
       "0  CULEX PIPIENS/RESTUANS     41   N OAK PARK AVE  T002   \n",
       "1          CULEX RESTUANS     41   N OAK PARK AVE  T002   \n",
       "2           CULEX PIPIENS     41   N OAK PARK AVE  T002   \n",
       "3        CULEX SALINARIUS     41   N OAK PARK AVE  T002   \n",
       "4         CULEX TERRITANS     41   N OAK PARK AVE  T002   \n",
       "\n",
       "              AddressNumberAndStreet  Latitude  Longitude  AddressAccuracy  \n",
       "0  4100  N OAK PARK AVE, Chicago, IL  41.95469 -87.800991                9  \n",
       "1  4100  N OAK PARK AVE, Chicago, IL  41.95469 -87.800991                9  \n",
       "2  4100  N OAK PARK AVE, Chicago, IL  41.95469 -87.800991                9  \n",
       "3  4100  N OAK PARK AVE, Chicago, IL  41.95469 -87.800991                9  \n",
       "4  4100  N OAK PARK AVE, Chicago, IL  41.95469 -87.800991                9  "
      ]
     },
     "execution_count": 3,
     "metadata": {},
     "output_type": "execute_result"
    }
   ],
   "source": [
    "pd.set_option('display.max_columns', 100)\n",
    "test.head()"
   ]
  },
  {
   "cell_type": "code",
   "execution_count": 4,
   "metadata": {},
   "outputs": [
    {
     "name": "stdout",
     "output_type": "stream",
     "text": [
      "Train data has unique columns:  {'WnvPresent', 'NumMosquitos'}\n",
      "Test data has unique columns:  {'Id'}\n"
     ]
    }
   ],
   "source": [
    "#Check the difference in columns between train and test fiel\n",
    "print(\"Train data has unique columns: \", set(train.columns).difference(set(test.columns)))\n",
    "print(\"Test data has unique columns: \", set(test.columns).difference(set(train.columns)))\n",
    "\n",
    "\n",
    "# Test data doesn't have NumMosquitos, so we can't use this feature in our model !!!\n",
    "# Test data doesn't have the outcome - expected"
   ]
  },
  {
   "cell_type": "code",
   "execution_count": 5,
   "metadata": {},
   "outputs": [
    {
     "data": {
      "text/html": [
       "<div>\n",
       "<style scoped>\n",
       "    .dataframe tbody tr th:only-of-type {\n",
       "        vertical-align: middle;\n",
       "    }\n",
       "\n",
       "    .dataframe tbody tr th {\n",
       "        vertical-align: top;\n",
       "    }\n",
       "\n",
       "    .dataframe thead th {\n",
       "        text-align: right;\n",
       "    }\n",
       "</style>\n",
       "<table border=\"1\" class=\"dataframe\">\n",
       "  <thead>\n",
       "    <tr style=\"text-align: right;\">\n",
       "      <th></th>\n",
       "      <th>Id</th>\n",
       "      <th>Block</th>\n",
       "      <th>Latitude</th>\n",
       "      <th>Longitude</th>\n",
       "      <th>AddressAccuracy</th>\n",
       "    </tr>\n",
       "  </thead>\n",
       "  <tbody>\n",
       "    <tr>\n",
       "      <td>count</td>\n",
       "      <td>116293.000000</td>\n",
       "      <td>116293.000000</td>\n",
       "      <td>116293.000000</td>\n",
       "      <td>116293.000000</td>\n",
       "      <td>116293.000000</td>\n",
       "    </tr>\n",
       "    <tr>\n",
       "      <td>mean</td>\n",
       "      <td>58147.000000</td>\n",
       "      <td>41.131100</td>\n",
       "      <td>41.849389</td>\n",
       "      <td>-87.693658</td>\n",
       "      <td>7.954357</td>\n",
       "    </tr>\n",
       "    <tr>\n",
       "      <td>std</td>\n",
       "      <td>33571.041765</td>\n",
       "      <td>24.864726</td>\n",
       "      <td>0.106593</td>\n",
       "      <td>0.080699</td>\n",
       "      <td>1.252733</td>\n",
       "    </tr>\n",
       "    <tr>\n",
       "      <td>min</td>\n",
       "      <td>1.000000</td>\n",
       "      <td>10.000000</td>\n",
       "      <td>41.644612</td>\n",
       "      <td>-87.930995</td>\n",
       "      <td>3.000000</td>\n",
       "    </tr>\n",
       "    <tr>\n",
       "      <td>25%</td>\n",
       "      <td>29074.000000</td>\n",
       "      <td>18.000000</td>\n",
       "      <td>41.753411</td>\n",
       "      <td>-87.750938</td>\n",
       "      <td>8.000000</td>\n",
       "    </tr>\n",
       "    <tr>\n",
       "      <td>50%</td>\n",
       "      <td>58147.000000</td>\n",
       "      <td>39.000000</td>\n",
       "      <td>41.862292</td>\n",
       "      <td>-87.694991</td>\n",
       "      <td>8.000000</td>\n",
       "    </tr>\n",
       "    <tr>\n",
       "      <td>75%</td>\n",
       "      <td>87220.000000</td>\n",
       "      <td>61.000000</td>\n",
       "      <td>41.951866</td>\n",
       "      <td>-87.648860</td>\n",
       "      <td>9.000000</td>\n",
       "    </tr>\n",
       "    <tr>\n",
       "      <td>max</td>\n",
       "      <td>116293.000000</td>\n",
       "      <td>98.000000</td>\n",
       "      <td>42.017430</td>\n",
       "      <td>-87.531635</td>\n",
       "      <td>9.000000</td>\n",
       "    </tr>\n",
       "  </tbody>\n",
       "</table>\n",
       "</div>"
      ],
      "text/plain": [
       "                  Id          Block       Latitude      Longitude  \\\n",
       "count  116293.000000  116293.000000  116293.000000  116293.000000   \n",
       "mean    58147.000000      41.131100      41.849389     -87.693658   \n",
       "std     33571.041765      24.864726       0.106593       0.080699   \n",
       "min         1.000000      10.000000      41.644612     -87.930995   \n",
       "25%     29074.000000      18.000000      41.753411     -87.750938   \n",
       "50%     58147.000000      39.000000      41.862292     -87.694991   \n",
       "75%     87220.000000      61.000000      41.951866     -87.648860   \n",
       "max    116293.000000      98.000000      42.017430     -87.531635   \n",
       "\n",
       "       AddressAccuracy  \n",
       "count    116293.000000  \n",
       "mean          7.954357  \n",
       "std           1.252733  \n",
       "min           3.000000  \n",
       "25%           8.000000  \n",
       "50%           8.000000  \n",
       "75%           9.000000  \n",
       "max           9.000000  "
      ]
     },
     "execution_count": 5,
     "metadata": {},
     "output_type": "execute_result"
    }
   ],
   "source": [
    "test.describe()\n",
    "\n",
    "# Data looks complete and no abnormal data points - clean dataset"
   ]
  },
  {
   "cell_type": "code",
   "execution_count": 6,
   "metadata": {},
   "outputs": [
    {
     "name": "stdout",
     "output_type": "stream",
     "text": [
      "<class 'pandas.core.frame.DataFrame'>\n",
      "RangeIndex: 116293 entries, 0 to 116292\n",
      "Data columns (total 11 columns):\n",
      "Id                        116293 non-null int64\n",
      "Date                      116293 non-null object\n",
      "Address                   116293 non-null object\n",
      "Species                   116293 non-null object\n",
      "Block                     116293 non-null int64\n",
      "Street                    116293 non-null object\n",
      "Trap                      116293 non-null object\n",
      "AddressNumberAndStreet    116293 non-null object\n",
      "Latitude                  116293 non-null float64\n",
      "Longitude                 116293 non-null float64\n",
      "AddressAccuracy           116293 non-null int64\n",
      "dtypes: float64(2), int64(3), object(6)\n",
      "memory usage: 9.8+ MB\n"
     ]
    }
   ],
   "source": [
    "test.info()\n",
    "\n",
    "# Date is in the wrong format?\n",
    "# No mssing data or wrong datatype except Date"
   ]
  },
  {
   "cell_type": "markdown",
   "metadata": {},
   "source": [
    ">Data is very clean, no missing data or abnormal entries"
   ]
  },
  {
   "cell_type": "markdown",
   "metadata": {},
   "source": [
    "### Convert the Date column to datetime format"
   ]
  },
  {
   "cell_type": "code",
   "execution_count": 7,
   "metadata": {},
   "outputs": [],
   "source": [
    "train['date'] = pd.to_datetime(train.Date, format='%Y-%m-%d')\n",
    "test['date'] = pd.to_datetime(test.Date, format='%Y-%m-%d')\n",
    "\n",
    "#train['date'] = pd.to_datetime(train.Date, format='%d/%m/%Y')\n",
    "#test['date'] = pd.to_datetime(test.Date, format='%d/%m/%Y')\n",
    "#test['year'] = test.date.dt.year\n",
    "#test['month'] = test.date.dt.month\n",
    "#test['week'] = test.date.dt.week"
   ]
  },
  {
   "cell_type": "code",
   "execution_count": 8,
   "metadata": {},
   "outputs": [],
   "source": [
    "#s = test.date.asfreq(freq='m')\n",
    "#s1 = pd.Series(s[s.isnull()].index)\n",
    "#print(s.shape)"
   ]
  },
  {
   "cell_type": "code",
   "execution_count": 9,
   "metadata": {},
   "outputs": [
    {
     "name": "stderr",
     "output_type": "stream",
     "text": [
      "C:\\Users\\dai_f\\Anaconda3\\lib\\site-packages\\pandas\\plotting\\_matplotlib\\converter.py:103: FutureWarning: Using an implicitly registered datetime converter for a matplotlib plotting method. The converter was registered by pandas on import. Future versions of pandas will require you to explicitly register matplotlib converters.\n",
      "\n",
      "To register the converters:\n",
      "\t>>> from pandas.plotting import register_matplotlib_converters\n",
      "\t>>> register_matplotlib_converters()\n",
      "  warnings.warn(msg, FutureWarning)\n"
     ]
    },
    {
     "data": {
      "text/plain": [
       "[<matplotlib.lines.Line2D at 0x23633d40d48>]"
      ]
     },
     "execution_count": 9,
     "metadata": {},
     "output_type": "execute_result"
    },
    {
     "data": {
      "image/png": "[encoded data removed]",
      "text/plain": [
       "<Figure size 432x288 with 1 Axes>"
      ]
     },
     "metadata": {
      "needs_background": "light"
     },
     "output_type": "display_data"
    }
   ],
   "source": [
    "plt.plot(test.date, test.Block)"
   ]
  },
  {
   "cell_type": "code",
   "execution_count": 10,
   "metadata": {},
   "outputs": [
    {
     "data": {
      "text/plain": [
       "[<matplotlib.lines.Line2D at 0x23633d9ef88>]"
      ]
     },
     "execution_count": 10,
     "metadata": {},
     "output_type": "execute_result"
    },
    {
     "data": {
      "image/png": "[encoded data removed]",
      "text/plain": [
       "<Figure size 432x288 with 1 Axes>"
      ]
     },
     "metadata": {
      "needs_background": "light"
     },
     "output_type": "display_data"
    }
   ],
   "source": [
    "plt.plot(train.date, train.NumMosquitos)"
   ]
  },
  {
   "cell_type": "markdown",
   "metadata": {},
   "source": [
    "> test years are even, train years are odd"
   ]
  },
  {
   "cell_type": "code",
   "execution_count": 11,
   "metadata": {},
   "outputs": [],
   "source": [
    "# Define a fuction to find the unique values in a column between train and test dataset\n",
    "def find_unique(col):\n",
    "    name_train = set(train[col].value_counts().index)\n",
    "    name_test = set(test[col].value_counts().index)\n",
    "    print(\"Train has unique name: \", name_train.difference(name_test))\n",
    "    print()\n",
    "    print(f\"Test has unique name: \", name_test.difference(name_train))\n",
    "    return name_test.difference(name_train)"
   ]
  },
  {
   "cell_type": "markdown",
   "metadata": {},
   "source": [
    "#### Mosquitoe Species in train and test\n",
    "\n",
    "* Unique species 'UNSPECIFIED CULEX' in test data accounts for ~ 1/8 of the population "
   ]
  },
  {
   "cell_type": "code",
   "execution_count": 12,
   "metadata": {},
   "outputs": [
    {
     "name": "stdout",
     "output_type": "stream",
     "text": [
      "Train has unique name:  set()\n",
      "\n",
      "Test has unique name:  {'UNSPECIFIED CULEX'}\n"
     ]
    },
    {
     "data": {
      "text/plain": [
       "{'UNSPECIFIED CULEX'}"
      ]
     },
     "execution_count": 12,
     "metadata": {},
     "output_type": "execute_result"
    }
   ],
   "source": [
    "find_unique('Species')"
   ]
  },
  {
   "cell_type": "code",
   "execution_count": 13,
   "metadata": {},
   "outputs": [
    {
     "data": {
      "text/plain": [
       "CULEX PIPIENS/RESTUANS    0.132072\n",
       "CULEX RESTUANS            0.126147\n",
       "CULEX PIPIENS             0.124866\n",
       "CULEX SALINARIUS          0.123438\n",
       "CULEX TERRITANS           0.123404\n",
       "CULEX TARSALIS            0.123369\n",
       "UNSPECIFIED CULEX         0.123352\n",
       "CULEX ERRATICUS           0.123352\n",
       "Name: Species, dtype: float64"
      ]
     },
     "execution_count": 13,
     "metadata": {},
     "output_type": "execute_result"
    }
   ],
   "source": [
    "test.Species.value_counts(normalize=True)\n",
    "\n",
    "# train data has higher proportion of PIPIENS/RESTUANS than any other species, however test dat has equal proportion of all species\n",
    "# Unique species 'UNSPECIFIED CULEX' in test data accounts for ~ 1/8 of the population \n",
    "# Does it means that the model we build can't account for 1/8 of the data accurately, if Species is part of the features?"
   ]
  },
  {
   "cell_type": "markdown",
   "metadata": {},
   "source": [
    "#### Mosquito Trap Location in train and test\n",
    "\n",
    "* Test data presents new addresses, they account for 8.5% of the population!"
   ]
  },
  {
   "cell_type": "code",
   "execution_count": 14,
   "metadata": {},
   "outputs": [
    {
     "name": "stdout",
     "output_type": "stream",
     "text": [
      "Train has unique name:  set()\n",
      "\n",
      "Test has unique name:  {'6500 West Dakin Street, Chicago, IL 60634, USA', 'South Oglesby Avenue, Chicago, IL, USA', '2900 North Kenneth Avenue, Chicago, IL 60641, USA', 'South Baltimore Avenue, Chicago, IL 60617, USA', '1100 South Loomis Street, Chicago, IL 60607, USA', '5100 West 63rd Place, Chicago, IL 60638, USA', '4600 North Melvina Avenue, Chicago, IL 60630, USA', '3400 North Long Avenue, Chicago, IL 60641, USA', '3700 North Kilbourn Avenue, Chicago, IL 60641, USA', '2600 East 136th Street, Chicago, IL 60633, USA', '1400 West 112th Street, Chicago, IL 60643, USA', '4000 North Kedvale Avenue, Chicago, IL 60641, USA', '1200 West 120th Street, Chicago, IL 60643, USA'}\n"
     ]
    }
   ],
   "source": [
    "unique_addr = find_unique('Address')\n",
    "\n",
    "# 13 locations are unique"
   ]
  },
  {
   "cell_type": "code",
   "execution_count": 15,
   "metadata": {},
   "outputs": [
    {
     "name": "stdout",
     "output_type": "stream",
     "text": [
      "Train has unique name:  set()\n",
      "\n",
      "Test has unique name:  {'T218B', 'T090C', 'T234', 'T065A', 'T090A', 'T200B', 'T128A', 'T002A', 'T200A', 'T218A', 'T002B', 'T090B', 'T218C'}\n"
     ]
    }
   ],
   "source": [
    "unique_traps = find_unique('Trap')\n",
    "\n",
    "# ALso 13 unique locations. Address and Trap should pair up\n",
    "# All are satelite traps except T234. - mosquitto hotspots? Where is T234?\n",
    "# When are they inserted?\n",
    "# Where are these 'hotspots' on the map?"
   ]
  },
  {
   "cell_type": "code",
   "execution_count": 16,
   "metadata": {},
   "outputs": [
    {
     "data": {
      "text/plain": [
       "[760, 760, 762, 766, 760, 767, 760, 760, 762, 760, 768, 760, 760]"
      ]
     },
     "execution_count": 16,
     "metadata": {},
     "output_type": "execute_result"
    }
   ],
   "source": [
    "addr_count = test.Address.value_counts()\n",
    "unique_addr_count = [addr_count.loc[loc] for loc in unique_addr]\n",
    "unique_addr_count"
   ]
  },
  {
   "cell_type": "code",
   "execution_count": 17,
   "metadata": {},
   "outputs": [
    {
     "data": {
      "text/plain": [
       "0.08517279629900337"
      ]
     },
     "execution_count": 17,
     "metadata": {},
     "output_type": "execute_result"
    }
   ],
   "source": [
    "sum(unique_addr_count)/len(test)\n",
    "\n",
    "# Unique address seen in test accounts for 8.5% of the population"
   ]
  },
  {
   "cell_type": "markdown",
   "metadata": {},
   "source": [
    "### Number of Traps per day per location per Species in Test"
   ]
  },
  {
   "cell_type": "code",
   "execution_count": 18,
   "metadata": {},
   "outputs": [
    {
     "data": {
      "text/plain": [
       "<matplotlib.axes._subplots.AxesSubplot at 0x23633e03588>"
      ]
     },
     "execution_count": 18,
     "metadata": {},
     "output_type": "execute_result"
    },
    {
     "data": {
      "image/png": "[encoded data removed]",
      "text/plain": [
       "<Figure size 432x288 with 1 Axes>"
      ]
     },
     "metadata": {
      "needs_background": "light"
     },
     "output_type": "display_data"
    }
   ],
   "source": [
    "test.groupby(['Date','Address','Trap','Species']).count().reset_index()['Block'].plot()\n",
    "\n",
    "# On a single date, in a single location, for a single species, there are rows that have multiple rows that's as high as 25.\n",
    "# Meaning: the number of mosquito pools for a specific mosquito testdate/location/species can vary between 1-25 "
   ]
  },
  {
   "cell_type": "code",
   "execution_count": 19,
   "metadata": {},
   "outputs": [
    {
     "data": {
      "text/html": [
       "<div>\n",
       "<style scoped>\n",
       "    .dataframe tbody tr th:only-of-type {\n",
       "        vertical-align: middle;\n",
       "    }\n",
       "\n",
       "    .dataframe tbody tr th {\n",
       "        vertical-align: top;\n",
       "    }\n",
       "\n",
       "    .dataframe thead th {\n",
       "        text-align: right;\n",
       "    }\n",
       "</style>\n",
       "<table border=\"1\" class=\"dataframe\">\n",
       "  <thead>\n",
       "    <tr style=\"text-align: right;\">\n",
       "      <th></th>\n",
       "      <th>Id</th>\n",
       "      <th>Date</th>\n",
       "      <th>Address</th>\n",
       "      <th>Species</th>\n",
       "      <th>Block</th>\n",
       "      <th>Street</th>\n",
       "      <th>Trap</th>\n",
       "      <th>AddressNumberAndStreet</th>\n",
       "      <th>Latitude</th>\n",
       "      <th>Longitude</th>\n",
       "      <th>AddressAccuracy</th>\n",
       "      <th>date</th>\n",
       "    </tr>\n",
       "  </thead>\n",
       "  <tbody>\n",
       "    <tr>\n",
       "      <td>0</td>\n",
       "      <td>1</td>\n",
       "      <td>2008-06-11</td>\n",
       "      <td>4100 North Oak Park Avenue, Chicago, IL 60634,...</td>\n",
       "      <td>CULEX PIPIENS/RESTUANS</td>\n",
       "      <td>41</td>\n",
       "      <td>N OAK PARK AVE</td>\n",
       "      <td>T002</td>\n",
       "      <td>4100  N OAK PARK AVE, Chicago, IL</td>\n",
       "      <td>41.954690</td>\n",
       "      <td>-87.800991</td>\n",
       "      <td>9</td>\n",
       "      <td>2008-06-11</td>\n",
       "    </tr>\n",
       "    <tr>\n",
       "      <td>1</td>\n",
       "      <td>2</td>\n",
       "      <td>2008-06-11</td>\n",
       "      <td>4100 North Oak Park Avenue, Chicago, IL 60634,...</td>\n",
       "      <td>CULEX RESTUANS</td>\n",
       "      <td>41</td>\n",
       "      <td>N OAK PARK AVE</td>\n",
       "      <td>T002</td>\n",
       "      <td>4100  N OAK PARK AVE, Chicago, IL</td>\n",
       "      <td>41.954690</td>\n",
       "      <td>-87.800991</td>\n",
       "      <td>9</td>\n",
       "      <td>2008-06-11</td>\n",
       "    </tr>\n",
       "    <tr>\n",
       "      <td>2</td>\n",
       "      <td>3</td>\n",
       "      <td>2008-06-11</td>\n",
       "      <td>4100 North Oak Park Avenue, Chicago, IL 60634,...</td>\n",
       "      <td>CULEX PIPIENS</td>\n",
       "      <td>41</td>\n",
       "      <td>N OAK PARK AVE</td>\n",
       "      <td>T002</td>\n",
       "      <td>4100  N OAK PARK AVE, Chicago, IL</td>\n",
       "      <td>41.954690</td>\n",
       "      <td>-87.800991</td>\n",
       "      <td>9</td>\n",
       "      <td>2008-06-11</td>\n",
       "    </tr>\n",
       "    <tr>\n",
       "      <td>3</td>\n",
       "      <td>4</td>\n",
       "      <td>2008-06-11</td>\n",
       "      <td>4100 North Oak Park Avenue, Chicago, IL 60634,...</td>\n",
       "      <td>CULEX SALINARIUS</td>\n",
       "      <td>41</td>\n",
       "      <td>N OAK PARK AVE</td>\n",
       "      <td>T002</td>\n",
       "      <td>4100  N OAK PARK AVE, Chicago, IL</td>\n",
       "      <td>41.954690</td>\n",
       "      <td>-87.800991</td>\n",
       "      <td>9</td>\n",
       "      <td>2008-06-11</td>\n",
       "    </tr>\n",
       "    <tr>\n",
       "      <td>4</td>\n",
       "      <td>5</td>\n",
       "      <td>2008-06-11</td>\n",
       "      <td>4100 North Oak Park Avenue, Chicago, IL 60634,...</td>\n",
       "      <td>CULEX TERRITANS</td>\n",
       "      <td>41</td>\n",
       "      <td>N OAK PARK AVE</td>\n",
       "      <td>T002</td>\n",
       "      <td>4100  N OAK PARK AVE, Chicago, IL</td>\n",
       "      <td>41.954690</td>\n",
       "      <td>-87.800991</td>\n",
       "      <td>9</td>\n",
       "      <td>2008-06-11</td>\n",
       "    </tr>\n",
       "    <tr>\n",
       "      <td>5</td>\n",
       "      <td>6</td>\n",
       "      <td>2008-06-11</td>\n",
       "      <td>4100 North Oak Park Avenue, Chicago, IL 60634,...</td>\n",
       "      <td>CULEX TARSALIS</td>\n",
       "      <td>41</td>\n",
       "      <td>N OAK PARK AVE</td>\n",
       "      <td>T002</td>\n",
       "      <td>4100  N OAK PARK AVE, Chicago, IL</td>\n",
       "      <td>41.954690</td>\n",
       "      <td>-87.800991</td>\n",
       "      <td>9</td>\n",
       "      <td>2008-06-11</td>\n",
       "    </tr>\n",
       "    <tr>\n",
       "      <td>6</td>\n",
       "      <td>7</td>\n",
       "      <td>2008-06-11</td>\n",
       "      <td>4100 North Oak Park Avenue, Chicago, IL 60634,...</td>\n",
       "      <td>UNSPECIFIED CULEX</td>\n",
       "      <td>41</td>\n",
       "      <td>N OAK PARK AVE</td>\n",
       "      <td>T002</td>\n",
       "      <td>4100  N OAK PARK AVE, Chicago, IL</td>\n",
       "      <td>41.954690</td>\n",
       "      <td>-87.800991</td>\n",
       "      <td>9</td>\n",
       "      <td>2008-06-11</td>\n",
       "    </tr>\n",
       "    <tr>\n",
       "      <td>7</td>\n",
       "      <td>8</td>\n",
       "      <td>2008-06-11</td>\n",
       "      <td>4100 North Oak Park Avenue, Chicago, IL 60634,...</td>\n",
       "      <td>CULEX ERRATICUS</td>\n",
       "      <td>41</td>\n",
       "      <td>N OAK PARK AVE</td>\n",
       "      <td>T002</td>\n",
       "      <td>4100  N OAK PARK AVE, Chicago, IL</td>\n",
       "      <td>41.954690</td>\n",
       "      <td>-87.800991</td>\n",
       "      <td>9</td>\n",
       "      <td>2008-06-11</td>\n",
       "    </tr>\n",
       "    <tr>\n",
       "      <td>8</td>\n",
       "      <td>9</td>\n",
       "      <td>2008-06-11</td>\n",
       "      <td>6200 North Mandell Avenue, Chicago, IL 60646, USA</td>\n",
       "      <td>CULEX PIPIENS/RESTUANS</td>\n",
       "      <td>62</td>\n",
       "      <td>N MANDELL AVE</td>\n",
       "      <td>T007</td>\n",
       "      <td>6200  N MANDELL AVE, Chicago, IL</td>\n",
       "      <td>41.994991</td>\n",
       "      <td>-87.769279</td>\n",
       "      <td>9</td>\n",
       "      <td>2008-06-11</td>\n",
       "    </tr>\n",
       "    <tr>\n",
       "      <td>9</td>\n",
       "      <td>10</td>\n",
       "      <td>2008-06-11</td>\n",
       "      <td>6200 North Mandell Avenue, Chicago, IL 60646, USA</td>\n",
       "      <td>CULEX RESTUANS</td>\n",
       "      <td>62</td>\n",
       "      <td>N MANDELL AVE</td>\n",
       "      <td>T007</td>\n",
       "      <td>6200  N MANDELL AVE, Chicago, IL</td>\n",
       "      <td>41.994991</td>\n",
       "      <td>-87.769279</td>\n",
       "      <td>9</td>\n",
       "      <td>2008-06-11</td>\n",
       "    </tr>\n",
       "    <tr>\n",
       "      <td>10</td>\n",
       "      <td>11</td>\n",
       "      <td>2008-06-11</td>\n",
       "      <td>6200 North Mandell Avenue, Chicago, IL 60646, USA</td>\n",
       "      <td>CULEX PIPIENS</td>\n",
       "      <td>62</td>\n",
       "      <td>N MANDELL AVE</td>\n",
       "      <td>T007</td>\n",
       "      <td>6200  N MANDELL AVE, Chicago, IL</td>\n",
       "      <td>41.994991</td>\n",
       "      <td>-87.769279</td>\n",
       "      <td>9</td>\n",
       "      <td>2008-06-11</td>\n",
       "    </tr>\n",
       "    <tr>\n",
       "      <td>11</td>\n",
       "      <td>12</td>\n",
       "      <td>2008-06-11</td>\n",
       "      <td>6200 North Mandell Avenue, Chicago, IL 60646, USA</td>\n",
       "      <td>CULEX SALINARIUS</td>\n",
       "      <td>62</td>\n",
       "      <td>N MANDELL AVE</td>\n",
       "      <td>T007</td>\n",
       "      <td>6200  N MANDELL AVE, Chicago, IL</td>\n",
       "      <td>41.994991</td>\n",
       "      <td>-87.769279</td>\n",
       "      <td>9</td>\n",
       "      <td>2008-06-11</td>\n",
       "    </tr>\n",
       "    <tr>\n",
       "      <td>12</td>\n",
       "      <td>13</td>\n",
       "      <td>2008-06-11</td>\n",
       "      <td>6200 North Mandell Avenue, Chicago, IL 60646, USA</td>\n",
       "      <td>CULEX TERRITANS</td>\n",
       "      <td>62</td>\n",
       "      <td>N MANDELL AVE</td>\n",
       "      <td>T007</td>\n",
       "      <td>6200  N MANDELL AVE, Chicago, IL</td>\n",
       "      <td>41.994991</td>\n",
       "      <td>-87.769279</td>\n",
       "      <td>9</td>\n",
       "      <td>2008-06-11</td>\n",
       "    </tr>\n",
       "    <tr>\n",
       "      <td>13</td>\n",
       "      <td>14</td>\n",
       "      <td>2008-06-11</td>\n",
       "      <td>6200 North Mandell Avenue, Chicago, IL 60646, USA</td>\n",
       "      <td>CULEX TARSALIS</td>\n",
       "      <td>62</td>\n",
       "      <td>N MANDELL AVE</td>\n",
       "      <td>T007</td>\n",
       "      <td>6200  N MANDELL AVE, Chicago, IL</td>\n",
       "      <td>41.994991</td>\n",
       "      <td>-87.769279</td>\n",
       "      <td>9</td>\n",
       "      <td>2008-06-11</td>\n",
       "    </tr>\n",
       "    <tr>\n",
       "      <td>14</td>\n",
       "      <td>15</td>\n",
       "      <td>2008-06-11</td>\n",
       "      <td>6200 North Mandell Avenue, Chicago, IL 60646, USA</td>\n",
       "      <td>UNSPECIFIED CULEX</td>\n",
       "      <td>62</td>\n",
       "      <td>N MANDELL AVE</td>\n",
       "      <td>T007</td>\n",
       "      <td>6200  N MANDELL AVE, Chicago, IL</td>\n",
       "      <td>41.994991</td>\n",
       "      <td>-87.769279</td>\n",
       "      <td>9</td>\n",
       "      <td>2008-06-11</td>\n",
       "    </tr>\n",
       "    <tr>\n",
       "      <td>15</td>\n",
       "      <td>16</td>\n",
       "      <td>2008-06-11</td>\n",
       "      <td>6200 North Mandell Avenue, Chicago, IL 60646, USA</td>\n",
       "      <td>CULEX ERRATICUS</td>\n",
       "      <td>62</td>\n",
       "      <td>N MANDELL AVE</td>\n",
       "      <td>T007</td>\n",
       "      <td>6200  N MANDELL AVE, Chicago, IL</td>\n",
       "      <td>41.994991</td>\n",
       "      <td>-87.769279</td>\n",
       "      <td>9</td>\n",
       "      <td>2008-06-11</td>\n",
       "    </tr>\n",
       "    <tr>\n",
       "      <td>16</td>\n",
       "      <td>17</td>\n",
       "      <td>2008-06-11</td>\n",
       "      <td>7900 West Foster Avenue, Chicago, IL 60656, USA</td>\n",
       "      <td>CULEX PIPIENS/RESTUANS</td>\n",
       "      <td>79</td>\n",
       "      <td>W FOSTER AVE</td>\n",
       "      <td>T015</td>\n",
       "      <td>7900  W FOSTER AVE, Chicago, IL</td>\n",
       "      <td>41.974089</td>\n",
       "      <td>-87.824812</td>\n",
       "      <td>8</td>\n",
       "      <td>2008-06-11</td>\n",
       "    </tr>\n",
       "    <tr>\n",
       "      <td>17</td>\n",
       "      <td>18</td>\n",
       "      <td>2008-06-11</td>\n",
       "      <td>7900 West Foster Avenue, Chicago, IL 60656, USA</td>\n",
       "      <td>CULEX RESTUANS</td>\n",
       "      <td>79</td>\n",
       "      <td>W FOSTER AVE</td>\n",
       "      <td>T015</td>\n",
       "      <td>7900  W FOSTER AVE, Chicago, IL</td>\n",
       "      <td>41.974089</td>\n",
       "      <td>-87.824812</td>\n",
       "      <td>8</td>\n",
       "      <td>2008-06-11</td>\n",
       "    </tr>\n",
       "    <tr>\n",
       "      <td>18</td>\n",
       "      <td>19</td>\n",
       "      <td>2008-06-11</td>\n",
       "      <td>7900 West Foster Avenue, Chicago, IL 60656, USA</td>\n",
       "      <td>CULEX PIPIENS</td>\n",
       "      <td>79</td>\n",
       "      <td>W FOSTER AVE</td>\n",
       "      <td>T015</td>\n",
       "      <td>7900  W FOSTER AVE, Chicago, IL</td>\n",
       "      <td>41.974089</td>\n",
       "      <td>-87.824812</td>\n",
       "      <td>8</td>\n",
       "      <td>2008-06-11</td>\n",
       "    </tr>\n",
       "    <tr>\n",
       "      <td>19</td>\n",
       "      <td>20</td>\n",
       "      <td>2008-06-11</td>\n",
       "      <td>7900 West Foster Avenue, Chicago, IL 60656, USA</td>\n",
       "      <td>CULEX SALINARIUS</td>\n",
       "      <td>79</td>\n",
       "      <td>W FOSTER AVE</td>\n",
       "      <td>T015</td>\n",
       "      <td>7900  W FOSTER AVE, Chicago, IL</td>\n",
       "      <td>41.974089</td>\n",
       "      <td>-87.824812</td>\n",
       "      <td>8</td>\n",
       "      <td>2008-06-11</td>\n",
       "    </tr>\n",
       "  </tbody>\n",
       "</table>\n",
       "</div>"
      ],
      "text/plain": [
       "    Id        Date                                            Address  \\\n",
       "0    1  2008-06-11  4100 North Oak Park Avenue, Chicago, IL 60634,...   \n",
       "1    2  2008-06-11  4100 North Oak Park Avenue, Chicago, IL 60634,...   \n",
       "2    3  2008-06-11  4100 North Oak Park Avenue, Chicago, IL 60634,...   \n",
       "3    4  2008-06-11  4100 North Oak Park Avenue, Chicago, IL 60634,...   \n",
       "4    5  2008-06-11  4100 North Oak Park Avenue, Chicago, IL 60634,...   \n",
       "5    6  2008-06-11  4100 North Oak Park Avenue, Chicago, IL 60634,...   \n",
       "6    7  2008-06-11  4100 North Oak Park Avenue, Chicago, IL 60634,...   \n",
       "7    8  2008-06-11  4100 North Oak Park Avenue, Chicago, IL 60634,...   \n",
       "8    9  2008-06-11  6200 North Mandell Avenue, Chicago, IL 60646, USA   \n",
       "9   10  2008-06-11  6200 North Mandell Avenue, Chicago, IL 60646, USA   \n",
       "10  11  2008-06-11  6200 North Mandell Avenue, Chicago, IL 60646, USA   \n",
       "11  12  2008-06-11  6200 North Mandell Avenue, Chicago, IL 60646, USA   \n",
       "12  13  2008-06-11  6200 North Mandell Avenue, Chicago, IL 60646, USA   \n",
       "13  14  2008-06-11  6200 North Mandell Avenue, Chicago, IL 60646, USA   \n",
       "14  15  2008-06-11  6200 North Mandell Avenue, Chicago, IL 60646, USA   \n",
       "15  16  2008-06-11  6200 North Mandell Avenue, Chicago, IL 60646, USA   \n",
       "16  17  2008-06-11    7900 West Foster Avenue, Chicago, IL 60656, USA   \n",
       "17  18  2008-06-11    7900 West Foster Avenue, Chicago, IL 60656, USA   \n",
       "18  19  2008-06-11    7900 West Foster Avenue, Chicago, IL 60656, USA   \n",
       "19  20  2008-06-11    7900 West Foster Avenue, Chicago, IL 60656, USA   \n",
       "\n",
       "                   Species  Block           Street  Trap  \\\n",
       "0   CULEX PIPIENS/RESTUANS     41   N OAK PARK AVE  T002   \n",
       "1           CULEX RESTUANS     41   N OAK PARK AVE  T002   \n",
       "2            CULEX PIPIENS     41   N OAK PARK AVE  T002   \n",
       "3         CULEX SALINARIUS     41   N OAK PARK AVE  T002   \n",
       "4          CULEX TERRITANS     41   N OAK PARK AVE  T002   \n",
       "5           CULEX TARSALIS     41   N OAK PARK AVE  T002   \n",
       "6        UNSPECIFIED CULEX     41   N OAK PARK AVE  T002   \n",
       "7          CULEX ERRATICUS     41   N OAK PARK AVE  T002   \n",
       "8   CULEX PIPIENS/RESTUANS     62    N MANDELL AVE  T007   \n",
       "9           CULEX RESTUANS     62    N MANDELL AVE  T007   \n",
       "10           CULEX PIPIENS     62    N MANDELL AVE  T007   \n",
       "11        CULEX SALINARIUS     62    N MANDELL AVE  T007   \n",
       "12         CULEX TERRITANS     62    N MANDELL AVE  T007   \n",
       "13          CULEX TARSALIS     62    N MANDELL AVE  T007   \n",
       "14       UNSPECIFIED CULEX     62    N MANDELL AVE  T007   \n",
       "15         CULEX ERRATICUS     62    N MANDELL AVE  T007   \n",
       "16  CULEX PIPIENS/RESTUANS     79     W FOSTER AVE  T015   \n",
       "17          CULEX RESTUANS     79     W FOSTER AVE  T015   \n",
       "18           CULEX PIPIENS     79     W FOSTER AVE  T015   \n",
       "19        CULEX SALINARIUS     79     W FOSTER AVE  T015   \n",
       "\n",
       "               AddressNumberAndStreet   Latitude  Longitude  AddressAccuracy  \\\n",
       "0   4100  N OAK PARK AVE, Chicago, IL  41.954690 -87.800991                9   \n",
       "1   4100  N OAK PARK AVE, Chicago, IL  41.954690 -87.800991                9   \n",
       "2   4100  N OAK PARK AVE, Chicago, IL  41.954690 -87.800991                9   \n",
       "3   4100  N OAK PARK AVE, Chicago, IL  41.954690 -87.800991                9   \n",
       "4   4100  N OAK PARK AVE, Chicago, IL  41.954690 -87.800991                9   \n",
       "5   4100  N OAK PARK AVE, Chicago, IL  41.954690 -87.800991                9   \n",
       "6   4100  N OAK PARK AVE, Chicago, IL  41.954690 -87.800991                9   \n",
       "7   4100  N OAK PARK AVE, Chicago, IL  41.954690 -87.800991                9   \n",
       "8    6200  N MANDELL AVE, Chicago, IL  41.994991 -87.769279                9   \n",
       "9    6200  N MANDELL AVE, Chicago, IL  41.994991 -87.769279                9   \n",
       "10   6200  N MANDELL AVE, Chicago, IL  41.994991 -87.769279                9   \n",
       "11   6200  N MANDELL AVE, Chicago, IL  41.994991 -87.769279                9   \n",
       "12   6200  N MANDELL AVE, Chicago, IL  41.994991 -87.769279                9   \n",
       "13   6200  N MANDELL AVE, Chicago, IL  41.994991 -87.769279                9   \n",
       "14   6200  N MANDELL AVE, Chicago, IL  41.994991 -87.769279                9   \n",
       "15   6200  N MANDELL AVE, Chicago, IL  41.994991 -87.769279                9   \n",
       "16    7900  W FOSTER AVE, Chicago, IL  41.974089 -87.824812                8   \n",
       "17    7900  W FOSTER AVE, Chicago, IL  41.974089 -87.824812                8   \n",
       "18    7900  W FOSTER AVE, Chicago, IL  41.974089 -87.824812                8   \n",
       "19    7900  W FOSTER AVE, Chicago, IL  41.974089 -87.824812                8   \n",
       "\n",
       "         date  \n",
       "0  2008-06-11  \n",
       "1  2008-06-11  \n",
       "2  2008-06-11  \n",
       "3  2008-06-11  \n",
       "4  2008-06-11  \n",
       "5  2008-06-11  \n",
       "6  2008-06-11  \n",
       "7  2008-06-11  \n",
       "8  2008-06-11  \n",
       "9  2008-06-11  \n",
       "10 2008-06-11  \n",
       "11 2008-06-11  \n",
       "12 2008-06-11  \n",
       "13 2008-06-11  \n",
       "14 2008-06-11  \n",
       "15 2008-06-11  \n",
       "16 2008-06-11  \n",
       "17 2008-06-11  \n",
       "18 2008-06-11  \n",
       "19 2008-06-11  "
      ]
     },
     "execution_count": 19,
     "metadata": {},
     "output_type": "execute_result"
    }
   ],
   "source": [
    "test.head(20)"
   ]
  },
  {
   "cell_type": "code",
   "execution_count": null,
   "metadata": {},
   "outputs": [],
   "source": []
  }
 ],
 "metadata": {
  "kernelspec": {
   "display_name": "Python 3",
   "language": "python",
   "name": "python3"
  },
  "language_info": {
   "codemirror_mode": {
    "name": "ipython",
    "version": 3
   },
   "file_extension": ".py",
   "mimetype": "text/x-python",
   "name": "python",
   "nbconvert_exporter": "python",
   "pygments_lexer": "ipython3",
   "version": "3.7.4"
  }
 },
 "nbformat": 4,
 "nbformat_minor": 2
}
