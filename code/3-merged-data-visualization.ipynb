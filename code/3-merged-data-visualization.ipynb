{
 "cells": [
  {
   "cell_type": "markdown",
   "metadata": {},
   "source": [
    "## Visualizing the Efffect of Weather on Mosquito Populations"
   ]
  },
  {
   "cell_type": "markdown",
   "metadata": {},
   "source": [
    "Import data and set date index"
   ]
  },
  {
   "cell_type": "code",
   "execution_count": 3,
   "metadata": {},
   "outputs": [],
   "source": [
    "import pandas as pd\n",
    "import numpy as np\n",
    "import matplotlib.pyplot as plt\n",
    "import seaborn as sns\n",
    "%matplotlib inline"
   ]
  },
  {
   "cell_type": "code",
   "execution_count": 11,
   "metadata": {},
   "outputs": [],
   "source": [
    "import math\n",
    "import seaborn as sns\n",
    "\n",
    "pd.set_option('display.max_columns', None)\n",
    "pd.set_option('display.max_rows', None)"
   ]
  },
  {
   "cell_type": "code",
   "execution_count": 3,
   "metadata": {
    "collapsed": true
   },
   "outputs": [],
   "source": [
    "# train = pd.read_csv('./predict-west-nile-virus/train_cleaned.csv')\n",
    "# weather = pd.read_csv('./predict-west-nile-virus/weather_clean.csv')"
   ]
  },
  {
   "cell_type": "code",
   "execution_count": 7,
   "metadata": {},
   "outputs": [],
   "source": [
    "merged = pd.read_csv('./dataset/merged_data.csv',index_col='Unnamed: 0')"
   ]
  },
  {
   "cell_type": "code",
   "execution_count": 12,
   "metadata": {},
   "outputs": [
    {
     "data": {
      "text/html": [
       "<div>\n",
       "<style scoped>\n",
       "    .dataframe tbody tr th:only-of-type {\n",
       "        vertical-align: middle;\n",
       "    }\n",
       "\n",
       "    .dataframe tbody tr th {\n",
       "        vertical-align: top;\n",
       "    }\n",
       "\n",
       "    .dataframe thead th {\n",
       "        text-align: right;\n",
       "    }\n",
       "</style>\n",
       "<table border=\"1\" class=\"dataframe\">\n",
       "  <thead>\n",
       "    <tr style=\"text-align: right;\">\n",
       "      <th></th>\n",
       "      <th>Test Date</th>\n",
       "      <th>Species</th>\n",
       "      <th>Trap</th>\n",
       "      <th>AddressNumberAndStreet</th>\n",
       "      <th>Latitude</th>\n",
       "      <th>Longitude</th>\n",
       "      <th>AddressAccuracy</th>\n",
       "      <th>NumMosquitos</th>\n",
       "      <th>WnvPresent</th>\n",
       "      <th>Station</th>\n",
       "      <th>Tmax</th>\n",
       "      <th>Tmin</th>\n",
       "      <th>Tavg</th>\n",
       "      <th>Depart</th>\n",
       "      <th>DewPoint</th>\n",
       "      <th>WetBulb</th>\n",
       "      <th>Heat</th>\n",
       "      <th>Cool</th>\n",
       "      <th>Sunrise</th>\n",
       "      <th>Sunset</th>\n",
       "      <th>CodeSum</th>\n",
       "      <th>Depth</th>\n",
       "      <th>SnowFall</th>\n",
       "      <th>PrecipTotal</th>\n",
       "      <th>StnPressure</th>\n",
       "      <th>SeaLevel</th>\n",
       "      <th>ResultSpeed</th>\n",
       "      <th>ResultDir</th>\n",
       "      <th>AvgSpeed</th>\n",
       "      <th>Year</th>\n",
       "      <th>Month</th>\n",
       "      <th>Day</th>\n",
       "      <th>DaylightDuration</th>\n",
       "      <th>midpt_Lat</th>\n",
       "      <th>midpt_Lon</th>\n",
       "      <th>Spray Date</th>\n",
       "    </tr>\n",
       "  </thead>\n",
       "  <tbody>\n",
       "    <tr>\n",
       "      <td>0</td>\n",
       "      <td>2007-05-29</td>\n",
       "      <td>CULEX PIPIENS/RESTUANS</td>\n",
       "      <td>T002</td>\n",
       "      <td>4100  N OAK PARK AVE, Chicago, IL</td>\n",
       "      <td>41.954690</td>\n",
       "      <td>-87.800991</td>\n",
       "      <td>9</td>\n",
       "      <td>1</td>\n",
       "      <td>0</td>\n",
       "      <td>1</td>\n",
       "      <td>88</td>\n",
       "      <td>60</td>\n",
       "      <td>74</td>\n",
       "      <td>10</td>\n",
       "      <td>58</td>\n",
       "      <td>65</td>\n",
       "      <td>0</td>\n",
       "      <td>9</td>\n",
       "      <td>2007-05-29 04:21:00</td>\n",
       "      <td>2007-05-29 19:17:00</td>\n",
       "      <td>BR HZ</td>\n",
       "      <td>0</td>\n",
       "      <td>0.0</td>\n",
       "      <td>0.0</td>\n",
       "      <td>29.39</td>\n",
       "      <td>30.11</td>\n",
       "      <td>5.8</td>\n",
       "      <td>18</td>\n",
       "      <td>6.5</td>\n",
       "      <td>2007</td>\n",
       "      <td>5</td>\n",
       "      <td>29</td>\n",
       "      <td>0 days 14:56:00.000000000</td>\n",
       "      <td>41.957809</td>\n",
       "      <td>-87.780646</td>\n",
       "      <td>2013-08-16</td>\n",
       "    </tr>\n",
       "    <tr>\n",
       "      <td>1</td>\n",
       "      <td>2007-05-29</td>\n",
       "      <td>CULEX RESTUANS</td>\n",
       "      <td>T002</td>\n",
       "      <td>4100  N OAK PARK AVE, Chicago, IL</td>\n",
       "      <td>41.954690</td>\n",
       "      <td>-87.800991</td>\n",
       "      <td>9</td>\n",
       "      <td>1</td>\n",
       "      <td>0</td>\n",
       "      <td>1</td>\n",
       "      <td>88</td>\n",
       "      <td>60</td>\n",
       "      <td>74</td>\n",
       "      <td>10</td>\n",
       "      <td>58</td>\n",
       "      <td>65</td>\n",
       "      <td>0</td>\n",
       "      <td>9</td>\n",
       "      <td>2007-05-29 04:21:00</td>\n",
       "      <td>2007-05-29 19:17:00</td>\n",
       "      <td>BR HZ</td>\n",
       "      <td>0</td>\n",
       "      <td>0.0</td>\n",
       "      <td>0.0</td>\n",
       "      <td>29.39</td>\n",
       "      <td>30.11</td>\n",
       "      <td>5.8</td>\n",
       "      <td>18</td>\n",
       "      <td>6.5</td>\n",
       "      <td>2007</td>\n",
       "      <td>5</td>\n",
       "      <td>29</td>\n",
       "      <td>0 days 14:56:00.000000000</td>\n",
       "      <td>41.957809</td>\n",
       "      <td>-87.780646</td>\n",
       "      <td>2013-08-16</td>\n",
       "    </tr>\n",
       "    <tr>\n",
       "      <td>2</td>\n",
       "      <td>2007-05-29</td>\n",
       "      <td>CULEX RESTUANS</td>\n",
       "      <td>T007</td>\n",
       "      <td>6200  N MANDELL AVE, Chicago, IL</td>\n",
       "      <td>41.994991</td>\n",
       "      <td>-87.769279</td>\n",
       "      <td>9</td>\n",
       "      <td>1</td>\n",
       "      <td>0</td>\n",
       "      <td>1</td>\n",
       "      <td>88</td>\n",
       "      <td>60</td>\n",
       "      <td>74</td>\n",
       "      <td>10</td>\n",
       "      <td>58</td>\n",
       "      <td>65</td>\n",
       "      <td>0</td>\n",
       "      <td>9</td>\n",
       "      <td>2007-05-29 04:21:00</td>\n",
       "      <td>2007-05-29 19:17:00</td>\n",
       "      <td>BR HZ</td>\n",
       "      <td>0</td>\n",
       "      <td>0.0</td>\n",
       "      <td>0.0</td>\n",
       "      <td>29.39</td>\n",
       "      <td>30.11</td>\n",
       "      <td>5.8</td>\n",
       "      <td>18</td>\n",
       "      <td>6.5</td>\n",
       "      <td>2007</td>\n",
       "      <td>5</td>\n",
       "      <td>29</td>\n",
       "      <td>0 days 14:56:00.000000000</td>\n",
       "      <td>41.982275</td>\n",
       "      <td>-87.809953</td>\n",
       "      <td>2011-07-09</td>\n",
       "    </tr>\n",
       "    <tr>\n",
       "      <td>3</td>\n",
       "      <td>2007-05-29</td>\n",
       "      <td>CULEX PIPIENS/RESTUANS</td>\n",
       "      <td>T015</td>\n",
       "      <td>7900  W FOSTER AVE, Chicago, IL</td>\n",
       "      <td>41.974089</td>\n",
       "      <td>-87.824812</td>\n",
       "      <td>8</td>\n",
       "      <td>1</td>\n",
       "      <td>0</td>\n",
       "      <td>1</td>\n",
       "      <td>88</td>\n",
       "      <td>60</td>\n",
       "      <td>74</td>\n",
       "      <td>10</td>\n",
       "      <td>58</td>\n",
       "      <td>65</td>\n",
       "      <td>0</td>\n",
       "      <td>9</td>\n",
       "      <td>2007-05-29 04:21:00</td>\n",
       "      <td>2007-05-29 19:17:00</td>\n",
       "      <td>BR HZ</td>\n",
       "      <td>0</td>\n",
       "      <td>0.0</td>\n",
       "      <td>0.0</td>\n",
       "      <td>29.39</td>\n",
       "      <td>30.11</td>\n",
       "      <td>5.8</td>\n",
       "      <td>18</td>\n",
       "      <td>6.5</td>\n",
       "      <td>2007</td>\n",
       "      <td>5</td>\n",
       "      <td>29</td>\n",
       "      <td>0 days 14:56:00.000000000</td>\n",
       "      <td>41.982275</td>\n",
       "      <td>-87.809953</td>\n",
       "      <td>2011-07-09</td>\n",
       "    </tr>\n",
       "    <tr>\n",
       "      <td>4</td>\n",
       "      <td>2007-05-29</td>\n",
       "      <td>CULEX RESTUANS</td>\n",
       "      <td>T015</td>\n",
       "      <td>7900  W FOSTER AVE, Chicago, IL</td>\n",
       "      <td>41.974089</td>\n",
       "      <td>-87.824812</td>\n",
       "      <td>8</td>\n",
       "      <td>4</td>\n",
       "      <td>0</td>\n",
       "      <td>1</td>\n",
       "      <td>88</td>\n",
       "      <td>60</td>\n",
       "      <td>74</td>\n",
       "      <td>10</td>\n",
       "      <td>58</td>\n",
       "      <td>65</td>\n",
       "      <td>0</td>\n",
       "      <td>9</td>\n",
       "      <td>2007-05-29 04:21:00</td>\n",
       "      <td>2007-05-29 19:17:00</td>\n",
       "      <td>BR HZ</td>\n",
       "      <td>0</td>\n",
       "      <td>0.0</td>\n",
       "      <td>0.0</td>\n",
       "      <td>29.39</td>\n",
       "      <td>30.11</td>\n",
       "      <td>5.8</td>\n",
       "      <td>18</td>\n",
       "      <td>6.5</td>\n",
       "      <td>2007</td>\n",
       "      <td>5</td>\n",
       "      <td>29</td>\n",
       "      <td>0 days 14:56:00.000000000</td>\n",
       "      <td>41.982275</td>\n",
       "      <td>-87.809953</td>\n",
       "      <td>2011-07-09</td>\n",
       "    </tr>\n",
       "  </tbody>\n",
       "</table>\n",
       "</div>"
      ],
      "text/plain": [
       "   Test Date                 Species  Trap             AddressNumberAndStreet  \\\n",
       "0 2007-05-29  CULEX PIPIENS/RESTUANS  T002  4100  N OAK PARK AVE, Chicago, IL   \n",
       "1 2007-05-29          CULEX RESTUANS  T002  4100  N OAK PARK AVE, Chicago, IL   \n",
       "2 2007-05-29          CULEX RESTUANS  T007   6200  N MANDELL AVE, Chicago, IL   \n",
       "3 2007-05-29  CULEX PIPIENS/RESTUANS  T015    7900  W FOSTER AVE, Chicago, IL   \n",
       "4 2007-05-29          CULEX RESTUANS  T015    7900  W FOSTER AVE, Chicago, IL   \n",
       "\n",
       "    Latitude  Longitude  AddressAccuracy  NumMosquitos  WnvPresent  Station  \\\n",
       "0  41.954690 -87.800991                9             1           0        1   \n",
       "1  41.954690 -87.800991                9             1           0        1   \n",
       "2  41.994991 -87.769279                9             1           0        1   \n",
       "3  41.974089 -87.824812                8             1           0        1   \n",
       "4  41.974089 -87.824812                8             4           0        1   \n",
       "\n",
       "   Tmax  Tmin  Tavg  Depart  DewPoint  WetBulb  Heat  Cool  \\\n",
       "0    88    60    74      10        58       65     0     9   \n",
       "1    88    60    74      10        58       65     0     9   \n",
       "2    88    60    74      10        58       65     0     9   \n",
       "3    88    60    74      10        58       65     0     9   \n",
       "4    88    60    74      10        58       65     0     9   \n",
       "\n",
       "               Sunrise               Sunset CodeSum  Depth  SnowFall  \\\n",
       "0  2007-05-29 04:21:00  2007-05-29 19:17:00   BR HZ      0       0.0   \n",
       "1  2007-05-29 04:21:00  2007-05-29 19:17:00   BR HZ      0       0.0   \n",
       "2  2007-05-29 04:21:00  2007-05-29 19:17:00   BR HZ      0       0.0   \n",
       "3  2007-05-29 04:21:00  2007-05-29 19:17:00   BR HZ      0       0.0   \n",
       "4  2007-05-29 04:21:00  2007-05-29 19:17:00   BR HZ      0       0.0   \n",
       "\n",
       "   PrecipTotal  StnPressure  SeaLevel  ResultSpeed  ResultDir  AvgSpeed  Year  \\\n",
       "0          0.0        29.39     30.11          5.8         18       6.5  2007   \n",
       "1          0.0        29.39     30.11          5.8         18       6.5  2007   \n",
       "2          0.0        29.39     30.11          5.8         18       6.5  2007   \n",
       "3          0.0        29.39     30.11          5.8         18       6.5  2007   \n",
       "4          0.0        29.39     30.11          5.8         18       6.5  2007   \n",
       "\n",
       "   Month  Day           DaylightDuration  midpt_Lat  midpt_Lon Spray Date  \n",
       "0      5   29  0 days 14:56:00.000000000  41.957809 -87.780646 2013-08-16  \n",
       "1      5   29  0 days 14:56:00.000000000  41.957809 -87.780646 2013-08-16  \n",
       "2      5   29  0 days 14:56:00.000000000  41.982275 -87.809953 2011-07-09  \n",
       "3      5   29  0 days 14:56:00.000000000  41.982275 -87.809953 2011-07-09  \n",
       "4      5   29  0 days 14:56:00.000000000  41.982275 -87.809953 2011-07-09  "
      ]
     },
     "execution_count": 12,
     "metadata": {},
     "output_type": "execute_result"
    }
   ],
   "source": [
    "merged.head()"
   ]
  },
  {
   "cell_type": "code",
   "execution_count": 9,
   "metadata": {},
   "outputs": [],
   "source": [
    "merged['Spray Date'] = pd.to_datetime(merged['Spray Date'])\n",
    "merged['Test Date'] = pd.to_datetime(merged['Test Date'])"
   ]
  },
  {
   "cell_type": "code",
   "execution_count": 6,
   "metadata": {
    "collapsed": true
   },
   "outputs": [],
   "source": [
    "# merged.set_index('Date', inplace=True)"
   ]
  },
  {
   "cell_type": "markdown",
   "metadata": {},
   "source": [
    "### EDA on weather data"
   ]
  },
  {
   "cell_type": "markdown",
   "metadata": {},
   "source": [
    "#### Visualizations: Temperature"
   ]
  },
  {
   "cell_type": "code",
   "execution_count": 14,
   "metadata": {},
   "outputs": [
    {
     "data": {
      "text/plain": [
       "<matplotlib.axes._subplots.AxesSubplot at 0x16a46669bc8>"
      ]
     },
     "execution_count": 14,
     "metadata": {},
     "output_type": "execute_result"
    },
    {
     "data": {
      "image/png": "[encoded data removed]",
      "text/plain": [
       "<Figure size 432x288 with 1 Axes>"
      ]
     },
     "metadata": {
      "needs_background": "light"
     },
     "output_type": "display_data"
    },
    {
     "data": {
      "image/png": "[encoded data removed]",
      "text/plain": [
       "<Figure size 432x288 with 1 Axes>"
      ]
     },
     "metadata": {
      "needs_background": "light"
     },
     "output_type": "display_data"
    },
    {
     "data": {
      "image/png": "[encoded data removed]",
      "text/plain": [
       "<Figure size 432x288 with 1 Axes>"
      ]
     },
     "metadata": {
      "needs_background": "light"
     },
     "output_type": "display_data"
    },
    {
     "data": {
      "image/png": "[encoded data removed]",
      "text/plain": [
       "<Figure size 432x288 with 1 Axes>"
      ]
     },
     "metadata": {
      "needs_background": "light"
     },
     "output_type": "display_data"
    }
   ],
   "source": [
    "merged.groupby(merged['Test Date']).agg({'Tavg': np.mean})['2007'].plot(title='Average Temperature (2007)')\n",
    "merged.groupby(merged['Test Date']).agg({'Tavg': np.mean})['2009'].plot(title='Average Temperature (2009)')\n",
    "merged.groupby(merged['Test Date']).agg({'Tavg': np.mean})['2011'].plot(title='Average Temperature (2011)')\n",
    "merged.groupby(merged['Test Date']).agg({'Tavg': np.mean})['2013'].plot(title='Average Temperature (2013)')"
   ]
  },
  {
   "cell_type": "markdown",
   "metadata": {},
   "source": [
    "#### Visualizations: Factors that Affect Number of Mosquitos"
   ]
  },
  {
   "cell_type": "code",
   "execution_count": 25,
   "metadata": {},
   "outputs": [
    {
     "data": {
      "text/plain": [
       "Index(['Test Date', 'Species', 'Trap', 'AddressNumberAndStreet', 'Latitude',\n",
       "       'Longitude', 'AddressAccuracy', 'NumMosquitos', 'WnvPresent', 'Station',\n",
       "       'Tmax', 'Tmin', 'Tavg', 'Depart', 'DewPoint', 'WetBulb', 'Heat', 'Cool',\n",
       "       'Sunrise', 'Sunset', 'CodeSum', 'Depth', 'SnowFall', 'PrecipTotal',\n",
       "       'StnPressure', 'SeaLevel', 'ResultSpeed', 'ResultDir', 'AvgSpeed',\n",
       "       'Year', 'Month', 'Day', 'DaylightDuration', 'midpt_Lat', 'midpt_Lon',\n",
       "       'Spray Date'],\n",
       "      dtype='object')"
      ]
     },
     "execution_count": 25,
     "metadata": {},
     "output_type": "execute_result"
    }
   ],
   "source": [
    "merged.columns"
   ]
  },
  {
   "cell_type": "code",
   "execution_count": 47,
   "metadata": {},
   "outputs": [],
   "source": [
    "Tavg_vs_NumMossie = merged.groupby('Tavg')['NumMosquitos'].sum()"
   ]
  },
  {
   "cell_type": "code",
   "execution_count": 51,
   "metadata": {},
   "outputs": [
    {
     "data": {
      "text/plain": [
       "Tavg\n",
       "50     80\n",
       "51    127\n",
       "52    853\n",
       "53     57\n",
       "54    723\n",
       "Name: NumMosquitos, dtype: int64"
      ]
     },
     "execution_count": 51,
     "metadata": {},
     "output_type": "execute_result"
    }
   ],
   "source": [
    "Tavg_vs_NumMossie.head()"
   ]
  },
  {
   "cell_type": "code",
   "execution_count": 52,
   "metadata": {},
   "outputs": [
    {
     "data": {
      "text/plain": [
       "Text(0.5, 1.0, 'Temperature vs. Number of Mosquitos')"
      ]
     },
     "execution_count": 52,
     "metadata": {},
     "output_type": "execute_result"
    },
    {
     "data": {
      "image/png": "[encoded data removed]",
      "text/plain": [
       "<Figure size 432x288 with 1 Axes>"
      ]
     },
     "metadata": {
      "needs_background": "light"
     },
     "output_type": "display_data"
    }
   ],
   "source": [
    "plt.scatter(merged.groupby('Tavg')['NumMosquitos'].sum().index, merged.groupby('Tavg')['NumMosquitos'].sum().values, c='g')\n",
    "plt.xlabel('Average Daily Temperature')\n",
    "plt.ylabel('Number of Mosquitos in Trap')\n",
    "plt.title('Temperature vs. Number of Mosquitos')"
   ]
  },
  {
   "cell_type": "code",
   "execution_count": 53,
   "metadata": {},
   "outputs": [
    {
     "data": {
      "text/plain": [
       "Text(0.5, 1.0, 'Min Temperature vs. Number of Mosquitos')"
      ]
     },
     "execution_count": 53,
     "metadata": {},
     "output_type": "execute_result"
    },
    {
     "data": {
      "image/png": "[encoded data removed]",
      "text/plain": [
       "<Figure size 432x288 with 1 Axes>"
      ]
     },
     "metadata": {
      "needs_background": "light"
     },
     "output_type": "display_data"
    }
   ],
   "source": [
    "plt.scatter(merged.groupby('Tmin')['NumMosquitos'].sum().index, merged.groupby('Tmin')['NumMosquitos'].sum().values, c='r')\n",
    "plt.xlabel('Min Temperature')\n",
    "plt.ylabel('Number of Mosquitos')\n",
    "plt.title('Min Temperature vs. Number of Mosquitos')"
   ]
  },
  {
   "cell_type": "code",
   "execution_count": 54,
   "metadata": {},
   "outputs": [
    {
     "data": {
      "text/plain": [
       "Text(0.5, 1.0, 'Sunrise Time vs. Number of Mosquitos')"
      ]
     },
     "execution_count": 54,
     "metadata": {},
     "output_type": "execute_result"
    },
    {
     "data": {
      "image/png": "[encoded data removed]",
      "text/plain": [
       "<Figure size 432x288 with 1 Axes>"
      ]
     },
     "metadata": {
      "needs_background": "light"
     },
     "output_type": "display_data"
    }
   ],
   "source": [
    "plt.scatter(merged.groupby('Sunrise')['NumMosquitos'].sum().index, merged.groupby('Sunrise')['NumMosquitos'].sum().values, c='y')\n",
    "plt.title('Sunrise Time vs. Number of Mosquitos')"
   ]
  },
  {
   "cell_type": "code",
   "execution_count": 55,
   "metadata": {},
   "outputs": [
    {
     "data": {
      "text/plain": [
       "Text(0.5, 1.0, 'Sunset Time vs. Number of Mosquitos')"
      ]
     },
     "execution_count": 55,
     "metadata": {},
     "output_type": "execute_result"
    },
    {
     "data": {
      "image/png": "[encoded data removed]",
      "text/plain": [
       "<Figure size 432x288 with 1 Axes>"
      ]
     },
     "metadata": {
      "needs_background": "light"
     },
     "output_type": "display_data"
    }
   ],
   "source": [
    "plt.scatter(merged.groupby('Sunset')['NumMosquitos'].sum().index, merged.groupby('Sunset')['NumMosquitos'].sum().values, c='y')\n",
    "plt.title('Sunset Time vs. Number of Mosquitos')"
   ]
  },
  {
   "cell_type": "code",
   "execution_count": 56,
   "metadata": {},
   "outputs": [
    {
     "data": {
      "text/plain": [
       "Text(0.5, 1.0, 'PrecipTotal vs. Number of Mosquitos')"
      ]
     },
     "execution_count": 56,
     "metadata": {},
     "output_type": "execute_result"
    },
    {
     "data": {
      "image/png": "[encoded data removed]",
      "text/plain": [
       "<Figure size 432x288 with 1 Axes>"
      ]
     },
     "metadata": {
      "needs_background": "light"
     },
     "output_type": "display_data"
    }
   ],
   "source": [
    "plt.scatter(merged.groupby('PrecipTotal')['NumMosquitos'].sum().index, merged.groupby('PrecipTotal')['NumMosquitos'].sum().values, c='b')\n",
    "plt.title('PrecipTotal vs. Number of Mosquitos')"
   ]
  },
  {
   "cell_type": "code",
   "execution_count": 57,
   "metadata": {},
   "outputs": [],
   "source": [
    "# plt.scatter(merged.PrecipTotal, merged.NumMosquitos, c='b')"
   ]
  },
  {
   "cell_type": "markdown",
   "metadata": {},
   "source": [
    "### Occurrences of WNV over Time"
   ]
  },
  {
   "cell_type": "code",
   "execution_count": 59,
   "metadata": {
    "scrolled": true
   },
   "outputs": [
    {
     "data": {
      "text/html": [
       "<div>\n",
       "<style scoped>\n",
       "    .dataframe tbody tr th:only-of-type {\n",
       "        vertical-align: middle;\n",
       "    }\n",
       "\n",
       "    .dataframe tbody tr th {\n",
       "        vertical-align: top;\n",
       "    }\n",
       "\n",
       "    .dataframe thead th {\n",
       "        text-align: right;\n",
       "    }\n",
       "</style>\n",
       "<table border=\"1\" class=\"dataframe\">\n",
       "  <thead>\n",
       "    <tr style=\"text-align: right;\">\n",
       "      <th></th>\n",
       "      <th>Test Date</th>\n",
       "      <th>Species</th>\n",
       "      <th>Trap</th>\n",
       "      <th>AddressNumberAndStreet</th>\n",
       "      <th>Latitude</th>\n",
       "      <th>Longitude</th>\n",
       "      <th>AddressAccuracy</th>\n",
       "      <th>NumMosquitos</th>\n",
       "      <th>WnvPresent</th>\n",
       "      <th>Station</th>\n",
       "      <th>Tmax</th>\n",
       "      <th>Tmin</th>\n",
       "      <th>Tavg</th>\n",
       "      <th>Depart</th>\n",
       "      <th>DewPoint</th>\n",
       "      <th>WetBulb</th>\n",
       "      <th>Heat</th>\n",
       "      <th>Cool</th>\n",
       "      <th>Sunrise</th>\n",
       "      <th>Sunset</th>\n",
       "      <th>CodeSum</th>\n",
       "      <th>Depth</th>\n",
       "      <th>SnowFall</th>\n",
       "      <th>PrecipTotal</th>\n",
       "      <th>StnPressure</th>\n",
       "      <th>SeaLevel</th>\n",
       "      <th>ResultSpeed</th>\n",
       "      <th>ResultDir</th>\n",
       "      <th>AvgSpeed</th>\n",
       "      <th>Year</th>\n",
       "      <th>Month</th>\n",
       "      <th>Day</th>\n",
       "      <th>DaylightDuration</th>\n",
       "      <th>midpt_Lat</th>\n",
       "      <th>midpt_Lon</th>\n",
       "      <th>Spray Date</th>\n",
       "    </tr>\n",
       "  </thead>\n",
       "  <tbody>\n",
       "    <tr>\n",
       "      <td>0</td>\n",
       "      <td>2007-05-29</td>\n",
       "      <td>CULEX PIPIENS/RESTUANS</td>\n",
       "      <td>T002</td>\n",
       "      <td>4100  N OAK PARK AVE, Chicago, IL</td>\n",
       "      <td>41.954690</td>\n",
       "      <td>-87.800991</td>\n",
       "      <td>9</td>\n",
       "      <td>1</td>\n",
       "      <td>0</td>\n",
       "      <td>1</td>\n",
       "      <td>88</td>\n",
       "      <td>60</td>\n",
       "      <td>74</td>\n",
       "      <td>10</td>\n",
       "      <td>58</td>\n",
       "      <td>65</td>\n",
       "      <td>0</td>\n",
       "      <td>9</td>\n",
       "      <td>2007-05-29 04:21:00</td>\n",
       "      <td>2007-05-29 19:17:00</td>\n",
       "      <td>BR HZ</td>\n",
       "      <td>0</td>\n",
       "      <td>0.0</td>\n",
       "      <td>0.0</td>\n",
       "      <td>29.39</td>\n",
       "      <td>30.11</td>\n",
       "      <td>5.8</td>\n",
       "      <td>18</td>\n",
       "      <td>6.5</td>\n",
       "      <td>2007</td>\n",
       "      <td>5</td>\n",
       "      <td>29</td>\n",
       "      <td>0 days 14:56:00.000000000</td>\n",
       "      <td>41.957809</td>\n",
       "      <td>-87.780646</td>\n",
       "      <td>2013-08-16</td>\n",
       "    </tr>\n",
       "    <tr>\n",
       "      <td>1</td>\n",
       "      <td>2007-05-29</td>\n",
       "      <td>CULEX RESTUANS</td>\n",
       "      <td>T002</td>\n",
       "      <td>4100  N OAK PARK AVE, Chicago, IL</td>\n",
       "      <td>41.954690</td>\n",
       "      <td>-87.800991</td>\n",
       "      <td>9</td>\n",
       "      <td>1</td>\n",
       "      <td>0</td>\n",
       "      <td>1</td>\n",
       "      <td>88</td>\n",
       "      <td>60</td>\n",
       "      <td>74</td>\n",
       "      <td>10</td>\n",
       "      <td>58</td>\n",
       "      <td>65</td>\n",
       "      <td>0</td>\n",
       "      <td>9</td>\n",
       "      <td>2007-05-29 04:21:00</td>\n",
       "      <td>2007-05-29 19:17:00</td>\n",
       "      <td>BR HZ</td>\n",
       "      <td>0</td>\n",
       "      <td>0.0</td>\n",
       "      <td>0.0</td>\n",
       "      <td>29.39</td>\n",
       "      <td>30.11</td>\n",
       "      <td>5.8</td>\n",
       "      <td>18</td>\n",
       "      <td>6.5</td>\n",
       "      <td>2007</td>\n",
       "      <td>5</td>\n",
       "      <td>29</td>\n",
       "      <td>0 days 14:56:00.000000000</td>\n",
       "      <td>41.957809</td>\n",
       "      <td>-87.780646</td>\n",
       "      <td>2013-08-16</td>\n",
       "    </tr>\n",
       "    <tr>\n",
       "      <td>2</td>\n",
       "      <td>2007-05-29</td>\n",
       "      <td>CULEX RESTUANS</td>\n",
       "      <td>T007</td>\n",
       "      <td>6200  N MANDELL AVE, Chicago, IL</td>\n",
       "      <td>41.994991</td>\n",
       "      <td>-87.769279</td>\n",
       "      <td>9</td>\n",
       "      <td>1</td>\n",
       "      <td>0</td>\n",
       "      <td>1</td>\n",
       "      <td>88</td>\n",
       "      <td>60</td>\n",
       "      <td>74</td>\n",
       "      <td>10</td>\n",
       "      <td>58</td>\n",
       "      <td>65</td>\n",
       "      <td>0</td>\n",
       "      <td>9</td>\n",
       "      <td>2007-05-29 04:21:00</td>\n",
       "      <td>2007-05-29 19:17:00</td>\n",
       "      <td>BR HZ</td>\n",
       "      <td>0</td>\n",
       "      <td>0.0</td>\n",
       "      <td>0.0</td>\n",
       "      <td>29.39</td>\n",
       "      <td>30.11</td>\n",
       "      <td>5.8</td>\n",
       "      <td>18</td>\n",
       "      <td>6.5</td>\n",
       "      <td>2007</td>\n",
       "      <td>5</td>\n",
       "      <td>29</td>\n",
       "      <td>0 days 14:56:00.000000000</td>\n",
       "      <td>41.982275</td>\n",
       "      <td>-87.809953</td>\n",
       "      <td>2011-07-09</td>\n",
       "    </tr>\n",
       "    <tr>\n",
       "      <td>3</td>\n",
       "      <td>2007-05-29</td>\n",
       "      <td>CULEX PIPIENS/RESTUANS</td>\n",
       "      <td>T015</td>\n",
       "      <td>7900  W FOSTER AVE, Chicago, IL</td>\n",
       "      <td>41.974089</td>\n",
       "      <td>-87.824812</td>\n",
       "      <td>8</td>\n",
       "      <td>1</td>\n",
       "      <td>0</td>\n",
       "      <td>1</td>\n",
       "      <td>88</td>\n",
       "      <td>60</td>\n",
       "      <td>74</td>\n",
       "      <td>10</td>\n",
       "      <td>58</td>\n",
       "      <td>65</td>\n",
       "      <td>0</td>\n",
       "      <td>9</td>\n",
       "      <td>2007-05-29 04:21:00</td>\n",
       "      <td>2007-05-29 19:17:00</td>\n",
       "      <td>BR HZ</td>\n",
       "      <td>0</td>\n",
       "      <td>0.0</td>\n",
       "      <td>0.0</td>\n",
       "      <td>29.39</td>\n",
       "      <td>30.11</td>\n",
       "      <td>5.8</td>\n",
       "      <td>18</td>\n",
       "      <td>6.5</td>\n",
       "      <td>2007</td>\n",
       "      <td>5</td>\n",
       "      <td>29</td>\n",
       "      <td>0 days 14:56:00.000000000</td>\n",
       "      <td>41.982275</td>\n",
       "      <td>-87.809953</td>\n",
       "      <td>2011-07-09</td>\n",
       "    </tr>\n",
       "    <tr>\n",
       "      <td>4</td>\n",
       "      <td>2007-05-29</td>\n",
       "      <td>CULEX RESTUANS</td>\n",
       "      <td>T015</td>\n",
       "      <td>7900  W FOSTER AVE, Chicago, IL</td>\n",
       "      <td>41.974089</td>\n",
       "      <td>-87.824812</td>\n",
       "      <td>8</td>\n",
       "      <td>4</td>\n",
       "      <td>0</td>\n",
       "      <td>1</td>\n",
       "      <td>88</td>\n",
       "      <td>60</td>\n",
       "      <td>74</td>\n",
       "      <td>10</td>\n",
       "      <td>58</td>\n",
       "      <td>65</td>\n",
       "      <td>0</td>\n",
       "      <td>9</td>\n",
       "      <td>2007-05-29 04:21:00</td>\n",
       "      <td>2007-05-29 19:17:00</td>\n",
       "      <td>BR HZ</td>\n",
       "      <td>0</td>\n",
       "      <td>0.0</td>\n",
       "      <td>0.0</td>\n",
       "      <td>29.39</td>\n",
       "      <td>30.11</td>\n",
       "      <td>5.8</td>\n",
       "      <td>18</td>\n",
       "      <td>6.5</td>\n",
       "      <td>2007</td>\n",
       "      <td>5</td>\n",
       "      <td>29</td>\n",
       "      <td>0 days 14:56:00.000000000</td>\n",
       "      <td>41.982275</td>\n",
       "      <td>-87.809953</td>\n",
       "      <td>2011-07-09</td>\n",
       "    </tr>\n",
       "  </tbody>\n",
       "</table>\n",
       "</div>"
      ],
      "text/plain": [
       "   Test Date                 Species  Trap             AddressNumberAndStreet  \\\n",
       "0 2007-05-29  CULEX PIPIENS/RESTUANS  T002  4100  N OAK PARK AVE, Chicago, IL   \n",
       "1 2007-05-29          CULEX RESTUANS  T002  4100  N OAK PARK AVE, Chicago, IL   \n",
       "2 2007-05-29          CULEX RESTUANS  T007   6200  N MANDELL AVE, Chicago, IL   \n",
       "3 2007-05-29  CULEX PIPIENS/RESTUANS  T015    7900  W FOSTER AVE, Chicago, IL   \n",
       "4 2007-05-29          CULEX RESTUANS  T015    7900  W FOSTER AVE, Chicago, IL   \n",
       "\n",
       "    Latitude  Longitude  AddressAccuracy  NumMosquitos  WnvPresent  Station  \\\n",
       "0  41.954690 -87.800991                9             1           0        1   \n",
       "1  41.954690 -87.800991                9             1           0        1   \n",
       "2  41.994991 -87.769279                9             1           0        1   \n",
       "3  41.974089 -87.824812                8             1           0        1   \n",
       "4  41.974089 -87.824812                8             4           0        1   \n",
       "\n",
       "   Tmax  Tmin  Tavg  Depart  DewPoint  WetBulb  Heat  Cool  \\\n",
       "0    88    60    74      10        58       65     0     9   \n",
       "1    88    60    74      10        58       65     0     9   \n",
       "2    88    60    74      10        58       65     0     9   \n",
       "3    88    60    74      10        58       65     0     9   \n",
       "4    88    60    74      10        58       65     0     9   \n",
       "\n",
       "               Sunrise               Sunset CodeSum  Depth  SnowFall  \\\n",
       "0  2007-05-29 04:21:00  2007-05-29 19:17:00   BR HZ      0       0.0   \n",
       "1  2007-05-29 04:21:00  2007-05-29 19:17:00   BR HZ      0       0.0   \n",
       "2  2007-05-29 04:21:00  2007-05-29 19:17:00   BR HZ      0       0.0   \n",
       "3  2007-05-29 04:21:00  2007-05-29 19:17:00   BR HZ      0       0.0   \n",
       "4  2007-05-29 04:21:00  2007-05-29 19:17:00   BR HZ      0       0.0   \n",
       "\n",
       "   PrecipTotal  StnPressure  SeaLevel  ResultSpeed  ResultDir  AvgSpeed  Year  \\\n",
       "0          0.0        29.39     30.11          5.8         18       6.5  2007   \n",
       "1          0.0        29.39     30.11          5.8         18       6.5  2007   \n",
       "2          0.0        29.39     30.11          5.8         18       6.5  2007   \n",
       "3          0.0        29.39     30.11          5.8         18       6.5  2007   \n",
       "4          0.0        29.39     30.11          5.8         18       6.5  2007   \n",
       "\n",
       "   Month  Day           DaylightDuration  midpt_Lat  midpt_Lon Spray Date  \n",
       "0      5   29  0 days 14:56:00.000000000  41.957809 -87.780646 2013-08-16  \n",
       "1      5   29  0 days 14:56:00.000000000  41.957809 -87.780646 2013-08-16  \n",
       "2      5   29  0 days 14:56:00.000000000  41.982275 -87.809953 2011-07-09  \n",
       "3      5   29  0 days 14:56:00.000000000  41.982275 -87.809953 2011-07-09  \n",
       "4      5   29  0 days 14:56:00.000000000  41.982275 -87.809953 2011-07-09  "
      ]
     },
     "execution_count": 59,
     "metadata": {},
     "output_type": "execute_result"
    }
   ],
   "source": [
    "merged.head()"
   ]
  },
  {
   "cell_type": "code",
   "execution_count": 68,
   "metadata": {},
   "outputs": [],
   "source": [
    "merged_2007 = merged[merged['Year'] == 2007].set_index('Test Date')\n",
    "merged_2009 = merged[merged['Year'] == 2009].set_index('Test Date')\n",
    "merged_2011 = merged[merged['Year'] == 2011].set_index('Test Date')\n",
    "merged_2013 = merged[merged['Year'] == 2013].set_index('Test Date')"
   ]
  },
  {
   "cell_type": "code",
   "execution_count": 69,
   "metadata": {},
   "outputs": [
    {
     "data": {
      "image/png": "[encoded data removed]",
      "text/plain": [
       "<Figure size 792x504 with 4 Axes>"
      ]
     },
     "metadata": {
      "needs_background": "light"
     },
     "output_type": "display_data"
    }
   ],
   "source": [
    "fig, axes = plt.subplots(nrows=2, ncols=2, figsize=(11, 7))\n",
    "ax0, ax1, ax2, ax3 = axes.flat\n",
    "\n",
    "ax0.plot(merged_2007[['WnvPresent']].resample('M').apply(sum))\n",
    "ax1.plot(merged_2009[['WnvPresent']].resample('M').apply(sum))\n",
    "ax2.plot(merged_2011[['WnvPresent']].resample('M').apply(sum))\n",
    "ax3.plot(merged_2013[['WnvPresent']].resample('M').apply(sum))\n",
    "\n",
    "plt.tight_layout()"
   ]
  },
  {
   "cell_type": "code",
   "execution_count": 70,
   "metadata": {},
   "outputs": [
    {
     "data": {
      "text/html": [
       "<div>\n",
       "<style scoped>\n",
       "    .dataframe tbody tr th:only-of-type {\n",
       "        vertical-align: middle;\n",
       "    }\n",
       "\n",
       "    .dataframe tbody tr th {\n",
       "        vertical-align: top;\n",
       "    }\n",
       "\n",
       "    .dataframe thead th {\n",
       "        text-align: right;\n",
       "    }\n",
       "</style>\n",
       "<table border=\"1\" class=\"dataframe\">\n",
       "  <thead>\n",
       "    <tr style=\"text-align: right;\">\n",
       "      <th></th>\n",
       "      <th>Test Date</th>\n",
       "      <th>Species</th>\n",
       "      <th>Trap</th>\n",
       "      <th>AddressNumberAndStreet</th>\n",
       "      <th>Latitude</th>\n",
       "      <th>Longitude</th>\n",
       "      <th>AddressAccuracy</th>\n",
       "      <th>NumMosquitos</th>\n",
       "      <th>WnvPresent</th>\n",
       "      <th>Station</th>\n",
       "      <th>Tmax</th>\n",
       "      <th>Tmin</th>\n",
       "      <th>Tavg</th>\n",
       "      <th>Depart</th>\n",
       "      <th>DewPoint</th>\n",
       "      <th>WetBulb</th>\n",
       "      <th>Heat</th>\n",
       "      <th>Cool</th>\n",
       "      <th>Sunrise</th>\n",
       "      <th>Sunset</th>\n",
       "      <th>CodeSum</th>\n",
       "      <th>Depth</th>\n",
       "      <th>SnowFall</th>\n",
       "      <th>PrecipTotal</th>\n",
       "      <th>StnPressure</th>\n",
       "      <th>SeaLevel</th>\n",
       "      <th>ResultSpeed</th>\n",
       "      <th>ResultDir</th>\n",
       "      <th>AvgSpeed</th>\n",
       "      <th>Year</th>\n",
       "      <th>Month</th>\n",
       "      <th>Day</th>\n",
       "      <th>DaylightDuration</th>\n",
       "      <th>midpt_Lat</th>\n",
       "      <th>midpt_Lon</th>\n",
       "      <th>Spray Date</th>\n",
       "    </tr>\n",
       "  </thead>\n",
       "  <tbody>\n",
       "    <tr>\n",
       "      <td>0</td>\n",
       "      <td>2007-05-29</td>\n",
       "      <td>CULEX PIPIENS/RESTUANS</td>\n",
       "      <td>T002</td>\n",
       "      <td>4100  N OAK PARK AVE, Chicago, IL</td>\n",
       "      <td>41.954690</td>\n",
       "      <td>-87.800991</td>\n",
       "      <td>9</td>\n",
       "      <td>1</td>\n",
       "      <td>0</td>\n",
       "      <td>1</td>\n",
       "      <td>88</td>\n",
       "      <td>60</td>\n",
       "      <td>74</td>\n",
       "      <td>10</td>\n",
       "      <td>58</td>\n",
       "      <td>65</td>\n",
       "      <td>0</td>\n",
       "      <td>9</td>\n",
       "      <td>2007-05-29 04:21:00</td>\n",
       "      <td>2007-05-29 19:17:00</td>\n",
       "      <td>BR HZ</td>\n",
       "      <td>0</td>\n",
       "      <td>0.0</td>\n",
       "      <td>0.0</td>\n",
       "      <td>29.39</td>\n",
       "      <td>30.11</td>\n",
       "      <td>5.8</td>\n",
       "      <td>18</td>\n",
       "      <td>6.5</td>\n",
       "      <td>2007</td>\n",
       "      <td>5</td>\n",
       "      <td>29</td>\n",
       "      <td>0 days 14:56:00.000000000</td>\n",
       "      <td>41.957809</td>\n",
       "      <td>-87.780646</td>\n",
       "      <td>2013-08-16</td>\n",
       "    </tr>\n",
       "    <tr>\n",
       "      <td>1</td>\n",
       "      <td>2007-05-29</td>\n",
       "      <td>CULEX RESTUANS</td>\n",
       "      <td>T002</td>\n",
       "      <td>4100  N OAK PARK AVE, Chicago, IL</td>\n",
       "      <td>41.954690</td>\n",
       "      <td>-87.800991</td>\n",
       "      <td>9</td>\n",
       "      <td>1</td>\n",
       "      <td>0</td>\n",
       "      <td>1</td>\n",
       "      <td>88</td>\n",
       "      <td>60</td>\n",
       "      <td>74</td>\n",
       "      <td>10</td>\n",
       "      <td>58</td>\n",
       "      <td>65</td>\n",
       "      <td>0</td>\n",
       "      <td>9</td>\n",
       "      <td>2007-05-29 04:21:00</td>\n",
       "      <td>2007-05-29 19:17:00</td>\n",
       "      <td>BR HZ</td>\n",
       "      <td>0</td>\n",
       "      <td>0.0</td>\n",
       "      <td>0.0</td>\n",
       "      <td>29.39</td>\n",
       "      <td>30.11</td>\n",
       "      <td>5.8</td>\n",
       "      <td>18</td>\n",
       "      <td>6.5</td>\n",
       "      <td>2007</td>\n",
       "      <td>5</td>\n",
       "      <td>29</td>\n",
       "      <td>0 days 14:56:00.000000000</td>\n",
       "      <td>41.957809</td>\n",
       "      <td>-87.780646</td>\n",
       "      <td>2013-08-16</td>\n",
       "    </tr>\n",
       "    <tr>\n",
       "      <td>2</td>\n",
       "      <td>2007-05-29</td>\n",
       "      <td>CULEX RESTUANS</td>\n",
       "      <td>T007</td>\n",
       "      <td>6200  N MANDELL AVE, Chicago, IL</td>\n",
       "      <td>41.994991</td>\n",
       "      <td>-87.769279</td>\n",
       "      <td>9</td>\n",
       "      <td>1</td>\n",
       "      <td>0</td>\n",
       "      <td>1</td>\n",
       "      <td>88</td>\n",
       "      <td>60</td>\n",
       "      <td>74</td>\n",
       "      <td>10</td>\n",
       "      <td>58</td>\n",
       "      <td>65</td>\n",
       "      <td>0</td>\n",
       "      <td>9</td>\n",
       "      <td>2007-05-29 04:21:00</td>\n",
       "      <td>2007-05-29 19:17:00</td>\n",
       "      <td>BR HZ</td>\n",
       "      <td>0</td>\n",
       "      <td>0.0</td>\n",
       "      <td>0.0</td>\n",
       "      <td>29.39</td>\n",
       "      <td>30.11</td>\n",
       "      <td>5.8</td>\n",
       "      <td>18</td>\n",
       "      <td>6.5</td>\n",
       "      <td>2007</td>\n",
       "      <td>5</td>\n",
       "      <td>29</td>\n",
       "      <td>0 days 14:56:00.000000000</td>\n",
       "      <td>41.982275</td>\n",
       "      <td>-87.809953</td>\n",
       "      <td>2011-07-09</td>\n",
       "    </tr>\n",
       "    <tr>\n",
       "      <td>3</td>\n",
       "      <td>2007-05-29</td>\n",
       "      <td>CULEX PIPIENS/RESTUANS</td>\n",
       "      <td>T015</td>\n",
       "      <td>7900  W FOSTER AVE, Chicago, IL</td>\n",
       "      <td>41.974089</td>\n",
       "      <td>-87.824812</td>\n",
       "      <td>8</td>\n",
       "      <td>1</td>\n",
       "      <td>0</td>\n",
       "      <td>1</td>\n",
       "      <td>88</td>\n",
       "      <td>60</td>\n",
       "      <td>74</td>\n",
       "      <td>10</td>\n",
       "      <td>58</td>\n",
       "      <td>65</td>\n",
       "      <td>0</td>\n",
       "      <td>9</td>\n",
       "      <td>2007-05-29 04:21:00</td>\n",
       "      <td>2007-05-29 19:17:00</td>\n",
       "      <td>BR HZ</td>\n",
       "      <td>0</td>\n",
       "      <td>0.0</td>\n",
       "      <td>0.0</td>\n",
       "      <td>29.39</td>\n",
       "      <td>30.11</td>\n",
       "      <td>5.8</td>\n",
       "      <td>18</td>\n",
       "      <td>6.5</td>\n",
       "      <td>2007</td>\n",
       "      <td>5</td>\n",
       "      <td>29</td>\n",
       "      <td>0 days 14:56:00.000000000</td>\n",
       "      <td>41.982275</td>\n",
       "      <td>-87.809953</td>\n",
       "      <td>2011-07-09</td>\n",
       "    </tr>\n",
       "    <tr>\n",
       "      <td>4</td>\n",
       "      <td>2007-05-29</td>\n",
       "      <td>CULEX RESTUANS</td>\n",
       "      <td>T015</td>\n",
       "      <td>7900  W FOSTER AVE, Chicago, IL</td>\n",
       "      <td>41.974089</td>\n",
       "      <td>-87.824812</td>\n",
       "      <td>8</td>\n",
       "      <td>4</td>\n",
       "      <td>0</td>\n",
       "      <td>1</td>\n",
       "      <td>88</td>\n",
       "      <td>60</td>\n",
       "      <td>74</td>\n",
       "      <td>10</td>\n",
       "      <td>58</td>\n",
       "      <td>65</td>\n",
       "      <td>0</td>\n",
       "      <td>9</td>\n",
       "      <td>2007-05-29 04:21:00</td>\n",
       "      <td>2007-05-29 19:17:00</td>\n",
       "      <td>BR HZ</td>\n",
       "      <td>0</td>\n",
       "      <td>0.0</td>\n",
       "      <td>0.0</td>\n",
       "      <td>29.39</td>\n",
       "      <td>30.11</td>\n",
       "      <td>5.8</td>\n",
       "      <td>18</td>\n",
       "      <td>6.5</td>\n",
       "      <td>2007</td>\n",
       "      <td>5</td>\n",
       "      <td>29</td>\n",
       "      <td>0 days 14:56:00.000000000</td>\n",
       "      <td>41.982275</td>\n",
       "      <td>-87.809953</td>\n",
       "      <td>2011-07-09</td>\n",
       "    </tr>\n",
       "  </tbody>\n",
       "</table>\n",
       "</div>"
      ],
      "text/plain": [
       "   Test Date                 Species  Trap             AddressNumberAndStreet  \\\n",
       "0 2007-05-29  CULEX PIPIENS/RESTUANS  T002  4100  N OAK PARK AVE, Chicago, IL   \n",
       "1 2007-05-29          CULEX RESTUANS  T002  4100  N OAK PARK AVE, Chicago, IL   \n",
       "2 2007-05-29          CULEX RESTUANS  T007   6200  N MANDELL AVE, Chicago, IL   \n",
       "3 2007-05-29  CULEX PIPIENS/RESTUANS  T015    7900  W FOSTER AVE, Chicago, IL   \n",
       "4 2007-05-29          CULEX RESTUANS  T015    7900  W FOSTER AVE, Chicago, IL   \n",
       "\n",
       "    Latitude  Longitude  AddressAccuracy  NumMosquitos  WnvPresent  Station  \\\n",
       "0  41.954690 -87.800991                9             1           0        1   \n",
       "1  41.954690 -87.800991                9             1           0        1   \n",
       "2  41.994991 -87.769279                9             1           0        1   \n",
       "3  41.974089 -87.824812                8             1           0        1   \n",
       "4  41.974089 -87.824812                8             4           0        1   \n",
       "\n",
       "   Tmax  Tmin  Tavg  Depart  DewPoint  WetBulb  Heat  Cool  \\\n",
       "0    88    60    74      10        58       65     0     9   \n",
       "1    88    60    74      10        58       65     0     9   \n",
       "2    88    60    74      10        58       65     0     9   \n",
       "3    88    60    74      10        58       65     0     9   \n",
       "4    88    60    74      10        58       65     0     9   \n",
       "\n",
       "               Sunrise               Sunset CodeSum  Depth  SnowFall  \\\n",
       "0  2007-05-29 04:21:00  2007-05-29 19:17:00   BR HZ      0       0.0   \n",
       "1  2007-05-29 04:21:00  2007-05-29 19:17:00   BR HZ      0       0.0   \n",
       "2  2007-05-29 04:21:00  2007-05-29 19:17:00   BR HZ      0       0.0   \n",
       "3  2007-05-29 04:21:00  2007-05-29 19:17:00   BR HZ      0       0.0   \n",
       "4  2007-05-29 04:21:00  2007-05-29 19:17:00   BR HZ      0       0.0   \n",
       "\n",
       "   PrecipTotal  StnPressure  SeaLevel  ResultSpeed  ResultDir  AvgSpeed  Year  \\\n",
       "0          0.0        29.39     30.11          5.8         18       6.5  2007   \n",
       "1          0.0        29.39     30.11          5.8         18       6.5  2007   \n",
       "2          0.0        29.39     30.11          5.8         18       6.5  2007   \n",
       "3          0.0        29.39     30.11          5.8         18       6.5  2007   \n",
       "4          0.0        29.39     30.11          5.8         18       6.5  2007   \n",
       "\n",
       "   Month  Day           DaylightDuration  midpt_Lat  midpt_Lon Spray Date  \n",
       "0      5   29  0 days 14:56:00.000000000  41.957809 -87.780646 2013-08-16  \n",
       "1      5   29  0 days 14:56:00.000000000  41.957809 -87.780646 2013-08-16  \n",
       "2      5   29  0 days 14:56:00.000000000  41.982275 -87.809953 2011-07-09  \n",
       "3      5   29  0 days 14:56:00.000000000  41.982275 -87.809953 2011-07-09  \n",
       "4      5   29  0 days 14:56:00.000000000  41.982275 -87.809953 2011-07-09  "
      ]
     },
     "execution_count": 70,
     "metadata": {},
     "output_type": "execute_result"
    }
   ],
   "source": [
    "merged.head()"
   ]
  },
  {
   "cell_type": "code",
   "execution_count": null,
   "metadata": {},
   "outputs": [],
   "source": []
  }
 ],
 "metadata": {
  "kernelspec": {
   "display_name": "Python 3",
   "language": "python",
   "name": "python3"
  },
  "language_info": {
   "codemirror_mode": {
    "name": "ipython",
    "version": 3
   },
   "file_extension": ".py",
   "mimetype": "text/x-python",
   "name": "python",
   "nbconvert_exporter": "python",
   "pygments_lexer": "ipython3",
   "version": "3.7.4"
  }
 },
 "nbformat": 4,
 "nbformat_minor": 1
}
